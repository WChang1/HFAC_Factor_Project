{
 "cells": [
  {
   "cell_type": "code",
   "execution_count": 699,
   "metadata": {},
   "outputs": [],
   "source": [
    "import numpy as np\n",
    "import pandas as pd\n",
    "import matplotlib\n",
    "import matplotlib.pyplot as plt\n",
    "from sklearn.linear_model import LogisticRegressionCV\n",
    "import sklearn.metrics as metrics\n",
    "from sklearn.metrics import r2_score\n",
    "from sklearn.preprocessing import PolynomialFeatures\n",
    "from sklearn.discriminant_analysis import LinearDiscriminantAnalysis\n",
    "from sklearn.discriminant_analysis import QuadraticDiscriminantAnalysis\n",
    "from sklearn.tree import DecisionTreeClassifier\n",
    "from sklearn.model_selection import cross_val_score\n",
    "from sklearn.model_selection import cross_val_score\n",
    "from sklearn.metrics import accuracy_score\n",
    "import sklearn.discriminant_analysis as da\n",
    "import sklearn.neighbors as knn\n",
    "from sklearn.model_selection import KFold\n",
    "from sklearn.linear_model import LogisticRegression\n",
    "from sklearn.linear_model import LinearRegression\n",
    "from sklearn.metrics import confusion_matrix\n",
    "from sklearn.metrics import roc_curve, auc\n",
    "from sklearn.linear_model import Ridge\n",
    "from sklearn.linear_model import Lasso\n",
    "from sklearn.linear_model import RidgeCV\n",
    "from sklearn.linear_model import LassoCV\n",
    "from statsmodels.api import OLS\n",
    "from statsmodels.api import add_constant\n",
    "import statsmodels.api as sm\n",
    "import datetime\n",
    "\n",
    "#import pydotplus\n",
    "#import io\n",
    "from sklearn.tree import export_graphviz\n",
    "from IPython.display import Image\n",
    "from IPython.display import display\n",
    "%matplotlib inline\n",
    "from matplotlib import pyplot\n",
    "default_dims = (13, 10)\n",
    "import seaborn.apionly as sns #sets up styles and gives us more plotting options\n",
    "sns.set_style(\"whitegrid\")\n",
    "sns.set_context(\"poster\")\n",
    "sns.reset_orig()"
   ]
  },
  {
   "cell_type": "code",
   "execution_count": 701,
   "metadata": {
    "scrolled": false
   },
   "outputs": [
    {
     "name": "stdout",
     "output_type": "stream",
     "text": [
      "(13657, 6)\n"
     ]
    },
    {
     "data": {
      "text/html": [
       "<div>\n",
       "<style>\n",
       "    .dataframe thead tr:only-child th {\n",
       "        text-align: right;\n",
       "    }\n",
       "\n",
       "    .dataframe thead th {\n",
       "        text-align: left;\n",
       "    }\n",
       "\n",
       "    .dataframe tbody tr th {\n",
       "        vertical-align: top;\n",
       "    }\n",
       "</style>\n",
       "<table border=\"1\" class=\"dataframe\">\n",
       "  <thead>\n",
       "    <tr style=\"text-align: right;\">\n",
       "      <th></th>\n",
       "      <th>Mkt-RF</th>\n",
       "      <th>SMB</th>\n",
       "      <th>HML</th>\n",
       "      <th>RMW</th>\n",
       "      <th>CMA</th>\n",
       "      <th>RF</th>\n",
       "    </tr>\n",
       "    <tr>\n",
       "      <th>Date</th>\n",
       "      <th></th>\n",
       "      <th></th>\n",
       "      <th></th>\n",
       "      <th></th>\n",
       "      <th></th>\n",
       "      <th></th>\n",
       "    </tr>\n",
       "  </thead>\n",
       "  <tbody>\n",
       "    <tr>\n",
       "      <th>19630701</th>\n",
       "      <td>-0.67</td>\n",
       "      <td>0.00</td>\n",
       "      <td>-0.32</td>\n",
       "      <td>0.01</td>\n",
       "      <td>0.15</td>\n",
       "      <td>0.012</td>\n",
       "    </tr>\n",
       "    <tr>\n",
       "      <th>19630702</th>\n",
       "      <td>0.79</td>\n",
       "      <td>-0.27</td>\n",
       "      <td>0.27</td>\n",
       "      <td>-0.08</td>\n",
       "      <td>-0.19</td>\n",
       "      <td>0.012</td>\n",
       "    </tr>\n",
       "    <tr>\n",
       "      <th>19630703</th>\n",
       "      <td>0.63</td>\n",
       "      <td>-0.17</td>\n",
       "      <td>-0.09</td>\n",
       "      <td>0.19</td>\n",
       "      <td>-0.33</td>\n",
       "      <td>0.012</td>\n",
       "    </tr>\n",
       "    <tr>\n",
       "      <th>19630705</th>\n",
       "      <td>0.40</td>\n",
       "      <td>0.08</td>\n",
       "      <td>-0.28</td>\n",
       "      <td>0.07</td>\n",
       "      <td>-0.33</td>\n",
       "      <td>0.012</td>\n",
       "    </tr>\n",
       "    <tr>\n",
       "      <th>19630708</th>\n",
       "      <td>-0.63</td>\n",
       "      <td>0.04</td>\n",
       "      <td>-0.17</td>\n",
       "      <td>-0.31</td>\n",
       "      <td>0.13</td>\n",
       "      <td>0.012</td>\n",
       "    </tr>\n",
       "  </tbody>\n",
       "</table>\n",
       "</div>"
      ],
      "text/plain": [
       "          Mkt-RF   SMB   HML   RMW   CMA     RF\n",
       "Date                                           \n",
       "19630701   -0.67  0.00 -0.32  0.01  0.15  0.012\n",
       "19630702    0.79 -0.27  0.27 -0.08 -0.19  0.012\n",
       "19630703    0.63 -0.17 -0.09  0.19 -0.33  0.012\n",
       "19630705    0.40  0.08 -0.28  0.07 -0.33  0.012\n",
       "19630708   -0.63  0.04 -0.17 -0.31  0.13  0.012"
      ]
     },
     "execution_count": 701,
     "metadata": {},
     "output_type": "execute_result"
    }
   ],
   "source": [
    "five_factor_df = pd.read_csv('F-F_Research_Data_5_Factors_2x3_daily.CSV', index_col = 'Date')\n",
    "nan_rows = five_factor_df.isnull().T.any().T\n",
    "five_factor_df = five_factor_df[~nan_rows]\n",
    "print(np.shape(five_factor_df))\n",
    "five_factor_df.head()"
   ]
  },
  {
   "cell_type": "code",
   "execution_count": 702,
   "metadata": {},
   "outputs": [],
   "source": [
    "five_factor_df.index = pd.to_datetime(five_factor_df.index,format='%Y%m%d')"
   ]
  },
  {
   "cell_type": "code",
   "execution_count": 703,
   "metadata": {},
   "outputs": [
    {
     "name": "stdout",
     "output_type": "stream",
     "text": [
      "(24077, 4)\n"
     ]
    },
    {
     "data": {
      "text/html": [
       "<div>\n",
       "<style>\n",
       "    .dataframe thead tr:only-child th {\n",
       "        text-align: right;\n",
       "    }\n",
       "\n",
       "    .dataframe thead th {\n",
       "        text-align: left;\n",
       "    }\n",
       "\n",
       "    .dataframe tbody tr th {\n",
       "        vertical-align: top;\n",
       "    }\n",
       "</style>\n",
       "<table border=\"1\" class=\"dataframe\">\n",
       "  <thead>\n",
       "    <tr style=\"text-align: right;\">\n",
       "      <th></th>\n",
       "      <th>Mkt-RF</th>\n",
       "      <th>SMB</th>\n",
       "      <th>HML</th>\n",
       "      <th>RF</th>\n",
       "    </tr>\n",
       "    <tr>\n",
       "      <th>Date</th>\n",
       "      <th></th>\n",
       "      <th></th>\n",
       "      <th></th>\n",
       "      <th></th>\n",
       "    </tr>\n",
       "  </thead>\n",
       "  <tbody>\n",
       "    <tr>\n",
       "      <th>19260701</th>\n",
       "      <td>0.10</td>\n",
       "      <td>-0.24</td>\n",
       "      <td>-0.28</td>\n",
       "      <td>0.009</td>\n",
       "    </tr>\n",
       "    <tr>\n",
       "      <th>19260702</th>\n",
       "      <td>0.45</td>\n",
       "      <td>-0.32</td>\n",
       "      <td>-0.08</td>\n",
       "      <td>0.009</td>\n",
       "    </tr>\n",
       "    <tr>\n",
       "      <th>19260706</th>\n",
       "      <td>0.17</td>\n",
       "      <td>0.27</td>\n",
       "      <td>-0.35</td>\n",
       "      <td>0.009</td>\n",
       "    </tr>\n",
       "    <tr>\n",
       "      <th>19260707</th>\n",
       "      <td>0.09</td>\n",
       "      <td>-0.59</td>\n",
       "      <td>0.03</td>\n",
       "      <td>0.009</td>\n",
       "    </tr>\n",
       "    <tr>\n",
       "      <th>19260708</th>\n",
       "      <td>0.21</td>\n",
       "      <td>-0.36</td>\n",
       "      <td>0.15</td>\n",
       "      <td>0.009</td>\n",
       "    </tr>\n",
       "  </tbody>\n",
       "</table>\n",
       "</div>"
      ],
      "text/plain": [
       "          Mkt-RF   SMB   HML     RF\n",
       "Date                               \n",
       "19260701    0.10 -0.24 -0.28  0.009\n",
       "19260702    0.45 -0.32 -0.08  0.009\n",
       "19260706    0.17  0.27 -0.35  0.009\n",
       "19260707    0.09 -0.59  0.03  0.009\n",
       "19260708    0.21 -0.36  0.15  0.009"
      ]
     },
     "execution_count": 703,
     "metadata": {},
     "output_type": "execute_result"
    }
   ],
   "source": [
    "three_factor_df = pd.read_csv('F-F_Research_Data_Factors_daily.CSV', index_col = 'Date')\n",
    "nan_rows = three_factor_df.isnull().T.any().T\n",
    "three_factor_df = three_factor_df[~nan_rows]\n",
    "print(np.shape(three_factor_df))\n",
    "three_factor_df.head()"
   ]
  },
  {
   "cell_type": "code",
   "execution_count": 704,
   "metadata": {},
   "outputs": [],
   "source": [
    "three_factor_df.index = pd.to_datetime(three_factor_df.index,format='%Y%m%d')"
   ]
  },
  {
   "cell_type": "code",
   "execution_count": 705,
   "metadata": {},
   "outputs": [],
   "source": [
    "three_factors = [x for x in three_factor_df.columns if x != 'Date' and x != 'RF']\n",
    "five_factors = [x for x in five_factor_df.columns if x != 'Date' and x != 'RF']"
   ]
  },
  {
   "cell_type": "code",
   "execution_count": 706,
   "metadata": {
    "collapsed": true
   },
   "outputs": [],
   "source": [
    "# stocks_held = ['USAK', 'RHDGF', 'DXLG', 'NUSMF', 'LEE', 'AXLE']\n",
    "stocks_held = ['USAK', 'RHDGF', 'DXLG', 'NUSMF', 'LEE']"
   ]
  },
  {
   "cell_type": "code",
   "execution_count": 707,
   "metadata": {
    "collapsed": true
   },
   "outputs": [],
   "source": [
    "# quantities = [180, 110, 1000, 8000, 425, 2000]\n",
    "quantities = [180, 110, 1000, 8000, 425]"
   ]
  },
  {
   "cell_type": "code",
   "execution_count": 708,
   "metadata": {},
   "outputs": [],
   "source": [
    "ptf_dict = {stocks_held[i]: quantities[i] for i in range(len(quantities))}"
   ]
  },
  {
   "cell_type": "code",
   "execution_count": 709,
   "metadata": {
    "scrolled": true
   },
   "outputs": [
    {
     "data": {
      "text/html": [
       "<div>\n",
       "<style>\n",
       "    .dataframe thead tr:only-child th {\n",
       "        text-align: right;\n",
       "    }\n",
       "\n",
       "    .dataframe thead th {\n",
       "        text-align: left;\n",
       "    }\n",
       "\n",
       "    .dataframe tbody tr th {\n",
       "        vertical-align: top;\n",
       "    }\n",
       "</style>\n",
       "<table border=\"1\" class=\"dataframe\">\n",
       "  <thead>\n",
       "    <tr style=\"text-align: right;\">\n",
       "      <th></th>\n",
       "      <th>Date</th>\n",
       "      <th>Open</th>\n",
       "      <th>High</th>\n",
       "      <th>Low</th>\n",
       "      <th>Close</th>\n",
       "      <th>Adj Close</th>\n",
       "      <th>Volume</th>\n",
       "      <th>Stock</th>\n",
       "    </tr>\n",
       "  </thead>\n",
       "  <tbody>\n",
       "    <tr>\n",
       "      <th>0</th>\n",
       "      <td>1992-03-19</td>\n",
       "      <td>7.5</td>\n",
       "      <td>7.5</td>\n",
       "      <td>7</td>\n",
       "      <td>7.125</td>\n",
       "      <td>7.125</td>\n",
       "      <td>1256400</td>\n",
       "      <td>USAK</td>\n",
       "    </tr>\n",
       "    <tr>\n",
       "      <th>1</th>\n",
       "      <td>1992-03-20</td>\n",
       "      <td>7.375</td>\n",
       "      <td>7.625</td>\n",
       "      <td>7.125</td>\n",
       "      <td>7.25</td>\n",
       "      <td>7.25</td>\n",
       "      <td>262800</td>\n",
       "      <td>USAK</td>\n",
       "    </tr>\n",
       "    <tr>\n",
       "      <th>2</th>\n",
       "      <td>1992-03-23</td>\n",
       "      <td>7.25</td>\n",
       "      <td>7.625</td>\n",
       "      <td>7.25</td>\n",
       "      <td>7.25</td>\n",
       "      <td>7.25</td>\n",
       "      <td>43800</td>\n",
       "      <td>USAK</td>\n",
       "    </tr>\n",
       "    <tr>\n",
       "      <th>3</th>\n",
       "      <td>1992-03-24</td>\n",
       "      <td>7.5</td>\n",
       "      <td>7.625</td>\n",
       "      <td>7.25</td>\n",
       "      <td>7.5</td>\n",
       "      <td>7.5</td>\n",
       "      <td>73600</td>\n",
       "      <td>USAK</td>\n",
       "    </tr>\n",
       "    <tr>\n",
       "      <th>4</th>\n",
       "      <td>1992-03-25</td>\n",
       "      <td>7.625</td>\n",
       "      <td>7.625</td>\n",
       "      <td>7.25</td>\n",
       "      <td>7.625</td>\n",
       "      <td>7.625</td>\n",
       "      <td>28000</td>\n",
       "      <td>USAK</td>\n",
       "    </tr>\n",
       "  </tbody>\n",
       "</table>\n",
       "</div>"
      ],
      "text/plain": [
       "         Date   Open   High    Low  Close Adj Close   Volume Stock\n",
       "0  1992-03-19    7.5    7.5      7  7.125     7.125  1256400  USAK\n",
       "1  1992-03-20  7.375  7.625  7.125   7.25      7.25   262800  USAK\n",
       "2  1992-03-23   7.25  7.625   7.25   7.25      7.25    43800  USAK\n",
       "3  1992-03-24    7.5  7.625   7.25    7.5       7.5    73600  USAK\n",
       "4  1992-03-25  7.625  7.625   7.25  7.625     7.625    28000  USAK"
      ]
     },
     "execution_count": 709,
     "metadata": {},
     "output_type": "execute_result"
    }
   ],
   "source": [
    "dfs = []\n",
    "for stock in stocks_held:\n",
    "    stock_df = pd.read_csv('{}.csv'.format(stock), index_col = None)\n",
    "    stock_df['Stock'] = stock\n",
    "    dfs.append(stock_df)\n",
    "\n",
    "# Adds in last dataframe at the end to keep them in order\n",
    "df = pd.concat(dfs)\n",
    "df.head()"
   ]
  },
  {
   "cell_type": "code",
   "execution_count": 710,
   "metadata": {},
   "outputs": [],
   "source": [
    "df['Date'] = pd.to_datetime(df['Date'])"
   ]
  },
  {
   "cell_type": "code",
   "execution_count": 711,
   "metadata": {},
   "outputs": [
    {
     "name": "stderr",
     "output_type": "stream",
     "text": [
      "/anaconda/lib/python3.6/site-packages/ipykernel_launcher.py:1: FutureWarning: convert_objects is deprecated.  Use the data-type specific converters pd.to_datetime, pd.to_timedelta and pd.to_numeric.\n",
      "  \"\"\"Entry point for launching an IPython kernel.\n"
     ]
    }
   ],
   "source": [
    "df = df.convert_objects(convert_numeric=True)"
   ]
  },
  {
   "cell_type": "code",
   "execution_count": 712,
   "metadata": {},
   "outputs": [
    {
     "data": {
      "text/html": [
       "<div>\n",
       "<style>\n",
       "    .dataframe thead tr:only-child th {\n",
       "        text-align: right;\n",
       "    }\n",
       "\n",
       "    .dataframe thead th {\n",
       "        text-align: left;\n",
       "    }\n",
       "\n",
       "    .dataframe tbody tr th {\n",
       "        vertical-align: top;\n",
       "    }\n",
       "</style>\n",
       "<table border=\"1\" class=\"dataframe\">\n",
       "  <thead>\n",
       "    <tr style=\"text-align: right;\">\n",
       "      <th></th>\n",
       "      <th>Date</th>\n",
       "      <th>Open</th>\n",
       "      <th>High</th>\n",
       "      <th>Low</th>\n",
       "      <th>Close</th>\n",
       "      <th>Adj Close</th>\n",
       "      <th>Volume</th>\n",
       "      <th>Stock</th>\n",
       "    </tr>\n",
       "  </thead>\n",
       "  <tbody>\n",
       "    <tr>\n",
       "      <th>0</th>\n",
       "      <td>1992-03-19</td>\n",
       "      <td>1350.0</td>\n",
       "      <td>7.500</td>\n",
       "      <td>7.000</td>\n",
       "      <td>1282.5</td>\n",
       "      <td>7.125</td>\n",
       "      <td>1256400.0</td>\n",
       "      <td>USAK</td>\n",
       "    </tr>\n",
       "    <tr>\n",
       "      <th>1</th>\n",
       "      <td>1992-03-20</td>\n",
       "      <td>1327.5</td>\n",
       "      <td>7.625</td>\n",
       "      <td>7.125</td>\n",
       "      <td>1305.0</td>\n",
       "      <td>7.250</td>\n",
       "      <td>262800.0</td>\n",
       "      <td>USAK</td>\n",
       "    </tr>\n",
       "    <tr>\n",
       "      <th>2</th>\n",
       "      <td>1992-03-23</td>\n",
       "      <td>1305.0</td>\n",
       "      <td>7.625</td>\n",
       "      <td>7.250</td>\n",
       "      <td>1305.0</td>\n",
       "      <td>7.250</td>\n",
       "      <td>43800.0</td>\n",
       "      <td>USAK</td>\n",
       "    </tr>\n",
       "    <tr>\n",
       "      <th>3</th>\n",
       "      <td>1992-03-24</td>\n",
       "      <td>1350.0</td>\n",
       "      <td>7.625</td>\n",
       "      <td>7.250</td>\n",
       "      <td>1350.0</td>\n",
       "      <td>7.500</td>\n",
       "      <td>73600.0</td>\n",
       "      <td>USAK</td>\n",
       "    </tr>\n",
       "    <tr>\n",
       "      <th>4</th>\n",
       "      <td>1992-03-25</td>\n",
       "      <td>1372.5</td>\n",
       "      <td>7.625</td>\n",
       "      <td>7.250</td>\n",
       "      <td>1372.5</td>\n",
       "      <td>7.625</td>\n",
       "      <td>28000.0</td>\n",
       "      <td>USAK</td>\n",
       "    </tr>\n",
       "  </tbody>\n",
       "</table>\n",
       "</div>"
      ],
      "text/plain": [
       "        Date    Open   High    Low   Close  Adj Close     Volume Stock\n",
       "0 1992-03-19  1350.0  7.500  7.000  1282.5      7.125  1256400.0  USAK\n",
       "1 1992-03-20  1327.5  7.625  7.125  1305.0      7.250   262800.0  USAK\n",
       "2 1992-03-23  1305.0  7.625  7.250  1305.0      7.250    43800.0  USAK\n",
       "3 1992-03-24  1350.0  7.625  7.250  1350.0      7.500    73600.0  USAK\n",
       "4 1992-03-25  1372.5  7.625  7.250  1372.5      7.625    28000.0  USAK"
      ]
     },
     "execution_count": 712,
     "metadata": {},
     "output_type": "execute_result"
    }
   ],
   "source": [
    "df.index = range(len(df))\n",
    "df['Open'] = [df['Open'][i] * ptf_dict[df['Stock'][i]] for i in range(len(df))]\n",
    "df['Close'] = [df['Close'][i] * ptf_dict[df['Stock'][i]] for i in range(len(df))]\n",
    "df.head()"
   ]
  },
  {
   "cell_type": "code",
   "execution_count": 893,
   "metadata": {
    "collapsed": true
   },
   "outputs": [],
   "source": [
    "df['Returns'] = np.log(df['Close']) - np.log(df['Open'])"
   ]
  },
  {
   "cell_type": "code",
   "execution_count": 1045,
   "metadata": {},
   "outputs": [],
   "source": [
    "df = df[df['Date'] >= datetime.datetime(2009, 9, 11)]"
   ]
  },
  {
   "cell_type": "code",
   "execution_count": 1046,
   "metadata": {
    "collapsed": true
   },
   "outputs": [],
   "source": [
    "three_factor_df = three_factor_df[three_factor_df.index >= datetime.datetime(2009, 9, 11)]"
   ]
  },
  {
   "cell_type": "code",
   "execution_count": 1047,
   "metadata": {
    "collapsed": true
   },
   "outputs": [],
   "source": [
    "five_factor_df = five_factor_df[five_factor_df.index >= datetime.datetime(2009, 9, 11)]"
   ]
  },
  {
   "cell_type": "code",
   "execution_count": 1010,
   "metadata": {},
   "outputs": [],
   "source": [
    "grouped_by_stock = df.groupby('Stock')"
   ]
  },
  {
   "cell_type": "code",
   "execution_count": 1011,
   "metadata": {},
   "outputs": [],
   "source": [
    "grouped_by_date = df.groupby('Date')"
   ]
  },
  {
   "cell_type": "code",
   "execution_count": 1012,
   "metadata": {},
   "outputs": [
    {
     "data": {
      "text/html": [
       "<div>\n",
       "<style>\n",
       "    .dataframe thead tr:only-child th {\n",
       "        text-align: right;\n",
       "    }\n",
       "\n",
       "    .dataframe thead th {\n",
       "        text-align: left;\n",
       "    }\n",
       "\n",
       "    .dataframe tbody tr th {\n",
       "        vertical-align: top;\n",
       "    }\n",
       "</style>\n",
       "<table border=\"1\" class=\"dataframe\">\n",
       "  <thead>\n",
       "    <tr style=\"text-align: right;\">\n",
       "      <th></th>\n",
       "      <th>Open</th>\n",
       "      <th>High</th>\n",
       "      <th>Low</th>\n",
       "      <th>Close</th>\n",
       "      <th>Adj Close</th>\n",
       "      <th>Volume</th>\n",
       "      <th>Returns</th>\n",
       "    </tr>\n",
       "    <tr>\n",
       "      <th>Date</th>\n",
       "      <th></th>\n",
       "      <th></th>\n",
       "      <th></th>\n",
       "      <th></th>\n",
       "      <th></th>\n",
       "      <th></th>\n",
       "      <th></th>\n",
       "    </tr>\n",
       "  </thead>\n",
       "  <tbody>\n",
       "    <tr>\n",
       "      <th>2015-09-11</th>\n",
       "      <td>14732.54982</td>\n",
       "      <td>47.640001</td>\n",
       "      <td>45.629999</td>\n",
       "      <td>15133.40</td>\n",
       "      <td>45.869201</td>\n",
       "      <td>841400.0</td>\n",
       "      <td>0.146780</td>\n",
       "    </tr>\n",
       "    <tr>\n",
       "      <th>2015-09-14</th>\n",
       "      <td>15112.75000</td>\n",
       "      <td>48.179999</td>\n",
       "      <td>47.419999</td>\n",
       "      <td>15295.85</td>\n",
       "      <td>46.229201</td>\n",
       "      <td>361400.0</td>\n",
       "      <td>0.022918</td>\n",
       "    </tr>\n",
       "    <tr>\n",
       "      <th>2015-09-15</th>\n",
       "      <td>15304.05000</td>\n",
       "      <td>48.770000</td>\n",
       "      <td>47.560001</td>\n",
       "      <td>15259.30</td>\n",
       "      <td>46.839201</td>\n",
       "      <td>457900.0</td>\n",
       "      <td>0.032485</td>\n",
       "    </tr>\n",
       "    <tr>\n",
       "      <th>2015-09-16</th>\n",
       "      <td>15248.25000</td>\n",
       "      <td>50.310000</td>\n",
       "      <td>48.379999</td>\n",
       "      <td>15193.90</td>\n",
       "      <td>47.500333</td>\n",
       "      <td>785173.0</td>\n",
       "      <td>0.049843</td>\n",
       "    </tr>\n",
       "    <tr>\n",
       "      <th>2015-09-17</th>\n",
       "      <td>15255.09982</td>\n",
       "      <td>50.379999</td>\n",
       "      <td>48.910000</td>\n",
       "      <td>15360.35</td>\n",
       "      <td>48.417029</td>\n",
       "      <td>451989.0</td>\n",
       "      <td>-0.017833</td>\n",
       "    </tr>\n",
       "  </tbody>\n",
       "</table>\n",
       "</div>"
      ],
      "text/plain": [
       "                   Open       High        Low     Close  Adj Close    Volume  \\\n",
       "Date                                                                           \n",
       "2015-09-11  14732.54982  47.640001  45.629999  15133.40  45.869201  841400.0   \n",
       "2015-09-14  15112.75000  48.179999  47.419999  15295.85  46.229201  361400.0   \n",
       "2015-09-15  15304.05000  48.770000  47.560001  15259.30  46.839201  457900.0   \n",
       "2015-09-16  15248.25000  50.310000  48.379999  15193.90  47.500333  785173.0   \n",
       "2015-09-17  15255.09982  50.379999  48.910000  15360.35  48.417029  451989.0   \n",
       "\n",
       "             Returns  \n",
       "Date                  \n",
       "2015-09-11  0.146780  \n",
       "2015-09-14  0.022918  \n",
       "2015-09-15  0.032485  \n",
       "2015-09-16  0.049843  \n",
       "2015-09-17 -0.017833  "
      ]
     },
     "execution_count": 1012,
     "metadata": {},
     "output_type": "execute_result"
    }
   ],
   "source": [
    "portfolio_values = grouped_by_date.sum()\n",
    "portfolio_values.head()"
   ]
  },
  {
   "cell_type": "code",
   "execution_count": 1013,
   "metadata": {
    "scrolled": false
   },
   "outputs": [
    {
     "data": {
      "image/png": "[encoded data removed]",
      "text/plain": [
       "<matplotlib.figure.Figure at 0x117855438>"
      ]
     },
     "metadata": {},
     "output_type": "display_data"
    }
   ],
   "source": [
    "fig, ax = plt.subplots(figsize=default_dims)\n",
    "portfolio_values['Open'].plot();\n",
    "ax.set_xlabel('Time');\n",
    "ax.set_ylabel('Portfolio');\n",
    "ax.set_title('Value of Current Portfolio Since 2009');"
   ]
  },
  {
   "cell_type": "code",
   "execution_count": 1014,
   "metadata": {
    "scrolled": false
   },
   "outputs": [
    {
     "data": {
      "image/png": "[encoded data removed]",
      "text/plain": [
       "<matplotlib.figure.Figure at 0x11dcffbe0>"
      ]
     },
     "metadata": {},
     "output_type": "display_data"
    }
   ],
   "source": [
    "msk = [True if i % 100 ==0 else False for i in range(len(three_factor_df))]\n",
    "fig, ax = plt.subplots(figsize=default_dims)\n",
    "for factor in five_factors:\n",
    "    five_factor_df[factor][msk].plot(legend = True);\n",
    "ax.set_xlabel('Time');\n",
    "ax.set_ylabel('Value');\n",
    "ax.set_title('Returns in Each Factor Over Time');"
   ]
  },
  {
   "cell_type": "code",
   "execution_count": 1015,
   "metadata": {},
   "outputs": [
    {
     "data": {
      "image/png": "[encoded data removed]",
      "text/plain": [
       "<matplotlib.figure.Figure at 0x117917400>"
      ]
     },
     "metadata": {},
     "output_type": "display_data"
    },
    {
     "data": {
      "image/png": "[encoded data removed]",
      "text/plain": [
       "<matplotlib.figure.Figure at 0x11c9fe128>"
      ]
     },
     "metadata": {},
     "output_type": "display_data"
    },
    {
     "data": {
      "image/png": "[encoded data removed]",
      "text/plain": [
       "<matplotlib.figure.Figure at 0x11c80e080>"
      ]
     },
     "metadata": {},
     "output_type": "display_data"
    },
    {
     "data": {
      "image/png": "[encoded data removed]",
      "text/plain": [
       "<matplotlib.figure.Figure at 0x11ca229b0>"
      ]
     },
     "metadata": {},
     "output_type": "display_data"
    },
    {
     "data": {
      "image/png": "[encoded data removed]",
      "text/plain": [
       "<matplotlib.figure.Figure at 0x11df60860>"
      ]
     },
     "metadata": {},
     "output_type": "display_data"
    }
   ],
   "source": [
    "for factor in five_factors:\n",
    "    fig, ax = pyplot.subplots()\n",
    "    plt.hist(five_factor_df[factor])\n",
    "    ax.set_xlabel(factor);\n",
    "    ax.set_ylabel('Returns');"
   ]
  },
  {
   "cell_type": "code",
   "execution_count": 1016,
   "metadata": {},
   "outputs": [
    {
     "data": {
      "text/plain": [
       "['Mkt-RF', 'SMB', 'HML']"
      ]
     },
     "execution_count": 1016,
     "metadata": {},
     "output_type": "execute_result"
    }
   ],
   "source": [
    "three_factors"
   ]
  },
  {
   "cell_type": "markdown",
   "metadata": {},
   "source": [
    "**In-sample evaluation**"
   ]
  },
  {
   "cell_type": "code",
   "execution_count": 1017,
   "metadata": {},
   "outputs": [],
   "source": [
    "df_three = pd.concat([portfolio_values, three_factor_df], axis=1, join='inner')"
   ]
  },
  {
   "cell_type": "code",
   "execution_count": 1018,
   "metadata": {},
   "outputs": [],
   "source": [
    "df_five = pd.concat([portfolio_values, five_factor_df], axis=1, join='inner')"
   ]
  },
  {
   "cell_type": "code",
   "execution_count": 1019,
   "metadata": {},
   "outputs": [],
   "source": [
    "x_three = sm.add_constant(df_three[three_factors])"
   ]
  },
  {
   "cell_type": "code",
   "execution_count": 1020,
   "metadata": {},
   "outputs": [],
   "source": [
    "x_five = sm.add_constant(df_five[five_factors])"
   ]
  },
  {
   "cell_type": "code",
   "execution_count": 1021,
   "metadata": {},
   "outputs": [],
   "source": [
    "y = df_three['Returns']"
   ]
  },
  {
   "cell_type": "code",
   "execution_count": 1022,
   "metadata": {},
   "outputs": [
    {
     "data": {
      "text/html": [
       "<table class=\"simpletable\">\n",
       "<caption>OLS Regression Results</caption>\n",
       "<tr>\n",
       "  <th>Dep. Variable:</th>         <td>Returns</td>     <th>  R-squared:         </th> <td>   0.101</td>\n",
       "</tr>\n",
       "<tr>\n",
       "  <th>Model:</th>                   <td>OLS</td>       <th>  Adj. R-squared:    </th> <td>   0.096</td>\n",
       "</tr>\n",
       "<tr>\n",
       "  <th>Method:</th>             <td>Least Squares</td>  <th>  F-statistic:       </th> <td>   19.28</td>\n",
       "</tr>\n",
       "<tr>\n",
       "  <th>Date:</th>             <td>Thu, 16 Nov 2017</td> <th>  Prob (F-statistic):</th> <td>7.33e-12</td>\n",
       "</tr>\n",
       "<tr>\n",
       "  <th>Time:</th>                 <td>15:08:07</td>     <th>  Log-Likelihood:    </th> <td>  527.81</td>\n",
       "</tr>\n",
       "<tr>\n",
       "  <th>No. Observations:</th>      <td>   518</td>      <th>  AIC:               </th> <td>  -1048.</td>\n",
       "</tr>\n",
       "<tr>\n",
       "  <th>Df Residuals:</th>          <td>   514</td>      <th>  BIC:               </th> <td>  -1031.</td>\n",
       "</tr>\n",
       "<tr>\n",
       "  <th>Df Model:</th>              <td>     3</td>      <th>                     </th>     <td> </td>   \n",
       "</tr>\n",
       "<tr>\n",
       "  <th>Covariance Type:</th>      <td>nonrobust</td>    <th>                     </th>     <td> </td>   \n",
       "</tr>\n",
       "</table>\n",
       "<table class=\"simpletable\">\n",
       "<tr>\n",
       "     <td></td>       <th>coef</th>     <th>std err</th>      <th>t</th>      <th>P>|t|</th>  <th>[0.025</th>    <th>0.975]</th>  \n",
       "</tr>\n",
       "<tr>\n",
       "  <th>const</th>  <td>   -0.0058</td> <td>    0.004</td> <td>   -1.508</td> <td> 0.132</td> <td>   -0.013</td> <td>    0.002</td>\n",
       "</tr>\n",
       "<tr>\n",
       "  <th>Mkt-RF</th> <td>    0.0278</td> <td>    0.005</td> <td>    5.207</td> <td> 0.000</td> <td>    0.017</td> <td>    0.038</td>\n",
       "</tr>\n",
       "<tr>\n",
       "  <th>SMB</th>    <td>    0.0280</td> <td>    0.008</td> <td>    3.540</td> <td> 0.000</td> <td>    0.012</td> <td>    0.044</td>\n",
       "</tr>\n",
       "<tr>\n",
       "  <th>HML</th>    <td>    0.0029</td> <td>    0.007</td> <td>    0.428</td> <td> 0.669</td> <td>   -0.011</td> <td>    0.016</td>\n",
       "</tr>\n",
       "</table>\n",
       "<table class=\"simpletable\">\n",
       "<tr>\n",
       "  <th>Omnibus:</th>       <td> 2.294</td> <th>  Durbin-Watson:     </th> <td>   2.107</td>\n",
       "</tr>\n",
       "<tr>\n",
       "  <th>Prob(Omnibus):</th> <td> 0.318</td> <th>  Jarque-Bera (JB):  </th> <td>   2.159</td>\n",
       "</tr>\n",
       "<tr>\n",
       "  <th>Skew:</th>          <td>-0.156</td> <th>  Prob(JB):          </th> <td>   0.340</td>\n",
       "</tr>\n",
       "<tr>\n",
       "  <th>Kurtosis:</th>      <td> 3.053</td> <th>  Cond. No.          </th> <td>    2.16</td>\n",
       "</tr>\n",
       "</table>"
      ],
      "text/plain": [
       "<class 'statsmodels.iolib.summary.Summary'>\n",
       "\"\"\"\n",
       "                            OLS Regression Results                            \n",
       "==============================================================================\n",
       "Dep. Variable:                Returns   R-squared:                       0.101\n",
       "Model:                            OLS   Adj. R-squared:                  0.096\n",
       "Method:                 Least Squares   F-statistic:                     19.28\n",
       "Date:                Thu, 16 Nov 2017   Prob (F-statistic):           7.33e-12\n",
       "Time:                        15:08:07   Log-Likelihood:                 527.81\n",
       "No. Observations:                 518   AIC:                            -1048.\n",
       "Df Residuals:                     514   BIC:                            -1031.\n",
       "Df Model:                           3                                         \n",
       "Covariance Type:            nonrobust                                         \n",
       "==============================================================================\n",
       "                 coef    std err          t      P>|t|      [0.025      0.975]\n",
       "------------------------------------------------------------------------------\n",
       "const         -0.0058      0.004     -1.508      0.132      -0.013       0.002\n",
       "Mkt-RF         0.0278      0.005      5.207      0.000       0.017       0.038\n",
       "SMB            0.0280      0.008      3.540      0.000       0.012       0.044\n",
       "HML            0.0029      0.007      0.428      0.669      -0.011       0.016\n",
       "==============================================================================\n",
       "Omnibus:                        2.294   Durbin-Watson:                   2.107\n",
       "Prob(Omnibus):                  0.318   Jarque-Bera (JB):                2.159\n",
       "Skew:                          -0.156   Prob(JB):                        0.340\n",
       "Kurtosis:                       3.053   Cond. No.                         2.16\n",
       "==============================================================================\n",
       "\n",
       "Warnings:\n",
       "[1] Standard Errors assume that the covariance matrix of the errors is correctly specified.\n",
       "\"\"\""
      ]
     },
     "execution_count": 1022,
     "metadata": {},
     "output_type": "execute_result"
    }
   ],
   "source": [
    "three_factor_OLS = sm.OLS(y, x_three.values)\n",
    "three_factor_results = three_factor_OLS.fit()\n",
    "three_factor_results.summary(xname = ['const'] + three_factors)"
   ]
  },
  {
   "cell_type": "code",
   "execution_count": 1023,
   "metadata": {
    "scrolled": false
   },
   "outputs": [
    {
     "data": {
      "text/html": [
       "<table class=\"simpletable\">\n",
       "<caption>OLS Regression Results</caption>\n",
       "<tr>\n",
       "  <th>Dep. Variable:</th>         <td>Returns</td>     <th>  R-squared:         </th> <td>   0.122</td>\n",
       "</tr>\n",
       "<tr>\n",
       "  <th>Model:</th>                   <td>OLS</td>       <th>  Adj. R-squared:    </th> <td>   0.113</td>\n",
       "</tr>\n",
       "<tr>\n",
       "  <th>Method:</th>             <td>Least Squares</td>  <th>  F-statistic:       </th> <td>   14.16</td>\n",
       "</tr>\n",
       "<tr>\n",
       "  <th>Date:</th>             <td>Thu, 16 Nov 2017</td> <th>  Prob (F-statistic):</th> <td>5.40e-13</td>\n",
       "</tr>\n",
       "<tr>\n",
       "  <th>Time:</th>                 <td>15:08:07</td>     <th>  Log-Likelihood:    </th> <td>  533.74</td>\n",
       "</tr>\n",
       "<tr>\n",
       "  <th>No. Observations:</th>      <td>   518</td>      <th>  AIC:               </th> <td>  -1055.</td>\n",
       "</tr>\n",
       "<tr>\n",
       "  <th>Df Residuals:</th>          <td>   512</td>      <th>  BIC:               </th> <td>  -1030.</td>\n",
       "</tr>\n",
       "<tr>\n",
       "  <th>Df Model:</th>              <td>     5</td>      <th>                     </th>     <td> </td>   \n",
       "</tr>\n",
       "<tr>\n",
       "  <th>Covariance Type:</th>      <td>nonrobust</td>    <th>                     </th>     <td> </td>   \n",
       "</tr>\n",
       "</table>\n",
       "<table class=\"simpletable\">\n",
       "<tr>\n",
       "     <td></td>       <th>coef</th>     <th>std err</th>      <th>t</th>      <th>P>|t|</th>  <th>[0.025</th>    <th>0.975]</th>  \n",
       "</tr>\n",
       "<tr>\n",
       "  <th>const</th>  <td>   -0.0060</td> <td>    0.004</td> <td>   -1.568</td> <td> 0.118</td> <td>   -0.014</td> <td>    0.002</td>\n",
       "</tr>\n",
       "<tr>\n",
       "  <th>Mkt-RF</th> <td>    0.0330</td> <td>    0.006</td> <td>    5.899</td> <td> 0.000</td> <td>    0.022</td> <td>    0.044</td>\n",
       "</tr>\n",
       "<tr>\n",
       "  <th>SMB</th>    <td>    0.0281</td> <td>    0.008</td> <td>    3.531</td> <td> 0.000</td> <td>    0.012</td> <td>    0.044</td>\n",
       "</tr>\n",
       "<tr>\n",
       "  <th>HML</th>    <td>   -0.0172</td> <td>    0.009</td> <td>   -1.948</td> <td> 0.052</td> <td>   -0.035</td> <td>    0.000</td>\n",
       "</tr>\n",
       "<tr>\n",
       "  <th>RMW</th>    <td>    0.0124</td> <td>    0.012</td> <td>    1.032</td> <td> 0.302</td> <td>   -0.011</td> <td>    0.036</td>\n",
       "</tr>\n",
       "<tr>\n",
       "  <th>CMA</th>    <td>    0.0437</td> <td>    0.014</td> <td>    3.111</td> <td> 0.002</td> <td>    0.016</td> <td>    0.071</td>\n",
       "</tr>\n",
       "</table>\n",
       "<table class=\"simpletable\">\n",
       "<tr>\n",
       "  <th>Omnibus:</th>       <td> 1.614</td> <th>  Durbin-Watson:     </th> <td>   2.120</td>\n",
       "</tr>\n",
       "<tr>\n",
       "  <th>Prob(Omnibus):</th> <td> 0.446</td> <th>  Jarque-Bera (JB):  </th> <td>   1.461</td>\n",
       "</tr>\n",
       "<tr>\n",
       "  <th>Skew:</th>          <td>-0.125</td> <th>  Prob(JB):          </th> <td>   0.482</td>\n",
       "</tr>\n",
       "<tr>\n",
       "  <th>Kurtosis:</th>      <td> 3.073</td> <th>  Cond. No.          </th> <td>    4.10</td>\n",
       "</tr>\n",
       "</table>"
      ],
      "text/plain": [
       "<class 'statsmodels.iolib.summary.Summary'>\n",
       "\"\"\"\n",
       "                            OLS Regression Results                            \n",
       "==============================================================================\n",
       "Dep. Variable:                Returns   R-squared:                       0.122\n",
       "Model:                            OLS   Adj. R-squared:                  0.113\n",
       "Method:                 Least Squares   F-statistic:                     14.16\n",
       "Date:                Thu, 16 Nov 2017   Prob (F-statistic):           5.40e-13\n",
       "Time:                        15:08:07   Log-Likelihood:                 533.74\n",
       "No. Observations:                 518   AIC:                            -1055.\n",
       "Df Residuals:                     512   BIC:                            -1030.\n",
       "Df Model:                           5                                         \n",
       "Covariance Type:            nonrobust                                         \n",
       "==============================================================================\n",
       "                 coef    std err          t      P>|t|      [0.025      0.975]\n",
       "------------------------------------------------------------------------------\n",
       "const         -0.0060      0.004     -1.568      0.118      -0.014       0.002\n",
       "Mkt-RF         0.0330      0.006      5.899      0.000       0.022       0.044\n",
       "SMB            0.0281      0.008      3.531      0.000       0.012       0.044\n",
       "HML           -0.0172      0.009     -1.948      0.052      -0.035       0.000\n",
       "RMW            0.0124      0.012      1.032      0.302      -0.011       0.036\n",
       "CMA            0.0437      0.014      3.111      0.002       0.016       0.071\n",
       "==============================================================================\n",
       "Omnibus:                        1.614   Durbin-Watson:                   2.120\n",
       "Prob(Omnibus):                  0.446   Jarque-Bera (JB):                1.461\n",
       "Skew:                          -0.125   Prob(JB):                        0.482\n",
       "Kurtosis:                       3.073   Cond. No.                         4.10\n",
       "==============================================================================\n",
       "\n",
       "Warnings:\n",
       "[1] Standard Errors assume that the covariance matrix of the errors is correctly specified.\n",
       "\"\"\""
      ]
     },
     "execution_count": 1023,
     "metadata": {},
     "output_type": "execute_result"
    }
   ],
   "source": [
    "five_factor_OLS = sm.OLS(y, x_five.values)\n",
    "five_factor_results = five_factor_OLS.fit()\n",
    "five_factor_results.summary(xname = ['const'] + five_factors)"
   ]
  },
  {
   "cell_type": "code",
   "execution_count": 1024,
   "metadata": {},
   "outputs": [],
   "source": [
    "capm_df = pd.read_csv('SPY.csv',index_col = 'Date')"
   ]
  },
  {
   "cell_type": "code",
   "execution_count": 1025,
   "metadata": {},
   "outputs": [],
   "source": [
    "capm_df.index = pd.to_datetime(capm_df.index)"
   ]
  },
  {
   "cell_type": "code",
   "execution_count": 1026,
   "metadata": {},
   "outputs": [],
   "source": [
    "df_train_capm = portfolio_values\n",
    "df_train_capm['Market'] = np.log(capm_df['Close']) - np.log(capm_df['Open'])"
   ]
  },
  {
   "cell_type": "code",
   "execution_count": 1027,
   "metadata": {},
   "outputs": [],
   "source": [
    "x_capm = sm.add_constant(df_train_capm['Market'])\n",
    "y_capm = df_train_capm['Returns']"
   ]
  },
  {
   "cell_type": "code",
   "execution_count": 1028,
   "metadata": {},
   "outputs": [
    {
     "data": {
      "text/html": [
       "<table class=\"simpletable\">\n",
       "<caption>OLS Regression Results</caption>\n",
       "<tr>\n",
       "  <th>Dep. Variable:</th>         <td>Returns</td>     <th>  R-squared:         </th> <td>   0.089</td>\n",
       "</tr>\n",
       "<tr>\n",
       "  <th>Model:</th>                   <td>OLS</td>       <th>  Adj. R-squared:    </th> <td>   0.087</td>\n",
       "</tr>\n",
       "<tr>\n",
       "  <th>Method:</th>             <td>Least Squares</td>  <th>  F-statistic:       </th> <td>   53.36</td>\n",
       "</tr>\n",
       "<tr>\n",
       "  <th>Date:</th>             <td>Thu, 16 Nov 2017</td> <th>  Prob (F-statistic):</th> <td>9.85e-13</td>\n",
       "</tr>\n",
       "<tr>\n",
       "  <th>Time:</th>                 <td>15:08:08</td>     <th>  Log-Likelihood:    </th> <td>  567.00</td>\n",
       "</tr>\n",
       "<tr>\n",
       "  <th>No. Observations:</th>      <td>   551</td>      <th>  AIC:               </th> <td>  -1130.</td>\n",
       "</tr>\n",
       "<tr>\n",
       "  <th>Df Residuals:</th>          <td>   549</td>      <th>  BIC:               </th> <td>  -1121.</td>\n",
       "</tr>\n",
       "<tr>\n",
       "  <th>Df Model:</th>              <td>     1</td>      <th>                     </th>     <td> </td>   \n",
       "</tr>\n",
       "<tr>\n",
       "  <th>Covariance Type:</th>      <td>nonrobust</td>    <th>                     </th>     <td> </td>   \n",
       "</tr>\n",
       "</table>\n",
       "<table class=\"simpletable\">\n",
       "<tr>\n",
       "     <td></td>       <th>coef</th>     <th>std err</th>      <th>t</th>      <th>P>|t|</th>  <th>[0.025</th>    <th>0.975]</th>  \n",
       "</tr>\n",
       "<tr>\n",
       "  <th>const</th>  <td>   -0.0052</td> <td>    0.004</td> <td>   -1.409</td> <td> 0.159</td> <td>   -0.012</td> <td>    0.002</td>\n",
       "</tr>\n",
       "<tr>\n",
       "  <th>Market</th> <td>    4.8973</td> <td>    0.670</td> <td>    7.305</td> <td> 0.000</td> <td>    3.580</td> <td>    6.214</td>\n",
       "</tr>\n",
       "</table>\n",
       "<table class=\"simpletable\">\n",
       "<tr>\n",
       "  <th>Omnibus:</th>       <td> 3.807</td> <th>  Durbin-Watson:     </th> <td>   2.091</td>\n",
       "</tr>\n",
       "<tr>\n",
       "  <th>Prob(Omnibus):</th> <td> 0.149</td> <th>  Jarque-Bera (JB):  </th> <td>   3.597</td>\n",
       "</tr>\n",
       "<tr>\n",
       "  <th>Skew:</th>          <td>-0.184</td> <th>  Prob(JB):          </th> <td>   0.166</td>\n",
       "</tr>\n",
       "<tr>\n",
       "  <th>Kurtosis:</th>      <td> 3.144</td> <th>  Cond. No.          </th> <td>    182.</td>\n",
       "</tr>\n",
       "</table>"
      ],
      "text/plain": [
       "<class 'statsmodels.iolib.summary.Summary'>\n",
       "\"\"\"\n",
       "                            OLS Regression Results                            \n",
       "==============================================================================\n",
       "Dep. Variable:                Returns   R-squared:                       0.089\n",
       "Model:                            OLS   Adj. R-squared:                  0.087\n",
       "Method:                 Least Squares   F-statistic:                     53.36\n",
       "Date:                Thu, 16 Nov 2017   Prob (F-statistic):           9.85e-13\n",
       "Time:                        15:08:08   Log-Likelihood:                 567.00\n",
       "No. Observations:                 551   AIC:                            -1130.\n",
       "Df Residuals:                     549   BIC:                            -1121.\n",
       "Df Model:                           1                                         \n",
       "Covariance Type:            nonrobust                                         \n",
       "==============================================================================\n",
       "                 coef    std err          t      P>|t|      [0.025      0.975]\n",
       "------------------------------------------------------------------------------\n",
       "const         -0.0052      0.004     -1.409      0.159      -0.012       0.002\n",
       "Market         4.8973      0.670      7.305      0.000       3.580       6.214\n",
       "==============================================================================\n",
       "Omnibus:                        3.807   Durbin-Watson:                   2.091\n",
       "Prob(Omnibus):                  0.149   Jarque-Bera (JB):                3.597\n",
       "Skew:                          -0.184   Prob(JB):                        0.166\n",
       "Kurtosis:                       3.144   Cond. No.                         182.\n",
       "==============================================================================\n",
       "\n",
       "Warnings:\n",
       "[1] Standard Errors assume that the covariance matrix of the errors is correctly specified.\n",
       "\"\"\""
      ]
     },
     "execution_count": 1028,
     "metadata": {},
     "output_type": "execute_result"
    }
   ],
   "source": [
    "capm_OLS = sm.OLS(y_capm, x_capm)\n",
    "capm_results = capm_OLS.fit()\n",
    "capm_results.summary()"
   ]
  },
  {
   "cell_type": "markdown",
   "metadata": {},
   "source": [
    "**Out-of-sample evaluation**"
   ]
  },
  {
   "cell_type": "code",
   "execution_count": 1029,
   "metadata": {
    "collapsed": true
   },
   "outputs": [],
   "source": [
    "def split(x,y):\n",
    "    np.random.seed(9001)\n",
    "    msk = np.random.rand(len(x)) < .75\n",
    "    return x[msk], x[~msk], y[msk], y[~msk]"
   ]
  },
  {
   "cell_type": "code",
   "execution_count": 1030,
   "metadata": {
    "collapsed": true
   },
   "outputs": [],
   "source": [
    "x_train_three, x_test_three, y_train, y_test = split(x_three, y)"
   ]
  },
  {
   "cell_type": "code",
   "execution_count": 1031,
   "metadata": {},
   "outputs": [
    {
     "name": "stdout",
     "output_type": "stream",
     "text": [
      "Three factor test r2 of 0.009086934693001036\n"
     ]
    }
   ],
   "source": [
    "three_factor_OLS = sm.OLS(y_train, x_train_three.values)\n",
    "results_sm = three_factor_OLS.fit()\n",
    "print('Three factor test r2 of {}'.format(r2_score(y_test, results_sm.predict(x_test_three.values))))"
   ]
  },
  {
   "cell_type": "code",
   "execution_count": 1032,
   "metadata": {
    "collapsed": true
   },
   "outputs": [],
   "source": [
    "x_train_five, x_test_five, y_train, y_test = split(x_five, y)"
   ]
  },
  {
   "cell_type": "code",
   "execution_count": 1033,
   "metadata": {},
   "outputs": [
    {
     "name": "stdout",
     "output_type": "stream",
     "text": [
      "Five factor test r2 of 0.024937288581950323\n"
     ]
    }
   ],
   "source": [
    "five_factor_OLS = sm.OLS(y_train, x_train_five.values)\n",
    "results_sm = five_factor_OLS.fit()\n",
    "print('Five factor test r2 of {}'.format(r2_score(y_test, results_sm.predict(x_test_five.values))))"
   ]
  },
  {
   "cell_type": "code",
   "execution_count": 1034,
   "metadata": {},
   "outputs": [],
   "source": [
    "x_train_capm, x_test_capm, y_train_capm, y_test_capm = split(x_capm, y_capm)"
   ]
  },
  {
   "cell_type": "code",
   "execution_count": 1035,
   "metadata": {},
   "outputs": [
    {
     "name": "stdout",
     "output_type": "stream",
     "text": [
      "CAPM test r2 of 0.011300113346458418\n"
     ]
    }
   ],
   "source": [
    "capm_OLS = sm.OLS(y_train_capm, x_train_capm.values)\n",
    "results_sm = capm_OLS.fit()\n",
    "print('CAPM test r2 of {}'.format(r2_score(y_test_capm, results_sm.predict(x_test_capm.values))))"
   ]
  },
  {
   "cell_type": "markdown",
   "metadata": {},
   "source": [
    "**EDA for Value Factor**"
   ]
  },
  {
   "cell_type": "code",
   "execution_count": 1036,
   "metadata": {},
   "outputs": [],
   "source": [
    "value_df = pd.read_csv('RZV.csv', index_col = 'Date')"
   ]
  },
  {
   "cell_type": "code",
   "execution_count": 1037,
   "metadata": {
    "collapsed": true
   },
   "outputs": [],
   "source": [
    "value_df.index = pd.to_datetime(value_df.index)"
   ]
  },
  {
   "cell_type": "code",
   "execution_count": 1038,
   "metadata": {},
   "outputs": [],
   "source": [
    "df_value = portfolio_values\n",
    "df_value['Value'] = np.log(value_df['Close']) - np.log(value_df['Open'])\n",
    "df_value = df_value.dropna()"
   ]
  },
  {
   "cell_type": "code",
   "execution_count": 1039,
   "metadata": {},
   "outputs": [],
   "source": [
    "x_value = sm.add_constant(df_value['Value'])\n",
    "y_value = df_value['Returns']"
   ]
  },
  {
   "cell_type": "code",
   "execution_count": 1040,
   "metadata": {},
   "outputs": [
    {
     "data": {
      "text/html": [
       "<table class=\"simpletable\">\n",
       "<caption>OLS Regression Results</caption>\n",
       "<tr>\n",
       "  <th>Dep. Variable:</th>         <td>Returns</td>     <th>  R-squared:         </th> <td>   0.113</td>\n",
       "</tr>\n",
       "<tr>\n",
       "  <th>Model:</th>                   <td>OLS</td>       <th>  Adj. R-squared:    </th> <td>   0.111</td>\n",
       "</tr>\n",
       "<tr>\n",
       "  <th>Method:</th>             <td>Least Squares</td>  <th>  F-statistic:       </th> <td>   69.61</td>\n",
       "</tr>\n",
       "<tr>\n",
       "  <th>Date:</th>             <td>Thu, 16 Nov 2017</td> <th>  Prob (F-statistic):</th> <td>5.87e-16</td>\n",
       "</tr>\n",
       "<tr>\n",
       "  <th>Time:</th>                 <td>15:08:10</td>     <th>  Log-Likelihood:    </th> <td>  574.34</td>\n",
       "</tr>\n",
       "<tr>\n",
       "  <th>No. Observations:</th>      <td>   551</td>      <th>  AIC:               </th> <td>  -1145.</td>\n",
       "</tr>\n",
       "<tr>\n",
       "  <th>Df Residuals:</th>          <td>   549</td>      <th>  BIC:               </th> <td>  -1136.</td>\n",
       "</tr>\n",
       "<tr>\n",
       "  <th>Df Model:</th>              <td>     1</td>      <th>                     </th>     <td> </td>   \n",
       "</tr>\n",
       "<tr>\n",
       "  <th>Covariance Type:</th>      <td>nonrobust</td>    <th>                     </th>     <td> </td>   \n",
       "</tr>\n",
       "</table>\n",
       "<table class=\"simpletable\">\n",
       "<tr>\n",
       "    <td></td>       <th>coef</th>     <th>std err</th>      <th>t</th>      <th>P>|t|</th>  <th>[0.025</th>    <th>0.975]</th>  \n",
       "</tr>\n",
       "<tr>\n",
       "  <th>const</th> <td>   -0.0032</td> <td>    0.004</td> <td>   -0.867</td> <td> 0.386</td> <td>   -0.010</td> <td>    0.004</td>\n",
       "</tr>\n",
       "<tr>\n",
       "  <th>Value</th> <td>    2.6456</td> <td>    0.317</td> <td>    8.343</td> <td> 0.000</td> <td>    2.023</td> <td>    3.268</td>\n",
       "</tr>\n",
       "</table>\n",
       "<table class=\"simpletable\">\n",
       "<tr>\n",
       "  <th>Omnibus:</th>       <td> 3.470</td> <th>  Durbin-Watson:     </th> <td>   2.112</td>\n",
       "</tr>\n",
       "<tr>\n",
       "  <th>Prob(Omnibus):</th> <td> 0.176</td> <th>  Jarque-Bera (JB):  </th> <td>   3.326</td>\n",
       "</tr>\n",
       "<tr>\n",
       "  <th>Skew:</th>          <td>-0.144</td> <th>  Prob(JB):          </th> <td>   0.190</td>\n",
       "</tr>\n",
       "<tr>\n",
       "  <th>Kurtosis:</th>      <td> 3.248</td> <th>  Cond. No.          </th> <td>    87.1</td>\n",
       "</tr>\n",
       "</table>"
      ],
      "text/plain": [
       "<class 'statsmodels.iolib.summary.Summary'>\n",
       "\"\"\"\n",
       "                            OLS Regression Results                            \n",
       "==============================================================================\n",
       "Dep. Variable:                Returns   R-squared:                       0.113\n",
       "Model:                            OLS   Adj. R-squared:                  0.111\n",
       "Method:                 Least Squares   F-statistic:                     69.61\n",
       "Date:                Thu, 16 Nov 2017   Prob (F-statistic):           5.87e-16\n",
       "Time:                        15:08:10   Log-Likelihood:                 574.34\n",
       "No. Observations:                 551   AIC:                            -1145.\n",
       "Df Residuals:                     549   BIC:                            -1136.\n",
       "Df Model:                           1                                         \n",
       "Covariance Type:            nonrobust                                         \n",
       "==============================================================================\n",
       "                 coef    std err          t      P>|t|      [0.025      0.975]\n",
       "------------------------------------------------------------------------------\n",
       "const         -0.0032      0.004     -0.867      0.386      -0.010       0.004\n",
       "Value          2.6456      0.317      8.343      0.000       2.023       3.268\n",
       "==============================================================================\n",
       "Omnibus:                        3.470   Durbin-Watson:                   2.112\n",
       "Prob(Omnibus):                  0.176   Jarque-Bera (JB):                3.326\n",
       "Skew:                          -0.144   Prob(JB):                        0.190\n",
       "Kurtosis:                       3.248   Cond. No.                         87.1\n",
       "==============================================================================\n",
       "\n",
       "Warnings:\n",
       "[1] Standard Errors assume that the covariance matrix of the errors is correctly specified.\n",
       "\"\"\""
      ]
     },
     "execution_count": 1040,
     "metadata": {},
     "output_type": "execute_result"
    }
   ],
   "source": [
    "value_OLS = sm.OLS(y_value, x_value)\n",
    "value_results = value_OLS.fit()\n",
    "value_results.summary()"
   ]
  },
  {
   "cell_type": "code",
   "execution_count": 1041,
   "metadata": {
    "scrolled": false
   },
   "outputs": [
    {
     "name": "stdout",
     "output_type": "stream",
     "text": [
      "Value factor test r2 of 0.05165821897416489\n"
     ]
    }
   ],
   "source": [
    "x_train_value, x_test_value, y_train_value, y_test_value = split(x_value, y_value)\n",
    "value_OLS = sm.OLS(y_train_value.values, x_train_value.values)\n",
    "results_sm = value_OLS.fit()\n",
    "print('Value factor test r2 of {}'.format(r2_score(y_test_value, results_sm.predict(x_test_value.values))))"
   ]
  },
  {
   "cell_type": "code",
   "execution_count": 1042,
   "metadata": {},
   "outputs": [],
   "source": [
    "x_value = df_five['SMB']\n",
    "y_value = df_five['Returns']"
   ]
  },
  {
   "cell_type": "code",
   "execution_count": 1043,
   "metadata": {},
   "outputs": [
    {
     "name": "stdout",
     "output_type": "stream",
     "text": [
      "Value factor test r2 of 0.025474552215831614\n"
     ]
    }
   ],
   "source": [
    "x_train_value, x_test_value, y_train_value, y_test_value = split(x_value, y_value)\n",
    "value_OLS = sm.OLS(y_train_value.values, x_train_value.values)\n",
    "results_sm = value_OLS.fit()\n",
    "print('Value factor test r2 of {}'.format(r2_score(y_test_value, results_sm.predict(x_test_value.values))))"
   ]
  },
  {
   "cell_type": "code",
   "execution_count": 1044,
   "metadata": {
    "scrolled": false
   },
   "outputs": [
    {
     "name": "stdout",
     "output_type": "stream",
     "text": [
      "                                     USAK                                     \n",
      "==============================================================================\n",
      "Dep. Variable:                Returns   R-squared:                       0.163\n",
      "Model:                            OLS   Adj. R-squared:                  0.152\n",
      "Method:                 Least Squares   F-statistic:                     14.52\n",
      "Date:                Thu, 16 Nov 2017   Prob (F-statistic):           5.22e-13\n",
      "Time:                        15:08:12   Log-Likelihood:                 738.50\n",
      "No. Observations:                 378   AIC:                            -1465.\n",
      "Df Residuals:                     372   BIC:                            -1441.\n",
      "Df Model:                           5                                         \n",
      "Covariance Type:            nonrobust                                         \n",
      "==============================================================================\n",
      "                 coef    std err          t      P>|t|      [0.025      0.975]\n",
      "------------------------------------------------------------------------------\n",
      "const         -0.0001      0.002     -0.079      0.937      -0.004       0.003\n",
      "Mkt-RF         0.0123      0.003      4.805      0.000       0.007       0.017\n",
      "SMB            0.0165      0.004      4.579      0.000       0.009       0.024\n",
      "HML            0.0043      0.004      1.070      0.285      -0.004       0.012\n",
      "RMW            0.0069      0.006      1.237      0.217      -0.004       0.018\n",
      "CMA            0.0037      0.006      0.575      0.565      -0.009       0.016\n",
      "==============================================================================\n",
      "Omnibus:                       67.640   Durbin-Watson:                   2.072\n",
      "Prob(Omnibus):                  0.000   Jarque-Bera (JB):              510.518\n",
      "Skew:                          -0.483   Prob(JB):                    1.39e-111\n",
      "Kurtosis:                       8.611   Cond. No.                         4.05\n",
      "==============================================================================\n",
      "\n",
      "Warnings:\n",
      "[1] Standard Errors assume that the covariance matrix of the errors is correctly specified.\n",
      "                                    RHDGF                                     \n",
      "==============================================================================\n",
      "Dep. Variable:                Returns   R-squared:                       0.011\n",
      "Model:                            OLS   Adj. R-squared:                 -0.007\n",
      "Method:                 Least Squares   F-statistic:                    0.6123\n",
      "Date:                Thu, 16 Nov 2017   Prob (F-statistic):              0.691\n",
      "Time:                        15:08:12   Log-Likelihood:                 775.23\n",
      "No. Observations:                 294   AIC:                            -1538.\n",
      "Df Residuals:                     288   BIC:                            -1516.\n",
      "Df Model:                           5                                         \n",
      "Covariance Type:            nonrobust                                         \n",
      "==============================================================================\n",
      "                 coef    std err          t      P>|t|      [0.025      0.975]\n",
      "------------------------------------------------------------------------------\n",
      "const          0.0012      0.001      1.162      0.246      -0.001       0.003\n",
      "Mkt-RF        -0.0012      0.002     -0.766      0.444      -0.004       0.002\n",
      "SMB            0.0006      0.002      0.288      0.774      -0.004       0.005\n",
      "HML            0.0010      0.002      0.414      0.679      -0.004       0.006\n",
      "RMW            0.0026      0.003      0.808      0.420      -0.004       0.009\n",
      "CMA            0.0020      0.004      0.538      0.591      -0.005       0.009\n",
      "==============================================================================\n",
      "Omnibus:                      294.094   Durbin-Watson:                   1.673\n",
      "Prob(Omnibus):                  0.000   Jarque-Bera (JB):            10705.378\n",
      "Skew:                           4.093   Prob(JB):                         0.00\n",
      "Kurtosis:                      31.406   Cond. No.                         4.16\n",
      "==============================================================================\n",
      "\n",
      "Warnings:\n",
      "[1] Standard Errors assume that the covariance matrix of the errors is correctly specified.\n",
      "                                     DXLG                                     \n",
      "==============================================================================\n",
      "Dep. Variable:                Returns   R-squared:                       0.105\n",
      "Model:                            OLS   Adj. R-squared:                  0.093\n",
      "Method:                 Least Squares   F-statistic:                     8.709\n",
      "Date:                Thu, 16 Nov 2017   Prob (F-statistic):           7.99e-08\n",
      "Time:                        15:08:12   Log-Likelihood:                 755.40\n",
      "No. Observations:                 378   AIC:                            -1499.\n",
      "Df Residuals:                     372   BIC:                            -1475.\n",
      "Df Model:                           5                                         \n",
      "Covariance Type:            nonrobust                                         \n",
      "==============================================================================\n",
      "                 coef    std err          t      P>|t|      [0.025      0.975]\n",
      "------------------------------------------------------------------------------\n",
      "const         -0.0034      0.002     -2.002      0.046      -0.007   -6.06e-05\n",
      "Mkt-RF         0.0078      0.002      3.176      0.002       0.003       0.013\n",
      "SMB            0.0153      0.003      4.440      0.000       0.009       0.022\n",
      "HML           -0.0043      0.004     -1.129      0.260      -0.012       0.003\n",
      "RMW            0.0087      0.005      1.622      0.106      -0.002       0.019\n",
      "CMA            0.0103      0.006      1.675      0.095      -0.002       0.022\n",
      "==============================================================================\n",
      "Omnibus:                       49.620   Durbin-Watson:                   2.162\n",
      "Prob(Omnibus):                  0.000   Jarque-Bera (JB):              226.344\n",
      "Skew:                          -0.431   Prob(JB):                     7.08e-50\n",
      "Kurtosis:                       6.692   Cond. No.                         4.05\n",
      "==============================================================================\n",
      "\n",
      "Warnings:\n",
      "[1] Standard Errors assume that the covariance matrix of the errors is correctly specified.\n",
      "                                    NUSMF                                     \n",
      "==============================================================================\n",
      "Dep. Variable:                Returns   R-squared:                       0.049\n",
      "Model:                            OLS   Adj. R-squared:                  0.036\n",
      "Method:                 Least Squares   F-statistic:                     3.824\n",
      "Date:                Thu, 16 Nov 2017   Prob (F-statistic):            0.00217\n",
      "Time:                        15:08:12   Log-Likelihood:                 557.93\n",
      "No. Observations:                 378   AIC:                            -1104.\n",
      "Df Residuals:                     372   BIC:                            -1080.\n",
      "Df Model:                           5                                         \n",
      "Covariance Type:            nonrobust                                         \n",
      "==============================================================================\n",
      "                 coef    std err          t      P>|t|      [0.025      0.975]\n",
      "------------------------------------------------------------------------------\n",
      "const          0.0006      0.003      0.214      0.830      -0.005       0.006\n",
      "Mkt-RF         0.0115      0.004      2.803      0.005       0.003       0.020\n",
      "SMB           -0.0136      0.006     -2.342      0.020      -0.025      -0.002\n",
      "HML           -0.0190      0.006     -2.952      0.003      -0.032      -0.006\n",
      "RMW           -0.0077      0.009     -0.857      0.392      -0.026       0.010\n",
      "CMA            0.0353      0.010      3.394      0.001       0.015       0.056\n",
      "==============================================================================\n",
      "Omnibus:                       11.353   Durbin-Watson:                   2.098\n",
      "Prob(Omnibus):                  0.003   Jarque-Bera (JB):               22.137\n",
      "Skew:                          -0.048   Prob(JB):                     1.56e-05\n",
      "Kurtosis:                       4.182   Cond. No.                         4.05\n",
      "==============================================================================\n",
      "\n",
      "Warnings:\n",
      "[1] Standard Errors assume that the covariance matrix of the errors is correctly specified.\n",
      "                                     LEE                                      \n",
      "==============================================================================\n",
      "Dep. Variable:                Returns   R-squared:                       0.037\n",
      "Model:                            OLS   Adj. R-squared:                  0.024\n",
      "Method:                 Least Squares   F-statistic:                     2.846\n",
      "Date:                Thu, 16 Nov 2017   Prob (F-statistic):             0.0155\n",
      "Time:                        15:08:12   Log-Likelihood:                 681.53\n",
      "No. Observations:                 378   AIC:                            -1351.\n",
      "Df Residuals:                     372   BIC:                            -1327.\n",
      "Df Model:                           5                                         \n",
      "Covariance Type:            nonrobust                                         \n",
      "==============================================================================\n",
      "                 coef    std err          t      P>|t|      [0.025      0.975]\n",
      "------------------------------------------------------------------------------\n",
      "const         -0.0013      0.002     -0.644      0.520      -0.005       0.003\n",
      "Mkt-RF         0.0065      0.003      2.194      0.029       0.001       0.012\n",
      "SMB            0.0081      0.004      1.935      0.054      -0.000       0.016\n",
      "HML            0.0029      0.005      0.629      0.530      -0.006       0.012\n",
      "RMW            0.0067      0.007      1.021      0.308      -0.006       0.019\n",
      "CMA           -0.0064      0.008     -0.849      0.396      -0.021       0.008\n",
      "==============================================================================\n",
      "Omnibus:                       34.394   Durbin-Watson:                   2.164\n",
      "Prob(Omnibus):                  0.000   Jarque-Bera (JB):              164.485\n",
      "Skew:                          -0.073   Prob(JB):                     1.92e-36\n",
      "Kurtosis:                       6.228   Cond. No.                         4.05\n",
      "==============================================================================\n",
      "\n",
      "Warnings:\n",
      "[1] Standard Errors assume that the covariance matrix of the errors is correctly specified.\n"
     ]
    }
   ],
   "source": [
    "for stock in stocks_held:\n",
    "    stock_group = grouped_by_stock.get_group(stock).groupby('Date').sum()\n",
    "    temp_df = pd.concat([stock_group, five_factor_df], axis=1, join='inner').dropna()\n",
    "    x = sm.add_constant(temp_df[five_factors])\n",
    "    y = temp_df['Returns']\n",
    "    x_train, x_test, y_train, y_test = split(x, y)\n",
    "    OLS = sm.OLS(y_train, x_train)\n",
    "    results = OLS.fit()\n",
    "    print(results.summary(title=stock))"
   ]
  },
  {
   "cell_type": "code",
   "execution_count": null,
   "metadata": {
    "collapsed": true
   },
   "outputs": [],
   "source": []
  },
  {
   "cell_type": "code",
   "execution_count": null,
   "metadata": {
    "collapsed": true
   },
   "outputs": [],
   "source": []
  },
  {
   "cell_type": "code",
   "execution_count": null,
   "metadata": {
    "collapsed": true
   },
   "outputs": [],
   "source": []
  }
 ],
 "metadata": {
  "kernelspec": {
   "display_name": "Python 3",
   "language": "python",
   "name": "python3"
  },
  "language_info": {
   "codemirror_mode": {
    "name": "ipython",
    "version": 3
   },
   "file_extension": ".py",
   "mimetype": "text/x-python",
   "name": "python",
   "nbconvert_exporter": "python",
   "pygments_lexer": "ipython3",
   "version": "3.6.1"
  }
 },
 "nbformat": 4,
 "nbformat_minor": 2
}
