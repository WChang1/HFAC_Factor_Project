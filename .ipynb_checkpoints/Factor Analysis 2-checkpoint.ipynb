{
 "cells": [
  {
   "cell_type": "code",
   "execution_count": 699,
   "metadata": {},
   "outputs": [],
   "source": [
    "import numpy as np\n",
    "import pandas as pd\n",
    "import matplotlib\n",
    "import matplotlib.pyplot as plt\n",
    "from sklearn.linear_model import LogisticRegressionCV\n",
    "import sklearn.metrics as metrics\n",
    "from sklearn.metrics import r2_score\n",
    "from sklearn.preprocessing import PolynomialFeatures\n",
    "from sklearn.discriminant_analysis import LinearDiscriminantAnalysis\n",
    "from sklearn.discriminant_analysis import QuadraticDiscriminantAnalysis\n",
    "from sklearn.tree import DecisionTreeClassifier\n",
    "from sklearn.model_selection import cross_val_score\n",
    "from sklearn.model_selection import cross_val_score\n",
    "from sklearn.metrics import accuracy_score\n",
    "import sklearn.discriminant_analysis as da\n",
    "import sklearn.neighbors as knn\n",
    "from sklearn.model_selection import KFold\n",
    "from sklearn.linear_model import LogisticRegression\n",
    "from sklearn.linear_model import LinearRegression\n",
    "from sklearn.metrics import confusion_matrix\n",
    "from sklearn.metrics import roc_curve, auc\n",
    "from sklearn.linear_model import Ridge\n",
    "from sklearn.linear_model import Lasso\n",
    "from sklearn.linear_model import RidgeCV\n",
    "from sklearn.linear_model import LassoCV\n",
    "from statsmodels.api import OLS\n",
    "from statsmodels.api import add_constant\n",
    "import statsmodels.api as sm\n",
    "import datetime\n",
    "\n",
    "#import pydotplus\n",
    "#import io\n",
    "from sklearn.tree import export_graphviz\n",
    "from IPython.display import Image\n",
    "from IPython.display import display\n",
    "%matplotlib inline\n",
    "from matplotlib import pyplot\n",
    "default_dims = (13, 10)\n",
    "import seaborn.apionly as sns #sets up styles and gives us more plotting options\n",
    "sns.set_style(\"whitegrid\")\n",
    "sns.set_context(\"poster\")\n",
    "sns.reset_orig()"
   ]
  },
  {
   "cell_type": "code",
   "execution_count": 701,
   "metadata": {
    "scrolled": false
   },
   "outputs": [
    {
     "name": "stdout",
     "output_type": "stream",
     "text": [
      "(13657, 6)\n"
     ]
    },
    {
     "data": {
      "text/html": [
       "<div>\n",
       "<style>\n",
       "    .dataframe thead tr:only-child th {\n",
       "        text-align: right;\n",
       "    }\n",
       "\n",
       "    .dataframe thead th {\n",
       "        text-align: left;\n",
       "    }\n",
       "\n",
       "    .dataframe tbody tr th {\n",
       "        vertical-align: top;\n",
       "    }\n",
       "</style>\n",
       "<table border=\"1\" class=\"dataframe\">\n",
       "  <thead>\n",
       "    <tr style=\"text-align: right;\">\n",
       "      <th></th>\n",
       "      <th>Mkt-RF</th>\n",
       "      <th>SMB</th>\n",
       "      <th>HML</th>\n",
       "      <th>RMW</th>\n",
       "      <th>CMA</th>\n",
       "      <th>RF</th>\n",
       "    </tr>\n",
       "    <tr>\n",
       "      <th>Date</th>\n",
       "      <th></th>\n",
       "      <th></th>\n",
       "      <th></th>\n",
       "      <th></th>\n",
       "      <th></th>\n",
       "      <th></th>\n",
       "    </tr>\n",
       "  </thead>\n",
       "  <tbody>\n",
       "    <tr>\n",
       "      <th>19630701</th>\n",
       "      <td>-0.67</td>\n",
       "      <td>0.00</td>\n",
       "      <td>-0.32</td>\n",
       "      <td>0.01</td>\n",
       "      <td>0.15</td>\n",
       "      <td>0.012</td>\n",
       "    </tr>\n",
       "    <tr>\n",
       "      <th>19630702</th>\n",
       "      <td>0.79</td>\n",
       "      <td>-0.27</td>\n",
       "      <td>0.27</td>\n",
       "      <td>-0.08</td>\n",
       "      <td>-0.19</td>\n",
       "      <td>0.012</td>\n",
       "    </tr>\n",
       "    <tr>\n",
       "      <th>19630703</th>\n",
       "      <td>0.63</td>\n",
       "      <td>-0.17</td>\n",
       "      <td>-0.09</td>\n",
       "      <td>0.19</td>\n",
       "      <td>-0.33</td>\n",
       "      <td>0.012</td>\n",
       "    </tr>\n",
       "    <tr>\n",
       "      <th>19630705</th>\n",
       "      <td>0.40</td>\n",
       "      <td>0.08</td>\n",
       "      <td>-0.28</td>\n",
       "      <td>0.07</td>\n",
       "      <td>-0.33</td>\n",
       "      <td>0.012</td>\n",
       "    </tr>\n",
       "    <tr>\n",
       "      <th>19630708</th>\n",
       "      <td>-0.63</td>\n",
       "      <td>0.04</td>\n",
       "      <td>-0.17</td>\n",
       "      <td>-0.31</td>\n",
       "      <td>0.13</td>\n",
       "      <td>0.012</td>\n",
       "    </tr>\n",
       "  </tbody>\n",
       "</table>\n",
       "</div>"
      ],
      "text/plain": [
       "          Mkt-RF   SMB   HML   RMW   CMA     RF\n",
       "Date                                           \n",
       "19630701   -0.67  0.00 -0.32  0.01  0.15  0.012\n",
       "19630702    0.79 -0.27  0.27 -0.08 -0.19  0.012\n",
       "19630703    0.63 -0.17 -0.09  0.19 -0.33  0.012\n",
       "19630705    0.40  0.08 -0.28  0.07 -0.33  0.012\n",
       "19630708   -0.63  0.04 -0.17 -0.31  0.13  0.012"
      ]
     },
     "execution_count": 701,
     "metadata": {},
     "output_type": "execute_result"
    }
   ],
   "source": [
    "five_factor_df = pd.read_csv('F-F_Research_Data_5_Factors_2x3_daily.CSV', index_col = 'Date')\n",
    "nan_rows = five_factor_df.isnull().T.any().T\n",
    "five_factor_df = five_factor_df[~nan_rows]\n",
    "print(np.shape(five_factor_df))\n",
    "five_factor_df.head()"
   ]
  },
  {
   "cell_type": "code",
   "execution_count": 702,
   "metadata": {},
   "outputs": [],
   "source": [
    "five_factor_df.index = pd.to_datetime(five_factor_df.index,format='%Y%m%d')"
   ]
  },
  {
   "cell_type": "code",
   "execution_count": 703,
   "metadata": {},
   "outputs": [
    {
     "name": "stdout",
     "output_type": "stream",
     "text": [
      "(24077, 4)\n"
     ]
    },
    {
     "data": {
      "text/html": [
       "<div>\n",
       "<style>\n",
       "    .dataframe thead tr:only-child th {\n",
       "        text-align: right;\n",
       "    }\n",
       "\n",
       "    .dataframe thead th {\n",
       "        text-align: left;\n",
       "    }\n",
       "\n",
       "    .dataframe tbody tr th {\n",
       "        vertical-align: top;\n",
       "    }\n",
       "</style>\n",
       "<table border=\"1\" class=\"dataframe\">\n",
       "  <thead>\n",
       "    <tr style=\"text-align: right;\">\n",
       "      <th></th>\n",
       "      <th>Mkt-RF</th>\n",
       "      <th>SMB</th>\n",
       "      <th>HML</th>\n",
       "      <th>RF</th>\n",
       "    </tr>\n",
       "    <tr>\n",
       "      <th>Date</th>\n",
       "      <th></th>\n",
       "      <th></th>\n",
       "      <th></th>\n",
       "      <th></th>\n",
       "    </tr>\n",
       "  </thead>\n",
       "  <tbody>\n",
       "    <tr>\n",
       "      <th>19260701</th>\n",
       "      <td>0.10</td>\n",
       "      <td>-0.24</td>\n",
       "      <td>-0.28</td>\n",
       "      <td>0.009</td>\n",
       "    </tr>\n",
       "    <tr>\n",
       "      <th>19260702</th>\n",
       "      <td>0.45</td>\n",
       "      <td>-0.32</td>\n",
       "      <td>-0.08</td>\n",
       "      <td>0.009</td>\n",
       "    </tr>\n",
       "    <tr>\n",
       "      <th>19260706</th>\n",
       "      <td>0.17</td>\n",
       "      <td>0.27</td>\n",
       "      <td>-0.35</td>\n",
       "      <td>0.009</td>\n",
       "    </tr>\n",
       "    <tr>\n",
       "      <th>19260707</th>\n",
       "      <td>0.09</td>\n",
       "      <td>-0.59</td>\n",
       "      <td>0.03</td>\n",
       "      <td>0.009</td>\n",
       "    </tr>\n",
       "    <tr>\n",
       "      <th>19260708</th>\n",
       "      <td>0.21</td>\n",
       "      <td>-0.36</td>\n",
       "      <td>0.15</td>\n",
       "      <td>0.009</td>\n",
       "    </tr>\n",
       "  </tbody>\n",
       "</table>\n",
       "</div>"
      ],
      "text/plain": [
       "          Mkt-RF   SMB   HML     RF\n",
       "Date                               \n",
       "19260701    0.10 -0.24 -0.28  0.009\n",
       "19260702    0.45 -0.32 -0.08  0.009\n",
       "19260706    0.17  0.27 -0.35  0.009\n",
       "19260707    0.09 -0.59  0.03  0.009\n",
       "19260708    0.21 -0.36  0.15  0.009"
      ]
     },
     "execution_count": 703,
     "metadata": {},
     "output_type": "execute_result"
    }
   ],
   "source": [
    "three_factor_df = pd.read_csv('F-F_Research_Data_Factors_daily.CSV', index_col = 'Date')\n",
    "nan_rows = three_factor_df.isnull().T.any().T\n",
    "three_factor_df = three_factor_df[~nan_rows]\n",
    "print(np.shape(three_factor_df))\n",
    "three_factor_df.head()"
   ]
  },
  {
   "cell_type": "code",
   "execution_count": 704,
   "metadata": {},
   "outputs": [],
   "source": [
    "three_factor_df.index = pd.to_datetime(three_factor_df.index,format='%Y%m%d')"
   ]
  },
  {
   "cell_type": "code",
   "execution_count": 705,
   "metadata": {},
   "outputs": [],
   "source": [
    "three_factors = [x for x in three_factor_df.columns if x != 'Date' and x != 'RF']\n",
    "five_factors = [x for x in five_factor_df.columns if x != 'Date' and x != 'RF']"
   ]
  },
  {
   "cell_type": "code",
   "execution_count": 706,
   "metadata": {
    "collapsed": true
   },
   "outputs": [],
   "source": [
    "# stocks_held = ['USAK', 'RHDGF', 'DXLG', 'NUSMF', 'LEE', 'AXLE']\n",
    "stocks_held = ['USAK', 'RHDGF', 'DXLG', 'NUSMF', 'LEE']"
   ]
  },
  {
   "cell_type": "code",
   "execution_count": 707,
   "metadata": {
    "collapsed": true
   },
   "outputs": [],
   "source": [
    "# quantities = [180, 110, 1000, 8000, 425, 2000]\n",
    "quantities = [180, 110, 1000, 8000, 425]"
   ]
  },
  {
   "cell_type": "code",
   "execution_count": 708,
   "metadata": {},
   "outputs": [],
   "source": [
    "ptf_dict = {stocks_held[i]: quantities[i] for i in range(len(quantities))}"
   ]
  },
  {
   "cell_type": "code",
   "execution_count": 709,
   "metadata": {
    "scrolled": true
   },
   "outputs": [
    {
     "data": {
      "text/html": [
       "<div>\n",
       "<style>\n",
       "    .dataframe thead tr:only-child th {\n",
       "        text-align: right;\n",
       "    }\n",
       "\n",
       "    .dataframe thead th {\n",
       "        text-align: left;\n",
       "    }\n",
       "\n",
       "    .dataframe tbody tr th {\n",
       "        vertical-align: top;\n",
       "    }\n",
       "</style>\n",
       "<table border=\"1\" class=\"dataframe\">\n",
       "  <thead>\n",
       "    <tr style=\"text-align: right;\">\n",
       "      <th></th>\n",
       "      <th>Date</th>\n",
       "      <th>Open</th>\n",
       "      <th>High</th>\n",
       "      <th>Low</th>\n",
       "      <th>Close</th>\n",
       "      <th>Adj Close</th>\n",
       "      <th>Volume</th>\n",
       "      <th>Stock</th>\n",
       "    </tr>\n",
       "  </thead>\n",
       "  <tbody>\n",
       "    <tr>\n",
       "      <th>0</th>\n",
       "      <td>1992-03-19</td>\n",
       "      <td>7.5</td>\n",
       "      <td>7.5</td>\n",
       "      <td>7</td>\n",
       "      <td>7.125</td>\n",
       "      <td>7.125</td>\n",
       "      <td>1256400</td>\n",
       "      <td>USAK</td>\n",
       "    </tr>\n",
       "    <tr>\n",
       "      <th>1</th>\n",
       "      <td>1992-03-20</td>\n",
       "      <td>7.375</td>\n",
       "      <td>7.625</td>\n",
       "      <td>7.125</td>\n",
       "      <td>7.25</td>\n",
       "      <td>7.25</td>\n",
       "      <td>262800</td>\n",
       "      <td>USAK</td>\n",
       "    </tr>\n",
       "    <tr>\n",
       "      <th>2</th>\n",
       "      <td>1992-03-23</td>\n",
       "      <td>7.25</td>\n",
       "      <td>7.625</td>\n",
       "      <td>7.25</td>\n",
       "      <td>7.25</td>\n",
       "      <td>7.25</td>\n",
       "      <td>43800</td>\n",
       "      <td>USAK</td>\n",
       "    </tr>\n",
       "    <tr>\n",
       "      <th>3</th>\n",
       "      <td>1992-03-24</td>\n",
       "      <td>7.5</td>\n",
       "      <td>7.625</td>\n",
       "      <td>7.25</td>\n",
       "      <td>7.5</td>\n",
       "      <td>7.5</td>\n",
       "      <td>73600</td>\n",
       "      <td>USAK</td>\n",
       "    </tr>\n",
       "    <tr>\n",
       "      <th>4</th>\n",
       "      <td>1992-03-25</td>\n",
       "      <td>7.625</td>\n",
       "      <td>7.625</td>\n",
       "      <td>7.25</td>\n",
       "      <td>7.625</td>\n",
       "      <td>7.625</td>\n",
       "      <td>28000</td>\n",
       "      <td>USAK</td>\n",
       "    </tr>\n",
       "  </tbody>\n",
       "</table>\n",
       "</div>"
      ],
      "text/plain": [
       "         Date   Open   High    Low  Close Adj Close   Volume Stock\n",
       "0  1992-03-19    7.5    7.5      7  7.125     7.125  1256400  USAK\n",
       "1  1992-03-20  7.375  7.625  7.125   7.25      7.25   262800  USAK\n",
       "2  1992-03-23   7.25  7.625   7.25   7.25      7.25    43800  USAK\n",
       "3  1992-03-24    7.5  7.625   7.25    7.5       7.5    73600  USAK\n",
       "4  1992-03-25  7.625  7.625   7.25  7.625     7.625    28000  USAK"
      ]
     },
     "execution_count": 709,
     "metadata": {},
     "output_type": "execute_result"
    }
   ],
   "source": [
    "dfs = []\n",
    "for stock in stocks_held:\n",
    "    stock_df = pd.read_csv('{}.csv'.format(stock), index_col = None)\n",
    "    stock_df['Stock'] = stock\n",
    "    dfs.append(stock_df)\n",
    "\n",
    "# Adds in last dataframe at the end to keep them in order\n",
    "df = pd.concat(dfs)\n",
    "df.head()"
   ]
  },
  {
   "cell_type": "code",
   "execution_count": 710,
   "metadata": {},
   "outputs": [],
   "source": [
    "df['Date'] = pd.to_datetime(df['Date'])"
   ]
  },
  {
   "cell_type": "code",
   "execution_count": 711,
   "metadata": {},
   "outputs": [
    {
     "name": "stderr",
     "output_type": "stream",
     "text": [
      "/anaconda/lib/python3.6/site-packages/ipykernel_launcher.py:1: FutureWarning: convert_objects is deprecated.  Use the data-type specific converters pd.to_datetime, pd.to_timedelta and pd.to_numeric.\n",
      "  \"\"\"Entry point for launching an IPython kernel.\n"
     ]
    }
   ],
   "source": [
    "df = df.convert_objects(convert_numeric=True)"
   ]
  },
  {
   "cell_type": "code",
   "execution_count": 712,
   "metadata": {},
   "outputs": [
    {
     "data": {
      "text/html": [
       "<div>\n",
       "<style>\n",
       "    .dataframe thead tr:only-child th {\n",
       "        text-align: right;\n",
       "    }\n",
       "\n",
       "    .dataframe thead th {\n",
       "        text-align: left;\n",
       "    }\n",
       "\n",
       "    .dataframe tbody tr th {\n",
       "        vertical-align: top;\n",
       "    }\n",
       "</style>\n",
       "<table border=\"1\" class=\"dataframe\">\n",
       "  <thead>\n",
       "    <tr style=\"text-align: right;\">\n",
       "      <th></th>\n",
       "      <th>Date</th>\n",
       "      <th>Open</th>\n",
       "      <th>High</th>\n",
       "      <th>Low</th>\n",
       "      <th>Close</th>\n",
       "      <th>Adj Close</th>\n",
       "      <th>Volume</th>\n",
       "      <th>Stock</th>\n",
       "    </tr>\n",
       "  </thead>\n",
       "  <tbody>\n",
       "    <tr>\n",
       "      <th>0</th>\n",
       "      <td>1992-03-19</td>\n",
       "      <td>1350.0</td>\n",
       "      <td>7.500</td>\n",
       "      <td>7.000</td>\n",
       "      <td>1282.5</td>\n",
       "      <td>7.125</td>\n",
       "      <td>1256400.0</td>\n",
       "      <td>USAK</td>\n",
       "    </tr>\n",
       "    <tr>\n",
       "      <th>1</th>\n",
       "      <td>1992-03-20</td>\n",
       "      <td>1327.5</td>\n",
       "      <td>7.625</td>\n",
       "      <td>7.125</td>\n",
       "      <td>1305.0</td>\n",
       "      <td>7.250</td>\n",
       "      <td>262800.0</td>\n",
       "      <td>USAK</td>\n",
       "    </tr>\n",
       "    <tr>\n",
       "      <th>2</th>\n",
       "      <td>1992-03-23</td>\n",
       "      <td>1305.0</td>\n",
       "      <td>7.625</td>\n",
       "      <td>7.250</td>\n",
       "      <td>1305.0</td>\n",
       "      <td>7.250</td>\n",
       "      <td>43800.0</td>\n",
       "      <td>USAK</td>\n",
       "    </tr>\n",
       "    <tr>\n",
       "      <th>3</th>\n",
       "      <td>1992-03-24</td>\n",
       "      <td>1350.0</td>\n",
       "      <td>7.625</td>\n",
       "      <td>7.250</td>\n",
       "      <td>1350.0</td>\n",
       "      <td>7.500</td>\n",
       "      <td>73600.0</td>\n",
       "      <td>USAK</td>\n",
       "    </tr>\n",
       "    <tr>\n",
       "      <th>4</th>\n",
       "      <td>1992-03-25</td>\n",
       "      <td>1372.5</td>\n",
       "      <td>7.625</td>\n",
       "      <td>7.250</td>\n",
       "      <td>1372.5</td>\n",
       "      <td>7.625</td>\n",
       "      <td>28000.0</td>\n",
       "      <td>USAK</td>\n",
       "    </tr>\n",
       "  </tbody>\n",
       "</table>\n",
       "</div>"
      ],
      "text/plain": [
       "        Date    Open   High    Low   Close  Adj Close     Volume Stock\n",
       "0 1992-03-19  1350.0  7.500  7.000  1282.5      7.125  1256400.0  USAK\n",
       "1 1992-03-20  1327.5  7.625  7.125  1305.0      7.250   262800.0  USAK\n",
       "2 1992-03-23  1305.0  7.625  7.250  1305.0      7.250    43800.0  USAK\n",
       "3 1992-03-24  1350.0  7.625  7.250  1350.0      7.500    73600.0  USAK\n",
       "4 1992-03-25  1372.5  7.625  7.250  1372.5      7.625    28000.0  USAK"
      ]
     },
     "execution_count": 712,
     "metadata": {},
     "output_type": "execute_result"
    }
   ],
   "source": [
    "df.index = range(len(df))\n",
    "df['Open'] = [df['Open'][i] * ptf_dict[df['Stock'][i]] for i in range(len(df))]\n",
    "df['Close'] = [df['Close'][i] * ptf_dict[df['Stock'][i]] for i in range(len(df))]\n",
    "df.head()"
   ]
  },
  {
   "cell_type": "code",
   "execution_count": 776,
   "metadata": {
    "collapsed": true
   },
   "outputs": [],
   "source": [
    "df['Returns'] = np.log(df['Close']) - np.log(df['Open'])"
   ]
  },
  {
   "cell_type": "code",
   "execution_count": 777,
   "metadata": {},
   "outputs": [],
   "source": [
    "df = df[df['Date'] >= datetime.datetime(2009, 9, 11)]"
   ]
  },
  {
   "cell_type": "code",
   "execution_count": 778,
   "metadata": {
    "collapsed": true
   },
   "outputs": [],
   "source": [
    "three_factor_df = three_factor_df[three_factor_df.index >= datetime.datetime(2009, 9, 11)]"
   ]
  },
  {
   "cell_type": "code",
   "execution_count": 779,
   "metadata": {
    "collapsed": true
   },
   "outputs": [],
   "source": [
    "five_factor_df = five_factor_df[five_factor_df.index >= datetime.datetime(2009, 9, 11)]"
   ]
  },
  {
   "cell_type": "code",
   "execution_count": 780,
   "metadata": {},
   "outputs": [],
   "source": [
    "grouped_by_stock = df.groupby('Stock')"
   ]
  },
  {
   "cell_type": "code",
   "execution_count": 781,
   "metadata": {},
   "outputs": [],
   "source": [
    "grouped_by_date = df.groupby('Date')"
   ]
  },
  {
   "cell_type": "code",
   "execution_count": 782,
   "metadata": {},
   "outputs": [
    {
     "data": {
      "text/html": [
       "<div>\n",
       "<style>\n",
       "    .dataframe thead tr:only-child th {\n",
       "        text-align: right;\n",
       "    }\n",
       "\n",
       "    .dataframe thead th {\n",
       "        text-align: left;\n",
       "    }\n",
       "\n",
       "    .dataframe tbody tr th {\n",
       "        vertical-align: top;\n",
       "    }\n",
       "</style>\n",
       "<table border=\"1\" class=\"dataframe\">\n",
       "  <thead>\n",
       "    <tr style=\"text-align: right;\">\n",
       "      <th></th>\n",
       "      <th>Open</th>\n",
       "      <th>High</th>\n",
       "      <th>Low</th>\n",
       "      <th>Close</th>\n",
       "      <th>Adj Close</th>\n",
       "      <th>Volume</th>\n",
       "      <th>Returns</th>\n",
       "    </tr>\n",
       "    <tr>\n",
       "      <th>Date</th>\n",
       "      <th></th>\n",
       "      <th></th>\n",
       "      <th></th>\n",
       "      <th></th>\n",
       "      <th></th>\n",
       "      <th></th>\n",
       "      <th></th>\n",
       "    </tr>\n",
       "  </thead>\n",
       "  <tbody>\n",
       "    <tr>\n",
       "      <th>2009-09-11</th>\n",
       "      <td>15094.50</td>\n",
       "      <td>22.97</td>\n",
       "      <td>22.19</td>\n",
       "      <td>15479.95</td>\n",
       "      <td>21.855906</td>\n",
       "      <td>725882.0</td>\n",
       "      <td>0.118931</td>\n",
       "    </tr>\n",
       "    <tr>\n",
       "      <th>2009-09-14</th>\n",
       "      <td>15180.00</td>\n",
       "      <td>19.30</td>\n",
       "      <td>18.40</td>\n",
       "      <td>15461.35</td>\n",
       "      <td>19.030000</td>\n",
       "      <td>543800.0</td>\n",
       "      <td>0.111881</td>\n",
       "    </tr>\n",
       "    <tr>\n",
       "      <th>2009-09-15</th>\n",
       "      <td>15318.10</td>\n",
       "      <td>19.29</td>\n",
       "      <td>18.54</td>\n",
       "      <td>15476.15</td>\n",
       "      <td>18.930000</td>\n",
       "      <td>397800.0</td>\n",
       "      <td>0.032476</td>\n",
       "    </tr>\n",
       "    <tr>\n",
       "      <th>2009-09-16</th>\n",
       "      <td>15921.00</td>\n",
       "      <td>23.33</td>\n",
       "      <td>22.55</td>\n",
       "      <td>15816.60</td>\n",
       "      <td>22.315906</td>\n",
       "      <td>498060.0</td>\n",
       "      <td>-0.001339</td>\n",
       "    </tr>\n",
       "    <tr>\n",
       "      <th>2009-09-17</th>\n",
       "      <td>15350.55</td>\n",
       "      <td>19.50</td>\n",
       "      <td>18.86</td>\n",
       "      <td>15783.15</td>\n",
       "      <td>19.220000</td>\n",
       "      <td>393800.0</td>\n",
       "      <td>0.056506</td>\n",
       "    </tr>\n",
       "  </tbody>\n",
       "</table>\n",
       "</div>"
      ],
      "text/plain": [
       "                Open   High    Low     Close  Adj Close    Volume   Returns\n",
       "Date                                                                       \n",
       "2009-09-11  15094.50  22.97  22.19  15479.95  21.855906  725882.0  0.118931\n",
       "2009-09-14  15180.00  19.30  18.40  15461.35  19.030000  543800.0  0.111881\n",
       "2009-09-15  15318.10  19.29  18.54  15476.15  18.930000  397800.0  0.032476\n",
       "2009-09-16  15921.00  23.33  22.55  15816.60  22.315906  498060.0 -0.001339\n",
       "2009-09-17  15350.55  19.50  18.86  15783.15  19.220000  393800.0  0.056506"
      ]
     },
     "execution_count": 782,
     "metadata": {},
     "output_type": "execute_result"
    }
   ],
   "source": [
    "portfolio_values = grouped_by_date.sum()\n",
    "portfolio_values.head()"
   ]
  },
  {
   "cell_type": "code",
   "execution_count": 783,
   "metadata": {
    "scrolled": false
   },
   "outputs": [
    {
     "data": {
      "image/png": "[encoded data removed]",
      "text/plain": [
       "<matplotlib.figure.Figure at 0x11bcfada0>"
      ]
     },
     "metadata": {},
     "output_type": "display_data"
    }
   ],
   "source": [
    "fig, ax = plt.subplots(figsize=default_dims)\n",
    "portfolio_values['Open'].plot();\n",
    "ax.set_xlabel('Time');\n",
    "ax.set_ylabel('Portfolio');\n",
    "ax.set_title('Value of Current Portfolio Since 2009');"
   ]
  },
  {
   "cell_type": "code",
   "execution_count": 784,
   "metadata": {
    "scrolled": false
   },
   "outputs": [
    {
     "data": {
      "image/png": "[encoded data removed]",
      "text/plain": [
       "<matplotlib.figure.Figure at 0x1162e10b8>"
      ]
     },
     "metadata": {},
     "output_type": "display_data"
    }
   ],
   "source": [
    "msk = [True if i % 100 ==0 else False for i in range(len(three_factor_df))]\n",
    "fig, ax = plt.subplots(figsize=default_dims)\n",
    "for factor in five_factors:\n",
    "    five_factor_df[factor][msk].plot(legend = True);\n",
    "ax.set_xlabel('Time');\n",
    "ax.set_ylabel('Value');\n",
    "ax.set_title('Returns in Each Factor Over Time');"
   ]
  },
  {
   "cell_type": "code",
   "execution_count": 785,
   "metadata": {},
   "outputs": [
    {
     "data": {
      "image/png": "[encoded data removed]",
      "text/plain": [
       "<matplotlib.figure.Figure at 0x11bdf1b70>"
      ]
     },
     "metadata": {},
     "output_type": "display_data"
    },
    {
     "data": {
      "image/png": "[encoded data removed]",
      "text/plain": [
       "<matplotlib.figure.Figure at 0x11be66278>"
      ]
     },
     "metadata": {},
     "output_type": "display_data"
    },
    {
     "data": {
      "image/png": "[encoded data removed]",
      "text/plain": [
       "<matplotlib.figure.Figure at 0x11c0e8a20>"
      ]
     },
     "metadata": {},
     "output_type": "display_data"
    },
    {
     "data": {
      "image/png": "[encoded data removed]",
      "text/plain": [
       "<matplotlib.figure.Figure at 0x11bd076a0>"
      ]
     },
     "metadata": {},
     "output_type": "display_data"
    },
    {
     "data": {
      "image/png": "[encoded data removed]",
      "text/plain": [
       "<matplotlib.figure.Figure at 0x11e9ea898>"
      ]
     },
     "metadata": {},
     "output_type": "display_data"
    }
   ],
   "source": [
    "for factor in five_factors:\n",
    "    fig, ax = pyplot.subplots()\n",
    "    plt.hist(five_factor_df[factor])\n",
    "    ax.set_xlabel(factor);\n",
    "    ax.set_ylabel('Returns');"
   ]
  },
  {
   "cell_type": "code",
   "execution_count": 786,
   "metadata": {},
   "outputs": [
    {
     "data": {
      "text/plain": [
       "['Mkt-RF', 'SMB', 'HML']"
      ]
     },
     "execution_count": 786,
     "metadata": {},
     "output_type": "execute_result"
    }
   ],
   "source": [
    "three_factors"
   ]
  },
  {
   "cell_type": "markdown",
   "metadata": {},
   "source": [
    "**In-sample evaluation**"
   ]
  },
  {
   "cell_type": "code",
   "execution_count": 787,
   "metadata": {},
   "outputs": [],
   "source": [
    "df_three = pd.concat([portfolio_values, three_factor_df], axis=1, join='inner')"
   ]
  },
  {
   "cell_type": "code",
   "execution_count": 788,
   "metadata": {},
   "outputs": [],
   "source": [
    "df_five = pd.concat([portfolio_values, five_factor_df], axis=1, join='inner')"
   ]
  },
  {
   "cell_type": "code",
   "execution_count": 789,
   "metadata": {},
   "outputs": [],
   "source": [
    "x_three = df_three[three_factors]"
   ]
  },
  {
   "cell_type": "code",
   "execution_count": 790,
   "metadata": {},
   "outputs": [],
   "source": [
    "x_five = df_five[five_factors]"
   ]
  },
  {
   "cell_type": "code",
   "execution_count": 791,
   "metadata": {},
   "outputs": [],
   "source": [
    "y = df_three['Returns']"
   ]
  },
  {
   "cell_type": "code",
   "execution_count": 792,
   "metadata": {},
   "outputs": [
    {
     "data": {
      "text/html": [
       "<table class=\"simpletable\">\n",
       "<caption>OLS Regression Results</caption>\n",
       "<tr>\n",
       "  <th>Dep. Variable:</th>         <td>Returns</td>     <th>  R-squared:         </th> <td>   0.109</td>\n",
       "</tr>\n",
       "<tr>\n",
       "  <th>Model:</th>                   <td>OLS</td>       <th>  Adj. R-squared:    </th> <td>   0.107</td>\n",
       "</tr>\n",
       "<tr>\n",
       "  <th>Method:</th>             <td>Least Squares</td>  <th>  F-statistic:       </th> <td>   82.16</td>\n",
       "</tr>\n",
       "<tr>\n",
       "  <th>Date:</th>             <td>Thu, 16 Nov 2017</td> <th>  Prob (F-statistic):</th> <td>3.67e-50</td>\n",
       "</tr>\n",
       "<tr>\n",
       "  <th>Time:</th>                 <td>09:25:07</td>     <th>  Log-Likelihood:    </th> <td>  1945.8</td>\n",
       "</tr>\n",
       "<tr>\n",
       "  <th>No. Observations:</th>      <td>  2028</td>      <th>  AIC:               </th> <td>  -3886.</td>\n",
       "</tr>\n",
       "<tr>\n",
       "  <th>Df Residuals:</th>          <td>  2025</td>      <th>  BIC:               </th> <td>  -3869.</td>\n",
       "</tr>\n",
       "<tr>\n",
       "  <th>Df Model:</th>              <td>     3</td>      <th>                     </th>     <td> </td>   \n",
       "</tr>\n",
       "<tr>\n",
       "  <th>Covariance Type:</th>      <td>nonrobust</td>    <th>                     </th>     <td> </td>   \n",
       "</tr>\n",
       "</table>\n",
       "<table class=\"simpletable\">\n",
       "<tr>\n",
       "     <td></td>       <th>coef</th>     <th>std err</th>      <th>t</th>      <th>P>|t|</th>  <th>[0.025</th>    <th>0.975]</th>  \n",
       "</tr>\n",
       "<tr>\n",
       "  <th>Mkt-RF</th> <td>    0.0205</td> <td>    0.002</td> <td>    8.576</td> <td> 0.000</td> <td>    0.016</td> <td>    0.025</td>\n",
       "</tr>\n",
       "<tr>\n",
       "  <th>SMB</th>    <td>    0.0343</td> <td>    0.004</td> <td>    8.001</td> <td> 0.000</td> <td>    0.026</td> <td>    0.043</td>\n",
       "</tr>\n",
       "<tr>\n",
       "  <th>HML</th>    <td>    0.0074</td> <td>    0.004</td> <td>    1.703</td> <td> 0.089</td> <td>   -0.001</td> <td>    0.016</td>\n",
       "</tr>\n",
       "</table>\n",
       "<table class=\"simpletable\">\n",
       "<tr>\n",
       "  <th>Omnibus:</th>       <td>1042.026</td> <th>  Durbin-Watson:     </th> <td>   1.889</td> \n",
       "</tr>\n",
       "<tr>\n",
       "  <th>Prob(Omnibus):</th>  <td> 0.000</td>  <th>  Jarque-Bera (JB):  </th> <td>36476.619</td>\n",
       "</tr>\n",
       "<tr>\n",
       "  <th>Skew:</th>           <td> 1.778</td>  <th>  Prob(JB):          </th> <td>    0.00</td> \n",
       "</tr>\n",
       "<tr>\n",
       "  <th>Kurtosis:</th>       <td>23.470</td>  <th>  Cond. No.          </th> <td>    2.32</td> \n",
       "</tr>\n",
       "</table>"
      ],
      "text/plain": [
       "<class 'statsmodels.iolib.summary.Summary'>\n",
       "\"\"\"\n",
       "                            OLS Regression Results                            \n",
       "==============================================================================\n",
       "Dep. Variable:                Returns   R-squared:                       0.109\n",
       "Model:                            OLS   Adj. R-squared:                  0.107\n",
       "Method:                 Least Squares   F-statistic:                     82.16\n",
       "Date:                Thu, 16 Nov 2017   Prob (F-statistic):           3.67e-50\n",
       "Time:                        09:25:07   Log-Likelihood:                 1945.8\n",
       "No. Observations:                2028   AIC:                            -3886.\n",
       "Df Residuals:                    2025   BIC:                            -3869.\n",
       "Df Model:                           3                                         \n",
       "Covariance Type:            nonrobust                                         \n",
       "==============================================================================\n",
       "                 coef    std err          t      P>|t|      [0.025      0.975]\n",
       "------------------------------------------------------------------------------\n",
       "Mkt-RF         0.0205      0.002      8.576      0.000       0.016       0.025\n",
       "SMB            0.0343      0.004      8.001      0.000       0.026       0.043\n",
       "HML            0.0074      0.004      1.703      0.089      -0.001       0.016\n",
       "==============================================================================\n",
       "Omnibus:                     1042.026   Durbin-Watson:                   1.889\n",
       "Prob(Omnibus):                  0.000   Jarque-Bera (JB):            36476.619\n",
       "Skew:                           1.778   Prob(JB):                         0.00\n",
       "Kurtosis:                      23.470   Cond. No.                         2.32\n",
       "==============================================================================\n",
       "\n",
       "Warnings:\n",
       "[1] Standard Errors assume that the covariance matrix of the errors is correctly specified.\n",
       "\"\"\""
      ]
     },
     "execution_count": 792,
     "metadata": {},
     "output_type": "execute_result"
    }
   ],
   "source": [
    "three_factor_OLS = sm.OLS(y, x_three.values)\n",
    "three_factor_results = three_factor_OLS.fit()\n",
    "three_factor_results.summary(xname = three_factors)"
   ]
  },
  {
   "cell_type": "code",
   "execution_count": 793,
   "metadata": {
    "scrolled": false
   },
   "outputs": [
    {
     "data": {
      "text/html": [
       "<table class=\"simpletable\">\n",
       "<caption>OLS Regression Results</caption>\n",
       "<tr>\n",
       "  <th>Dep. Variable:</th>         <td>Returns</td>     <th>  R-squared:         </th> <td>   0.116</td>\n",
       "</tr>\n",
       "<tr>\n",
       "  <th>Model:</th>                   <td>OLS</td>       <th>  Adj. R-squared:    </th> <td>   0.114</td>\n",
       "</tr>\n",
       "<tr>\n",
       "  <th>Method:</th>             <td>Least Squares</td>  <th>  F-statistic:       </th> <td>   53.16</td>\n",
       "</tr>\n",
       "<tr>\n",
       "  <th>Date:</th>             <td>Thu, 16 Nov 2017</td> <th>  Prob (F-statistic):</th> <td>5.74e-52</td>\n",
       "</tr>\n",
       "<tr>\n",
       "  <th>Time:</th>                 <td>09:25:08</td>     <th>  Log-Likelihood:    </th> <td>  1954.5</td>\n",
       "</tr>\n",
       "<tr>\n",
       "  <th>No. Observations:</th>      <td>  2028</td>      <th>  AIC:               </th> <td>  -3899.</td>\n",
       "</tr>\n",
       "<tr>\n",
       "  <th>Df Residuals:</th>          <td>  2023</td>      <th>  BIC:               </th> <td>  -3871.</td>\n",
       "</tr>\n",
       "<tr>\n",
       "  <th>Df Model:</th>              <td>     5</td>      <th>                     </th>     <td> </td>   \n",
       "</tr>\n",
       "<tr>\n",
       "  <th>Covariance Type:</th>      <td>nonrobust</td>    <th>                     </th>     <td> </td>   \n",
       "</tr>\n",
       "</table>\n",
       "<table class=\"simpletable\">\n",
       "<tr>\n",
       "     <td></td>       <th>coef</th>     <th>std err</th>      <th>t</th>      <th>P>|t|</th>  <th>[0.025</th>    <th>0.975]</th>  \n",
       "</tr>\n",
       "<tr>\n",
       "  <th>Mkt-RF</th> <td>    0.0234</td> <td>    0.003</td> <td>    9.105</td> <td> 0.000</td> <td>    0.018</td> <td>    0.028</td>\n",
       "</tr>\n",
       "<tr>\n",
       "  <th>SMB</th>    <td>    0.0364</td> <td>    0.004</td> <td>    8.114</td> <td> 0.000</td> <td>    0.028</td> <td>    0.045</td>\n",
       "</tr>\n",
       "<tr>\n",
       "  <th>HML</th>    <td>   -0.0055</td> <td>    0.006</td> <td>   -0.984</td> <td> 0.325</td> <td>   -0.016</td> <td>    0.005</td>\n",
       "</tr>\n",
       "<tr>\n",
       "  <th>RMW</th>    <td>    0.0124</td> <td>    0.007</td> <td>    1.659</td> <td> 0.097</td> <td>   -0.002</td> <td>    0.027</td>\n",
       "</tr>\n",
       "<tr>\n",
       "  <th>CMA</th>    <td>    0.0302</td> <td>    0.009</td> <td>    3.343</td> <td> 0.001</td> <td>    0.012</td> <td>    0.048</td>\n",
       "</tr>\n",
       "</table>\n",
       "<table class=\"simpletable\">\n",
       "<tr>\n",
       "  <th>Omnibus:</th>       <td>1061.255</td> <th>  Durbin-Watson:     </th> <td>   1.886</td> \n",
       "</tr>\n",
       "<tr>\n",
       "  <th>Prob(Omnibus):</th>  <td> 0.000</td>  <th>  Jarque-Bera (JB):  </th> <td>38251.625</td>\n",
       "</tr>\n",
       "<tr>\n",
       "  <th>Skew:</th>           <td> 1.818</td>  <th>  Prob(JB):          </th> <td>    0.00</td> \n",
       "</tr>\n",
       "<tr>\n",
       "  <th>Kurtosis:</th>       <td>23.963</td>  <th>  Cond. No.          </th> <td>    4.98</td> \n",
       "</tr>\n",
       "</table>"
      ],
      "text/plain": [
       "<class 'statsmodels.iolib.summary.Summary'>\n",
       "\"\"\"\n",
       "                            OLS Regression Results                            \n",
       "==============================================================================\n",
       "Dep. Variable:                Returns   R-squared:                       0.116\n",
       "Model:                            OLS   Adj. R-squared:                  0.114\n",
       "Method:                 Least Squares   F-statistic:                     53.16\n",
       "Date:                Thu, 16 Nov 2017   Prob (F-statistic):           5.74e-52\n",
       "Time:                        09:25:08   Log-Likelihood:                 1954.5\n",
       "No. Observations:                2028   AIC:                            -3899.\n",
       "Df Residuals:                    2023   BIC:                            -3871.\n",
       "Df Model:                           5                                         \n",
       "Covariance Type:            nonrobust                                         \n",
       "==============================================================================\n",
       "                 coef    std err          t      P>|t|      [0.025      0.975]\n",
       "------------------------------------------------------------------------------\n",
       "Mkt-RF         0.0234      0.003      9.105      0.000       0.018       0.028\n",
       "SMB            0.0364      0.004      8.114      0.000       0.028       0.045\n",
       "HML           -0.0055      0.006     -0.984      0.325      -0.016       0.005\n",
       "RMW            0.0124      0.007      1.659      0.097      -0.002       0.027\n",
       "CMA            0.0302      0.009      3.343      0.001       0.012       0.048\n",
       "==============================================================================\n",
       "Omnibus:                     1061.255   Durbin-Watson:                   1.886\n",
       "Prob(Omnibus):                  0.000   Jarque-Bera (JB):            38251.625\n",
       "Skew:                           1.818   Prob(JB):                         0.00\n",
       "Kurtosis:                      23.963   Cond. No.                         4.98\n",
       "==============================================================================\n",
       "\n",
       "Warnings:\n",
       "[1] Standard Errors assume that the covariance matrix of the errors is correctly specified.\n",
       "\"\"\""
      ]
     },
     "execution_count": 793,
     "metadata": {},
     "output_type": "execute_result"
    }
   ],
   "source": [
    "five_factor_OLS = sm.OLS(y, x_five.values)\n",
    "five_factor_results = five_factor_OLS.fit()\n",
    "five_factor_results.summary(xname = five_factors)"
   ]
  },
  {
   "cell_type": "code",
   "execution_count": 794,
   "metadata": {},
   "outputs": [],
   "source": [
    "capm_df = pd.read_csv('SPY.csv',index_col = 'Date')"
   ]
  },
  {
   "cell_type": "code",
   "execution_count": 795,
   "metadata": {},
   "outputs": [],
   "source": [
    "capm_df.index = pd.to_datetime(capm_df.index)"
   ]
  },
  {
   "cell_type": "code",
   "execution_count": 796,
   "metadata": {},
   "outputs": [],
   "source": [
    "df_train_capm = portfolio_values\n",
    "df_train_capm['Market'] = np.log(capm_df['Close']) - np.log(capm_df['Open'])"
   ]
  },
  {
   "cell_type": "code",
   "execution_count": 797,
   "metadata": {},
   "outputs": [],
   "source": [
    "x_capm = df_train_capm['Market']\n",
    "y_capm = df_train_capm['Returns']"
   ]
  },
  {
   "cell_type": "code",
   "execution_count": 798,
   "metadata": {},
   "outputs": [
    {
     "data": {
      "text/html": [
       "<table class=\"simpletable\">\n",
       "<caption>OLS Regression Results</caption>\n",
       "<tr>\n",
       "  <th>Dep. Variable:</th>         <td>Returns</td>     <th>  R-squared:         </th> <td>   0.099</td>\n",
       "</tr>\n",
       "<tr>\n",
       "  <th>Model:</th>                   <td>OLS</td>       <th>  Adj. R-squared:    </th> <td>   0.098</td>\n",
       "</tr>\n",
       "<tr>\n",
       "  <th>Method:</th>             <td>Least Squares</td>  <th>  F-statistic:       </th> <td>   225.2</td>\n",
       "</tr>\n",
       "<tr>\n",
       "  <th>Date:</th>             <td>Thu, 16 Nov 2017</td> <th>  Prob (F-statistic):</th> <td>2.20e-48</td>\n",
       "</tr>\n",
       "<tr>\n",
       "  <th>Time:</th>                 <td>09:25:16</td>     <th>  Log-Likelihood:    </th> <td>  1976.4</td>\n",
       "</tr>\n",
       "<tr>\n",
       "  <th>No. Observations:</th>      <td>  2061</td>      <th>  AIC:               </th> <td>  -3951.</td>\n",
       "</tr>\n",
       "<tr>\n",
       "  <th>Df Residuals:</th>          <td>  2060</td>      <th>  BIC:               </th> <td>  -3945.</td>\n",
       "</tr>\n",
       "<tr>\n",
       "  <th>Df Model:</th>              <td>     1</td>      <th>                     </th>     <td> </td>   \n",
       "</tr>\n",
       "<tr>\n",
       "  <th>Covariance Type:</th>      <td>nonrobust</td>    <th>                     </th>     <td> </td>   \n",
       "</tr>\n",
       "</table>\n",
       "<table class=\"simpletable\">\n",
       "<tr>\n",
       "     <td></td>       <th>coef</th>     <th>std err</th>      <th>t</th>      <th>P>|t|</th>  <th>[0.025</th>    <th>0.975]</th>  \n",
       "</tr>\n",
       "<tr>\n",
       "  <th>Market</th> <td>    4.3173</td> <td>    0.288</td> <td>   15.006</td> <td> 0.000</td> <td>    3.753</td> <td>    4.882</td>\n",
       "</tr>\n",
       "</table>\n",
       "<table class=\"simpletable\">\n",
       "<tr>\n",
       "  <th>Omnibus:</th>       <td>976.092</td> <th>  Durbin-Watson:     </th> <td>   1.873</td> \n",
       "</tr>\n",
       "<tr>\n",
       "  <th>Prob(Omnibus):</th> <td> 0.000</td>  <th>  Jarque-Bera (JB):  </th> <td>29296.292</td>\n",
       "</tr>\n",
       "<tr>\n",
       "  <th>Skew:</th>          <td> 1.621</td>  <th>  Prob(JB):          </th> <td>    0.00</td> \n",
       "</tr>\n",
       "<tr>\n",
       "  <th>Kurtosis:</th>      <td>21.184</td>  <th>  Cond. No.          </th> <td>    1.00</td> \n",
       "</tr>\n",
       "</table>"
      ],
      "text/plain": [
       "<class 'statsmodels.iolib.summary.Summary'>\n",
       "\"\"\"\n",
       "                            OLS Regression Results                            \n",
       "==============================================================================\n",
       "Dep. Variable:                Returns   R-squared:                       0.099\n",
       "Model:                            OLS   Adj. R-squared:                  0.098\n",
       "Method:                 Least Squares   F-statistic:                     225.2\n",
       "Date:                Thu, 16 Nov 2017   Prob (F-statistic):           2.20e-48\n",
       "Time:                        09:25:16   Log-Likelihood:                 1976.4\n",
       "No. Observations:                2061   AIC:                            -3951.\n",
       "Df Residuals:                    2060   BIC:                            -3945.\n",
       "Df Model:                           1                                         \n",
       "Covariance Type:            nonrobust                                         \n",
       "==============================================================================\n",
       "                 coef    std err          t      P>|t|      [0.025      0.975]\n",
       "------------------------------------------------------------------------------\n",
       "Market         4.3173      0.288     15.006      0.000       3.753       4.882\n",
       "==============================================================================\n",
       "Omnibus:                      976.092   Durbin-Watson:                   1.873\n",
       "Prob(Omnibus):                  0.000   Jarque-Bera (JB):            29296.292\n",
       "Skew:                           1.621   Prob(JB):                         0.00\n",
       "Kurtosis:                      21.184   Cond. No.                         1.00\n",
       "==============================================================================\n",
       "\n",
       "Warnings:\n",
       "[1] Standard Errors assume that the covariance matrix of the errors is correctly specified.\n",
       "\"\"\""
      ]
     },
     "execution_count": 798,
     "metadata": {},
     "output_type": "execute_result"
    }
   ],
   "source": [
    "capm_OLS = sm.OLS(y_capm, x_capm)\n",
    "capm_results = capm_OLS.fit()\n",
    "capm_results.summary()"
   ]
  },
  {
   "cell_type": "markdown",
   "metadata": {},
   "source": [
    "**Out-of-sample evaluation**"
   ]
  },
  {
   "cell_type": "code",
   "execution_count": 799,
   "metadata": {
    "collapsed": true
   },
   "outputs": [],
   "source": [
    "def split(x,y):\n",
    "    np.random.seed(9001)\n",
    "    msk = np.random.rand(len(x)) < .75\n",
    "    return x[msk], x[~msk], y[msk], y[~msk]"
   ]
  },
  {
   "cell_type": "code",
   "execution_count": 800,
   "metadata": {
    "collapsed": true
   },
   "outputs": [],
   "source": [
    "x_train_three, x_test_three, y_train, y_test = split(x_three, y)"
   ]
  },
  {
   "cell_type": "code",
   "execution_count": 801,
   "metadata": {},
   "outputs": [
    {
     "name": "stdout",
     "output_type": "stream",
     "text": [
      "Three factor test r2 of 0.12050916425090707\n"
     ]
    }
   ],
   "source": [
    "three_factor_OLS = sm.OLS(y_train, x_train_three.values)\n",
    "results_sm = three_factor_OLS.fit()\n",
    "print('Three factor test r2 of {}'.format(r2_score(y_test, results_sm.predict(x_test_three.values))))"
   ]
  },
  {
   "cell_type": "code",
   "execution_count": 802,
   "metadata": {
    "collapsed": true
   },
   "outputs": [],
   "source": [
    "x_train_five, x_test_five, y_train, y_test = split(x_five, y)"
   ]
  },
  {
   "cell_type": "code",
   "execution_count": 803,
   "metadata": {},
   "outputs": [
    {
     "name": "stdout",
     "output_type": "stream",
     "text": [
      "Five factor test r2 of 0.12595466382666898\n"
     ]
    }
   ],
   "source": [
    "five_factor_OLS = sm.OLS(y_train, x_train_five.values)\n",
    "results_sm = five_factor_OLS.fit()\n",
    "print('Five factor test r2 of {}'.format(r2_score(y_test, results_sm.predict(x_test_five.values))))"
   ]
  },
  {
   "cell_type": "code",
   "execution_count": 804,
   "metadata": {},
   "outputs": [],
   "source": [
    "x_train_capm, x_test_capm, y_train_capm, y_test_capm = split(x_capm, y_capm)"
   ]
  },
  {
   "cell_type": "code",
   "execution_count": 805,
   "metadata": {},
   "outputs": [
    {
     "name": "stdout",
     "output_type": "stream",
     "text": [
      "CAPM test r2 of 0.1306707400174345\n"
     ]
    }
   ],
   "source": [
    "capm_OLS = sm.OLS(y_train_capm, x_train_capm.values)\n",
    "results_sm = capm_OLS.fit()\n",
    "print('CAPM test r2 of {}'.format(r2_score(y_test_capm, results_sm.predict(x_test_capm.values))))"
   ]
  },
  {
   "cell_type": "markdown",
   "metadata": {},
   "source": [
    "**EDA for Value Factor**"
   ]
  },
  {
   "cell_type": "code",
   "execution_count": 806,
   "metadata": {},
   "outputs": [],
   "source": [
    "value_df = pd.read_csv('RZV.csv', index_col = 'Date')"
   ]
  },
  {
   "cell_type": "code",
   "execution_count": 807,
   "metadata": {
    "collapsed": true
   },
   "outputs": [],
   "source": [
    "value_df.index = pd.to_datetime(value_df.index)"
   ]
  },
  {
   "cell_type": "code",
   "execution_count": 808,
   "metadata": {},
   "outputs": [],
   "source": [
    "df_value = portfolio_values\n",
    "df_value['Value'] = np.log(value_df['Close']) - np.log(value_df['Open'])\n",
    "df_value = df_value.dropna()"
   ]
  },
  {
   "cell_type": "code",
   "execution_count": 809,
   "metadata": {},
   "outputs": [],
   "source": [
    "x_value = df_value['Value']\n",
    "y_value = df_value['Returns']"
   ]
  },
  {
   "cell_type": "code",
   "execution_count": 810,
   "metadata": {},
   "outputs": [
    {
     "data": {
      "text/html": [
       "<table class=\"simpletable\">\n",
       "<caption>OLS Regression Results</caption>\n",
       "<tr>\n",
       "  <th>Dep. Variable:</th>         <td>Returns</td>     <th>  R-squared:         </th> <td>   0.079</td>\n",
       "</tr>\n",
       "<tr>\n",
       "  <th>Model:</th>                   <td>OLS</td>       <th>  Adj. R-squared:    </th> <td>   0.078</td>\n",
       "</tr>\n",
       "<tr>\n",
       "  <th>Method:</th>             <td>Least Squares</td>  <th>  F-statistic:       </th> <td>   133.1</td>\n",
       "</tr>\n",
       "<tr>\n",
       "  <th>Date:</th>             <td>Thu, 16 Nov 2017</td> <th>  Prob (F-statistic):</th> <td>1.34e-29</td>\n",
       "</tr>\n",
       "<tr>\n",
       "  <th>Time:</th>                 <td>09:25:34</td>     <th>  Log-Likelihood:    </th> <td>  1565.6</td>\n",
       "</tr>\n",
       "<tr>\n",
       "  <th>No. Observations:</th>      <td>  1557</td>      <th>  AIC:               </th> <td>  -3129.</td>\n",
       "</tr>\n",
       "<tr>\n",
       "  <th>Df Residuals:</th>          <td>  1556</td>      <th>  BIC:               </th> <td>  -3124.</td>\n",
       "</tr>\n",
       "<tr>\n",
       "  <th>Df Model:</th>              <td>     1</td>      <th>                     </th>     <td> </td>   \n",
       "</tr>\n",
       "<tr>\n",
       "  <th>Covariance Type:</th>      <td>nonrobust</td>    <th>                     </th>     <td> </td>   \n",
       "</tr>\n",
       "</table>\n",
       "<table class=\"simpletable\">\n",
       "<tr>\n",
       "    <td></td>       <th>coef</th>     <th>std err</th>      <th>t</th>      <th>P>|t|</th>  <th>[0.025</th>    <th>0.975]</th>  \n",
       "</tr>\n",
       "<tr>\n",
       "  <th>Value</th> <td>    2.3535</td> <td>    0.204</td> <td>   11.536</td> <td> 0.000</td> <td>    1.953</td> <td>    2.754</td>\n",
       "</tr>\n",
       "</table>\n",
       "<table class=\"simpletable\">\n",
       "<tr>\n",
       "  <th>Omnibus:</th>       <td>885.945</td> <th>  Durbin-Watson:     </th> <td>   2.053</td> \n",
       "</tr>\n",
       "<tr>\n",
       "  <th>Prob(Omnibus):</th> <td> 0.000</td>  <th>  Jarque-Bera (JB):  </th> <td>49205.855</td>\n",
       "</tr>\n",
       "<tr>\n",
       "  <th>Skew:</th>          <td> 1.902</td>  <th>  Prob(JB):          </th> <td>    0.00</td> \n",
       "</tr>\n",
       "<tr>\n",
       "  <th>Kurtosis:</th>      <td>30.276</td>  <th>  Cond. No.          </th> <td>    1.00</td> \n",
       "</tr>\n",
       "</table>"
      ],
      "text/plain": [
       "<class 'statsmodels.iolib.summary.Summary'>\n",
       "\"\"\"\n",
       "                            OLS Regression Results                            \n",
       "==============================================================================\n",
       "Dep. Variable:                Returns   R-squared:                       0.079\n",
       "Model:                            OLS   Adj. R-squared:                  0.078\n",
       "Method:                 Least Squares   F-statistic:                     133.1\n",
       "Date:                Thu, 16 Nov 2017   Prob (F-statistic):           1.34e-29\n",
       "Time:                        09:25:34   Log-Likelihood:                 1565.6\n",
       "No. Observations:                1557   AIC:                            -3129.\n",
       "Df Residuals:                    1556   BIC:                            -3124.\n",
       "Df Model:                           1                                         \n",
       "Covariance Type:            nonrobust                                         \n",
       "==============================================================================\n",
       "                 coef    std err          t      P>|t|      [0.025      0.975]\n",
       "------------------------------------------------------------------------------\n",
       "Value          2.3535      0.204     11.536      0.000       1.953       2.754\n",
       "==============================================================================\n",
       "Omnibus:                      885.945   Durbin-Watson:                   2.053\n",
       "Prob(Omnibus):                  0.000   Jarque-Bera (JB):            49205.855\n",
       "Skew:                           1.902   Prob(JB):                         0.00\n",
       "Kurtosis:                      30.276   Cond. No.                         1.00\n",
       "==============================================================================\n",
       "\n",
       "Warnings:\n",
       "[1] Standard Errors assume that the covariance matrix of the errors is correctly specified.\n",
       "\"\"\""
      ]
     },
     "execution_count": 810,
     "metadata": {},
     "output_type": "execute_result"
    }
   ],
   "source": [
    "value_OLS = sm.OLS(y_value, x_value)\n",
    "value_results = value_OLS.fit()\n",
    "value_results.summary()"
   ]
  },
  {
   "cell_type": "code",
   "execution_count": 811,
   "metadata": {
    "scrolled": false
   },
   "outputs": [
    {
     "name": "stdout",
     "output_type": "stream",
     "text": [
      "Value factor test r2 of 0.0679348059461744\n"
     ]
    }
   ],
   "source": [
    "x_train_value, x_test_value, y_train_value, y_test_value = split(x_value, y_value)\n",
    "value_OLS = sm.OLS(y_train_value.values, x_train_value.values)\n",
    "results_sm = value_OLS.fit()\n",
    "print('Value factor test r2 of {}'.format(r2_score(y_test_value, results_sm.predict(x_test_value.values))))"
   ]
  },
  {
   "cell_type": "code",
   "execution_count": 812,
   "metadata": {},
   "outputs": [],
   "source": [
    "x_value = df_five['SMB']\n",
    "y_value = df_five['Returns']"
   ]
  },
  {
   "cell_type": "code",
   "execution_count": 813,
   "metadata": {},
   "outputs": [
    {
     "name": "stdout",
     "output_type": "stream",
     "text": [
      "Value factor test r2 of 0.07922111202152493\n"
     ]
    }
   ],
   "source": [
    "x_train_value, x_test_value, y_train_value, y_test_value = split(x_value, y_value)\n",
    "value_OLS = sm.OLS(y_train_value.values, x_train_value.values)\n",
    "results_sm = value_OLS.fit()\n",
    "print('Value factor test r2 of {}'.format(r2_score(y_test_value, results_sm.predict(x_test_value.values))))"
   ]
  },
  {
   "cell_type": "code",
   "execution_count": 842,
   "metadata": {
    "scrolled": false
   },
   "outputs": [
    {
     "name": "stdout",
     "output_type": "stream",
     "text": [
      "                                     USAK                                     \n",
      "==============================================================================\n",
      "Dep. Variable:                Returns   R-squared:                       0.079\n",
      "Model:                            OLS   Adj. R-squared:                  0.076\n",
      "Method:                 Least Squares   F-statistic:                     25.91\n",
      "Date:                Thu, 16 Nov 2017   Prob (F-statistic):           3.59e-25\n",
      "Time:                        09:32:46   Log-Likelihood:                 3232.6\n",
      "No. Observations:                1523   AIC:                            -6455.\n",
      "Df Residuals:                    1518   BIC:                            -6429.\n",
      "Df Model:                           5                                         \n",
      "Covariance Type:            nonrobust                                         \n",
      "==============================================================================\n",
      "                 coef    std err          t      P>|t|      [0.025      0.975]\n",
      "------------------------------------------------------------------------------\n",
      "Mkt-RF         0.0034      0.001      3.721      0.000       0.002       0.005\n",
      "SMB            0.0125      0.002      7.596      0.000       0.009       0.016\n",
      "HML            0.0026      0.002      1.298      0.194      -0.001       0.007\n",
      "RMW            0.0043      0.003      1.590      0.112      -0.001       0.010\n",
      "CMA            0.0067      0.003      2.038      0.042       0.000       0.013\n",
      "==============================================================================\n",
      "Omnibus:                      362.835   Durbin-Watson:                   1.956\n",
      "Prob(Omnibus):                  0.000   Jarque-Bera (JB):             5578.240\n",
      "Skew:                          -0.676   Prob(JB):                         0.00\n",
      "Kurtosis:                      12.278   Cond. No.                         5.10\n",
      "==============================================================================\n",
      "\n",
      "Warnings:\n",
      "[1] Standard Errors assume that the covariance matrix of the errors is correctly specified.\n",
      "                                    RHDGF                                     \n",
      "==============================================================================\n",
      "Dep. Variable:                Returns   R-squared:                       0.004\n",
      "Model:                            OLS   Adj. R-squared:                 -0.000\n",
      "Method:                 Least Squares   F-statistic:                    0.9121\n",
      "Date:                Thu, 16 Nov 2017   Prob (F-statistic):              0.472\n",
      "Time:                        09:32:46   Log-Likelihood:                 2122.8\n",
      "No. Observations:                1159   AIC:                            -4236.\n",
      "Df Residuals:                    1154   BIC:                            -4210.\n",
      "Df Model:                           5                                         \n",
      "Covariance Type:            nonrobust                                         \n",
      "==============================================================================\n",
      "                 coef    std err          t      P>|t|      [0.025      0.975]\n",
      "------------------------------------------------------------------------------\n",
      "Mkt-RF         0.0015      0.001      1.030      0.303      -0.001       0.004\n",
      "SMB           -0.0028      0.003     -1.092      0.275      -0.008       0.002\n",
      "HML           -0.0049      0.003     -1.590      0.112      -0.011       0.001\n",
      "RMW            0.0017      0.004      0.406      0.685      -0.006       0.010\n",
      "CMA            0.0061      0.005      1.229      0.219      -0.004       0.016\n",
      "==============================================================================\n",
      "Omnibus:                     1697.655   Durbin-Watson:                   1.311\n",
      "Prob(Omnibus):                  0.000   Jarque-Bera (JB):           968012.439\n",
      "Skew:                           8.130   Prob(JB):                         0.00\n",
      "Kurtosis:                     143.644   Cond. No.                         4.72\n",
      "==============================================================================\n",
      "\n",
      "Warnings:\n",
      "[1] Standard Errors assume that the covariance matrix of the errors is correctly specified.\n",
      "                                     DXLG                                     \n",
      "==============================================================================\n",
      "Dep. Variable:                Returns   R-squared:                       0.125\n",
      "Model:                            OLS   Adj. R-squared:                  0.122\n",
      "Method:                 Least Squares   F-statistic:                     43.40\n",
      "Date:                Thu, 16 Nov 2017   Prob (F-statistic):           6.46e-42\n",
      "Time:                        09:32:46   Log-Likelihood:                 3239.8\n",
      "No. Observations:                1523   AIC:                            -6470.\n",
      "Df Residuals:                    1518   BIC:                            -6443.\n",
      "Df Model:                           5                                         \n",
      "Covariance Type:            nonrobust                                         \n",
      "==============================================================================\n",
      "                 coef    std err          t      P>|t|      [0.025      0.975]\n",
      "------------------------------------------------------------------------------\n",
      "Mkt-RF         0.0042      0.001      4.584      0.000       0.002       0.006\n",
      "SMB            0.0168      0.002     10.294      0.000       0.014       0.020\n",
      "HML            0.0039      0.002      1.937      0.053   -5.01e-05       0.008\n",
      "RMW            0.0050      0.003      1.864      0.063      -0.000       0.010\n",
      "CMA            0.0032      0.003      0.982      0.326      -0.003       0.010\n",
      "==============================================================================\n",
      "Omnibus:                      216.195   Durbin-Watson:                   2.063\n",
      "Prob(Omnibus):                  0.000   Jarque-Bera (JB):             2068.813\n",
      "Skew:                           0.313   Prob(JB):                         0.00\n",
      "Kurtosis:                       8.675   Cond. No.                         5.10\n",
      "==============================================================================\n",
      "\n",
      "Warnings:\n",
      "[1] Standard Errors assume that the covariance matrix of the errors is correctly specified.\n",
      "                                    NUSMF                                     \n",
      "==============================================================================\n",
      "Dep. Variable:                Returns   R-squared:                       0.011\n",
      "Model:                            OLS   Adj. R-squared:                  0.008\n",
      "Method:                 Least Squares   F-statistic:                     3.412\n",
      "Date:                Thu, 16 Nov 2017   Prob (F-statistic):            0.00453\n",
      "Time:                        09:32:46   Log-Likelihood:                 2157.9\n",
      "No. Observations:                1523   AIC:                            -4306.\n",
      "Df Residuals:                    1518   BIC:                            -4279.\n",
      "Df Model:                           5                                         \n",
      "Covariance Type:            nonrobust                                         \n",
      "==============================================================================\n",
      "                 coef    std err          t      P>|t|      [0.025      0.975]\n",
      "------------------------------------------------------------------------------\n",
      "Mkt-RF         0.0066      0.002      3.536      0.000       0.003       0.010\n",
      "SMB           -0.0048      0.003     -1.437      0.151      -0.011       0.002\n",
      "HML           -0.0093      0.004     -2.254      0.024      -0.017      -0.001\n",
      "RMW           -0.0031      0.005     -0.570      0.569      -0.014       0.008\n",
      "CMA            0.0132      0.007      1.983      0.048       0.000       0.026\n",
      "==============================================================================\n",
      "Omnibus:                     1483.355   Durbin-Watson:                   2.097\n",
      "Prob(Omnibus):                  0.000   Jarque-Bera (JB):           429027.947\n",
      "Skew:                           3.903   Prob(JB):                         0.00\n",
      "Kurtosis:                      84.853   Cond. No.                         5.10\n",
      "==============================================================================\n",
      "\n",
      "Warnings:\n",
      "[1] Standard Errors assume that the covariance matrix of the errors is correctly specified.\n",
      "                                     LEE                                      \n",
      "==============================================================================\n",
      "Dep. Variable:                Returns   R-squared:                       0.056\n",
      "Model:                            OLS   Adj. R-squared:                  0.053\n",
      "Method:                 Least Squares   F-statistic:                     18.00\n",
      "Date:                Thu, 16 Nov 2017   Prob (F-statistic):           2.21e-17\n",
      "Time:                        09:32:46   Log-Likelihood:                 2663.8\n",
      "No. Observations:                1523   AIC:                            -5318.\n",
      "Df Residuals:                    1518   BIC:                            -5291.\n",
      "Df Model:                           5                                         \n",
      "Covariance Type:            nonrobust                                         \n",
      "==============================================================================\n",
      "                 coef    std err          t      P>|t|      [0.025      0.975]\n",
      "------------------------------------------------------------------------------\n",
      "Mkt-RF         0.0055      0.001      4.103      0.000       0.003       0.008\n",
      "SMB            0.0132      0.002      5.516      0.000       0.008       0.018\n",
      "HML            0.0011      0.003      0.374      0.709      -0.005       0.007\n",
      "RMW            0.0021      0.004      0.521      0.602      -0.006       0.010\n",
      "CMA            0.0051      0.005      1.074      0.283      -0.004       0.015\n",
      "==============================================================================\n",
      "Omnibus:                      388.445   Durbin-Watson:                   2.038\n",
      "Prob(Omnibus):                  0.000   Jarque-Bera (JB):             7016.316\n",
      "Skew:                           0.707   Prob(JB):                         0.00\n",
      "Kurtosis:                      13.420   Cond. No.                         5.10\n",
      "==============================================================================\n",
      "\n",
      "Warnings:\n",
      "[1] Standard Errors assume that the covariance matrix of the errors is correctly specified.\n"
     ]
    }
   ],
   "source": [
    "for stock in stocks_held:\n",
    "    stock_group = grouped_by_stock.get_group(stock).groupby('Date').sum()\n",
    "    temp_df = pd.concat([stock_group, five_factor_df], axis=1, join='inner').dropna()\n",
    "    x = temp_df[five_factors]\n",
    "    y = temp_df['Returns']\n",
    "    x_train, x_test, y_train, y_test = split(x, y)\n",
    "    OLS = sm.OLS(y_train, x_train)\n",
    "    results = OLS.fit()\n",
    "    print(results.summary(title=stock))"
   ]
  },
  {
   "cell_type": "code",
   "execution_count": null,
   "metadata": {
    "collapsed": true
   },
   "outputs": [],
   "source": []
  }
 ],
 "metadata": {
  "kernelspec": {
   "display_name": "Python 3",
   "language": "python",
   "name": "python3"
  },
  "language_info": {
   "codemirror_mode": {
    "name": "ipython",
    "version": 3
   },
   "file_extension": ".py",
   "mimetype": "text/x-python",
   "name": "python",
   "nbconvert_exporter": "python",
   "pygments_lexer": "ipython3",
   "version": "3.6.1"
  }
 },
 "nbformat": 4,
 "nbformat_minor": 2
}
