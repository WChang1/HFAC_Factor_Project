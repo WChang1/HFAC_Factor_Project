{
 "cells": [
  {
   "cell_type": "code",
   "execution_count": 1358,
   "metadata": {},
   "outputs": [],
   "source": [
    "import numpy as np\n",
    "import pandas as pd\n",
    "import matplotlib\n",
    "import matplotlib.pyplot as plt\n",
    "from sklearn.linear_model import LogisticRegressionCV\n",
    "import sklearn.metrics as metrics\n",
    "from sklearn.metrics import r2_score\n",
    "from sklearn.preprocessing import PolynomialFeatures\n",
    "from sklearn.discriminant_analysis import LinearDiscriminantAnalysis\n",
    "from sklearn.discriminant_analysis import QuadraticDiscriminantAnalysis\n",
    "from sklearn.tree import DecisionTreeClassifier\n",
    "from sklearn.model_selection import cross_val_score\n",
    "from sklearn.model_selection import cross_val_score\n",
    "from sklearn.metrics import accuracy_score\n",
    "import sklearn.discriminant_analysis as da\n",
    "import sklearn.neighbors as knn\n",
    "from sklearn.model_selection import KFold\n",
    "from sklearn.linear_model import LogisticRegression\n",
    "from sklearn.linear_model import LinearRegression\n",
    "from sklearn.metrics import confusion_matrix\n",
    "from sklearn.metrics import roc_curve, auc\n",
    "from sklearn.linear_model import Ridge\n",
    "from sklearn.linear_model import Lasso\n",
    "from sklearn.linear_model import RidgeCV\n",
    "from sklearn.linear_model import LassoCV\n",
    "from statsmodels.api import OLS\n",
    "from statsmodels.api import add_constant\n",
    "import statsmodels.api as sm\n",
    "import datetime\n",
    "\n",
    "#import pydotplus\n",
    "#import io\n",
    "from sklearn.tree import export_graphviz\n",
    "from IPython.display import Image\n",
    "from IPython.display import display\n",
    "%matplotlib inline\n",
    "from matplotlib import pyplot\n",
    "default_dims = (13, 10)\n",
    "import seaborn.apionly as sns #sets up styles and gives us more plotting options\n",
    "sns.set_style(\"whitegrid\")\n",
    "sns.set_context(\"poster\")\n",
    "sns.reset_orig()"
   ]
  },
  {
   "cell_type": "code",
   "execution_count": 1359,
   "metadata": {
    "scrolled": false
   },
   "outputs": [
    {
     "name": "stdout",
     "output_type": "stream",
     "text": [
      "(13657, 6)\n"
     ]
    },
    {
     "data": {
      "text/html": [
       "<div>\n",
       "<style>\n",
       "    .dataframe thead tr:only-child th {\n",
       "        text-align: right;\n",
       "    }\n",
       "\n",
       "    .dataframe thead th {\n",
       "        text-align: left;\n",
       "    }\n",
       "\n",
       "    .dataframe tbody tr th {\n",
       "        vertical-align: top;\n",
       "    }\n",
       "</style>\n",
       "<table border=\"1\" class=\"dataframe\">\n",
       "  <thead>\n",
       "    <tr style=\"text-align: right;\">\n",
       "      <th></th>\n",
       "      <th>Mkt-RF</th>\n",
       "      <th>SMB</th>\n",
       "      <th>HML</th>\n",
       "      <th>RMW</th>\n",
       "      <th>CMA</th>\n",
       "      <th>RF</th>\n",
       "    </tr>\n",
       "    <tr>\n",
       "      <th>Date</th>\n",
       "      <th></th>\n",
       "      <th></th>\n",
       "      <th></th>\n",
       "      <th></th>\n",
       "      <th></th>\n",
       "      <th></th>\n",
       "    </tr>\n",
       "  </thead>\n",
       "  <tbody>\n",
       "    <tr>\n",
       "      <th>19630701</th>\n",
       "      <td>-0.67</td>\n",
       "      <td>0.00</td>\n",
       "      <td>-0.32</td>\n",
       "      <td>0.01</td>\n",
       "      <td>0.15</td>\n",
       "      <td>0.012</td>\n",
       "    </tr>\n",
       "    <tr>\n",
       "      <th>19630702</th>\n",
       "      <td>0.79</td>\n",
       "      <td>-0.27</td>\n",
       "      <td>0.27</td>\n",
       "      <td>-0.08</td>\n",
       "      <td>-0.19</td>\n",
       "      <td>0.012</td>\n",
       "    </tr>\n",
       "    <tr>\n",
       "      <th>19630703</th>\n",
       "      <td>0.63</td>\n",
       "      <td>-0.17</td>\n",
       "      <td>-0.09</td>\n",
       "      <td>0.19</td>\n",
       "      <td>-0.33</td>\n",
       "      <td>0.012</td>\n",
       "    </tr>\n",
       "    <tr>\n",
       "      <th>19630705</th>\n",
       "      <td>0.40</td>\n",
       "      <td>0.08</td>\n",
       "      <td>-0.28</td>\n",
       "      <td>0.07</td>\n",
       "      <td>-0.33</td>\n",
       "      <td>0.012</td>\n",
       "    </tr>\n",
       "    <tr>\n",
       "      <th>19630708</th>\n",
       "      <td>-0.63</td>\n",
       "      <td>0.04</td>\n",
       "      <td>-0.17</td>\n",
       "      <td>-0.31</td>\n",
       "      <td>0.13</td>\n",
       "      <td>0.012</td>\n",
       "    </tr>\n",
       "  </tbody>\n",
       "</table>\n",
       "</div>"
      ],
      "text/plain": [
       "          Mkt-RF   SMB   HML   RMW   CMA     RF\n",
       "Date                                           \n",
       "19630701   -0.67  0.00 -0.32  0.01  0.15  0.012\n",
       "19630702    0.79 -0.27  0.27 -0.08 -0.19  0.012\n",
       "19630703    0.63 -0.17 -0.09  0.19 -0.33  0.012\n",
       "19630705    0.40  0.08 -0.28  0.07 -0.33  0.012\n",
       "19630708   -0.63  0.04 -0.17 -0.31  0.13  0.012"
      ]
     },
     "execution_count": 1359,
     "metadata": {},
     "output_type": "execute_result"
    }
   ],
   "source": [
    "five_factor_df = pd.read_csv('F-F_Research_Data_5_Factors_2x3_daily.CSV', index_col = 'Date')\n",
    "nan_rows = five_factor_df.isnull().T.any().T\n",
    "five_factor_df = five_factor_df[~nan_rows]\n",
    "print(np.shape(five_factor_df))\n",
    "five_factor_df.head()"
   ]
  },
  {
   "cell_type": "code",
   "execution_count": 1360,
   "metadata": {},
   "outputs": [],
   "source": [
    "five_factor_df.index = pd.to_datetime(five_factor_df.index,format='%Y%m%d')"
   ]
  },
  {
   "cell_type": "code",
   "execution_count": 1361,
   "metadata": {},
   "outputs": [
    {
     "name": "stdout",
     "output_type": "stream",
     "text": [
      "(24077, 4)\n"
     ]
    },
    {
     "data": {
      "text/html": [
       "<div>\n",
       "<style>\n",
       "    .dataframe thead tr:only-child th {\n",
       "        text-align: right;\n",
       "    }\n",
       "\n",
       "    .dataframe thead th {\n",
       "        text-align: left;\n",
       "    }\n",
       "\n",
       "    .dataframe tbody tr th {\n",
       "        vertical-align: top;\n",
       "    }\n",
       "</style>\n",
       "<table border=\"1\" class=\"dataframe\">\n",
       "  <thead>\n",
       "    <tr style=\"text-align: right;\">\n",
       "      <th></th>\n",
       "      <th>Mkt-RF</th>\n",
       "      <th>SMB</th>\n",
       "      <th>HML</th>\n",
       "      <th>RF</th>\n",
       "    </tr>\n",
       "    <tr>\n",
       "      <th>Date</th>\n",
       "      <th></th>\n",
       "      <th></th>\n",
       "      <th></th>\n",
       "      <th></th>\n",
       "    </tr>\n",
       "  </thead>\n",
       "  <tbody>\n",
       "    <tr>\n",
       "      <th>19260701</th>\n",
       "      <td>0.10</td>\n",
       "      <td>-0.24</td>\n",
       "      <td>-0.28</td>\n",
       "      <td>0.009</td>\n",
       "    </tr>\n",
       "    <tr>\n",
       "      <th>19260702</th>\n",
       "      <td>0.45</td>\n",
       "      <td>-0.32</td>\n",
       "      <td>-0.08</td>\n",
       "      <td>0.009</td>\n",
       "    </tr>\n",
       "    <tr>\n",
       "      <th>19260706</th>\n",
       "      <td>0.17</td>\n",
       "      <td>0.27</td>\n",
       "      <td>-0.35</td>\n",
       "      <td>0.009</td>\n",
       "    </tr>\n",
       "    <tr>\n",
       "      <th>19260707</th>\n",
       "      <td>0.09</td>\n",
       "      <td>-0.59</td>\n",
       "      <td>0.03</td>\n",
       "      <td>0.009</td>\n",
       "    </tr>\n",
       "    <tr>\n",
       "      <th>19260708</th>\n",
       "      <td>0.21</td>\n",
       "      <td>-0.36</td>\n",
       "      <td>0.15</td>\n",
       "      <td>0.009</td>\n",
       "    </tr>\n",
       "  </tbody>\n",
       "</table>\n",
       "</div>"
      ],
      "text/plain": [
       "          Mkt-RF   SMB   HML     RF\n",
       "Date                               \n",
       "19260701    0.10 -0.24 -0.28  0.009\n",
       "19260702    0.45 -0.32 -0.08  0.009\n",
       "19260706    0.17  0.27 -0.35  0.009\n",
       "19260707    0.09 -0.59  0.03  0.009\n",
       "19260708    0.21 -0.36  0.15  0.009"
      ]
     },
     "execution_count": 1361,
     "metadata": {},
     "output_type": "execute_result"
    }
   ],
   "source": [
    "three_factor_df = pd.read_csv('F-F_Research_Data_Factors_daily.CSV', index_col = 'Date')\n",
    "nan_rows = three_factor_df.isnull().T.any().T\n",
    "three_factor_df = three_factor_df[~nan_rows]\n",
    "print(np.shape(three_factor_df))\n",
    "three_factor_df.head()"
   ]
  },
  {
   "cell_type": "code",
   "execution_count": 1362,
   "metadata": {},
   "outputs": [],
   "source": [
    "three_factor_df.index = pd.to_datetime(three_factor_df.index,format='%Y%m%d')"
   ]
  },
  {
   "cell_type": "code",
   "execution_count": 1363,
   "metadata": {},
   "outputs": [],
   "source": [
    "three_factors = [x for x in three_factor_df.columns if x != 'Date' and x != 'RF']\n",
    "five_factors = [x for x in five_factor_df.columns if x != 'Date' and x != 'RF']"
   ]
  },
  {
   "cell_type": "code",
   "execution_count": 1388,
   "metadata": {},
   "outputs": [
    {
     "name": "stdout",
     "output_type": "stream",
     "text": [
      "Mkt-RF Mean: 0.05606913183279745, Mkt-RF Stdev: 0.7872587049583424\n",
      "SMB Mean: 0.0031189710610932428, SMB Stdev: 0.48855148651674307\n",
      "HML Mean: 0.00043408360128617546, HML Stdev: 0.4668905536240676\n",
      "RMW Mean: -7.234726688102836e-05, RMW Stdev: 0.30505427998461854\n",
      "CMA Mean: -0.006197749196141472, CMA Stdev: 0.2938278737903466\n"
     ]
    },
    {
     "data": {
      "image/png": "[encoded data removed]",
      "text/plain": [
       "<matplotlib.figure.Figure at 0x11df67630>"
      ]
     },
     "metadata": {},
     "output_type": "display_data"
    },
    {
     "data": {
      "image/png": "[encoded data removed]",
      "text/plain": [
       "<matplotlib.figure.Figure at 0x11c346630>"
      ]
     },
     "metadata": {},
     "output_type": "display_data"
    },
    {
     "data": {
      "image/png": "[encoded data removed]",
      "text/plain": [
       "<matplotlib.figure.Figure at 0x11bf017f0>"
      ]
     },
     "metadata": {},
     "output_type": "display_data"
    },
    {
     "data": {
      "image/png": "[encoded data removed]",
      "text/plain": [
       "<matplotlib.figure.Figure at 0x11ee28780>"
      ]
     },
     "metadata": {},
     "output_type": "display_data"
    },
    {
     "data": {
      "image/png": "[encoded data removed]",
      "text/plain": [
       "<matplotlib.figure.Figure at 0x11ec81710>"
      ]
     },
     "metadata": {},
     "output_type": "display_data"
    }
   ],
   "source": [
    "for factor in five_factors:\n",
    "    fig, ax = pyplot.subplots()\n",
    "    plt.hist(five_factor_df[factor])\n",
    "    print('{} Mean: {}, {} Stdev: {}'.format(factor, np.mean(five_factor_df[factor]), factor, np.std(five_factor_df[factor])))\n",
    "    ax.set_xlabel(factor);\n",
    "    ax.set_ylabel('Returns since 2013');"
   ]
  },
  {
   "cell_type": "code",
   "execution_count": 1365,
   "metadata": {
    "collapsed": true
   },
   "outputs": [],
   "source": [
    "stocks_held = ['USAK', 'RHDGF', 'DXLG', 'NUSMF', 'LEE', 'AXLE']\n",
    "# stocks_held = ['USAK', 'RHDGF', 'DXLG', 'NUSMF', 'LEE']"
   ]
  },
  {
   "cell_type": "code",
   "execution_count": 1366,
   "metadata": {
    "collapsed": true
   },
   "outputs": [],
   "source": [
    "quantities = [180, 110, 1000, 8000, 425, 2000]\n",
    "# quantities = [180, 110, 1000, 8000, 425]"
   ]
  },
  {
   "cell_type": "code",
   "execution_count": 1367,
   "metadata": {},
   "outputs": [],
   "source": [
    "ptf_dict = {stocks_held[i]: quantities[i] for i in range(len(quantities))}"
   ]
  },
  {
   "cell_type": "code",
   "execution_count": 1368,
   "metadata": {
    "scrolled": true
   },
   "outputs": [
    {
     "data": {
      "text/html": [
       "<div>\n",
       "<style>\n",
       "    .dataframe thead tr:only-child th {\n",
       "        text-align: right;\n",
       "    }\n",
       "\n",
       "    .dataframe thead th {\n",
       "        text-align: left;\n",
       "    }\n",
       "\n",
       "    .dataframe tbody tr th {\n",
       "        vertical-align: top;\n",
       "    }\n",
       "</style>\n",
       "<table border=\"1\" class=\"dataframe\">\n",
       "  <thead>\n",
       "    <tr style=\"text-align: right;\">\n",
       "      <th></th>\n",
       "      <th>Date</th>\n",
       "      <th>Open</th>\n",
       "      <th>High</th>\n",
       "      <th>Low</th>\n",
       "      <th>Close</th>\n",
       "      <th>Adj Close</th>\n",
       "      <th>Volume</th>\n",
       "      <th>Stock</th>\n",
       "    </tr>\n",
       "  </thead>\n",
       "  <tbody>\n",
       "    <tr>\n",
       "      <th>0</th>\n",
       "      <td>1992-03-19</td>\n",
       "      <td>7.5</td>\n",
       "      <td>7.5</td>\n",
       "      <td>7</td>\n",
       "      <td>7.125</td>\n",
       "      <td>7.125</td>\n",
       "      <td>1256400</td>\n",
       "      <td>USAK</td>\n",
       "    </tr>\n",
       "    <tr>\n",
       "      <th>1</th>\n",
       "      <td>1992-03-20</td>\n",
       "      <td>7.375</td>\n",
       "      <td>7.625</td>\n",
       "      <td>7.125</td>\n",
       "      <td>7.25</td>\n",
       "      <td>7.25</td>\n",
       "      <td>262800</td>\n",
       "      <td>USAK</td>\n",
       "    </tr>\n",
       "    <tr>\n",
       "      <th>2</th>\n",
       "      <td>1992-03-23</td>\n",
       "      <td>7.25</td>\n",
       "      <td>7.625</td>\n",
       "      <td>7.25</td>\n",
       "      <td>7.25</td>\n",
       "      <td>7.25</td>\n",
       "      <td>43800</td>\n",
       "      <td>USAK</td>\n",
       "    </tr>\n",
       "    <tr>\n",
       "      <th>3</th>\n",
       "      <td>1992-03-24</td>\n",
       "      <td>7.5</td>\n",
       "      <td>7.625</td>\n",
       "      <td>7.25</td>\n",
       "      <td>7.5</td>\n",
       "      <td>7.5</td>\n",
       "      <td>73600</td>\n",
       "      <td>USAK</td>\n",
       "    </tr>\n",
       "    <tr>\n",
       "      <th>4</th>\n",
       "      <td>1992-03-25</td>\n",
       "      <td>7.625</td>\n",
       "      <td>7.625</td>\n",
       "      <td>7.25</td>\n",
       "      <td>7.625</td>\n",
       "      <td>7.625</td>\n",
       "      <td>28000</td>\n",
       "      <td>USAK</td>\n",
       "    </tr>\n",
       "  </tbody>\n",
       "</table>\n",
       "</div>"
      ],
      "text/plain": [
       "         Date   Open   High    Low  Close Adj Close   Volume Stock\n",
       "0  1992-03-19    7.5    7.5      7  7.125     7.125  1256400  USAK\n",
       "1  1992-03-20  7.375  7.625  7.125   7.25      7.25   262800  USAK\n",
       "2  1992-03-23   7.25  7.625   7.25   7.25      7.25    43800  USAK\n",
       "3  1992-03-24    7.5  7.625   7.25    7.5       7.5    73600  USAK\n",
       "4  1992-03-25  7.625  7.625   7.25  7.625     7.625    28000  USAK"
      ]
     },
     "execution_count": 1368,
     "metadata": {},
     "output_type": "execute_result"
    }
   ],
   "source": [
    "dfs = []\n",
    "for stock in stocks_held:\n",
    "    if stock != 'AXLE':\n",
    "        stock_df = pd.read_csv('{}.csv'.format(stock), index_col = None)\n",
    "        stock_df['Stock'] = stock\n",
    "        dfs.append(stock_df)\n",
    "\n",
    "# Adds in last dataframe at the end to keep them in order\n",
    "df = pd.concat(dfs)\n",
    "df.head()"
   ]
  },
  {
   "cell_type": "code",
   "execution_count": 1369,
   "metadata": {},
   "outputs": [],
   "source": [
    "df['Date'] = pd.to_datetime(df['Date'])"
   ]
  },
  {
   "cell_type": "code",
   "execution_count": 1370,
   "metadata": {},
   "outputs": [
    {
     "name": "stderr",
     "output_type": "stream",
     "text": [
      "/anaconda/lib/python3.6/site-packages/ipykernel_launcher.py:1: FutureWarning: convert_objects is deprecated.  Use the data-type specific converters pd.to_datetime, pd.to_timedelta and pd.to_numeric.\n",
      "  \"\"\"Entry point for launching an IPython kernel.\n"
     ]
    }
   ],
   "source": [
    "df = df.convert_objects(convert_numeric=True)"
   ]
  },
  {
   "cell_type": "code",
   "execution_count": 1371,
   "metadata": {},
   "outputs": [
    {
     "data": {
      "text/html": [
       "<div>\n",
       "<style>\n",
       "    .dataframe thead tr:only-child th {\n",
       "        text-align: right;\n",
       "    }\n",
       "\n",
       "    .dataframe thead th {\n",
       "        text-align: left;\n",
       "    }\n",
       "\n",
       "    .dataframe tbody tr th {\n",
       "        vertical-align: top;\n",
       "    }\n",
       "</style>\n",
       "<table border=\"1\" class=\"dataframe\">\n",
       "  <thead>\n",
       "    <tr style=\"text-align: right;\">\n",
       "      <th></th>\n",
       "      <th>Date</th>\n",
       "      <th>Open</th>\n",
       "      <th>High</th>\n",
       "      <th>Low</th>\n",
       "      <th>Close</th>\n",
       "      <th>Adj Close</th>\n",
       "      <th>Volume</th>\n",
       "      <th>Stock</th>\n",
       "    </tr>\n",
       "  </thead>\n",
       "  <tbody>\n",
       "    <tr>\n",
       "      <th>0</th>\n",
       "      <td>1992-03-19</td>\n",
       "      <td>1350.0</td>\n",
       "      <td>7.500</td>\n",
       "      <td>7.000</td>\n",
       "      <td>1282.5</td>\n",
       "      <td>7.125</td>\n",
       "      <td>1256400.0</td>\n",
       "      <td>USAK</td>\n",
       "    </tr>\n",
       "    <tr>\n",
       "      <th>1</th>\n",
       "      <td>1992-03-20</td>\n",
       "      <td>1327.5</td>\n",
       "      <td>7.625</td>\n",
       "      <td>7.125</td>\n",
       "      <td>1305.0</td>\n",
       "      <td>7.250</td>\n",
       "      <td>262800.0</td>\n",
       "      <td>USAK</td>\n",
       "    </tr>\n",
       "    <tr>\n",
       "      <th>2</th>\n",
       "      <td>1992-03-23</td>\n",
       "      <td>1305.0</td>\n",
       "      <td>7.625</td>\n",
       "      <td>7.250</td>\n",
       "      <td>1305.0</td>\n",
       "      <td>7.250</td>\n",
       "      <td>43800.0</td>\n",
       "      <td>USAK</td>\n",
       "    </tr>\n",
       "    <tr>\n",
       "      <th>3</th>\n",
       "      <td>1992-03-24</td>\n",
       "      <td>1350.0</td>\n",
       "      <td>7.625</td>\n",
       "      <td>7.250</td>\n",
       "      <td>1350.0</td>\n",
       "      <td>7.500</td>\n",
       "      <td>73600.0</td>\n",
       "      <td>USAK</td>\n",
       "    </tr>\n",
       "    <tr>\n",
       "      <th>4</th>\n",
       "      <td>1992-03-25</td>\n",
       "      <td>1372.5</td>\n",
       "      <td>7.625</td>\n",
       "      <td>7.250</td>\n",
       "      <td>1372.5</td>\n",
       "      <td>7.625</td>\n",
       "      <td>28000.0</td>\n",
       "      <td>USAK</td>\n",
       "    </tr>\n",
       "  </tbody>\n",
       "</table>\n",
       "</div>"
      ],
      "text/plain": [
       "        Date    Open   High    Low   Close  Adj Close     Volume Stock\n",
       "0 1992-03-19  1350.0  7.500  7.000  1282.5      7.125  1256400.0  USAK\n",
       "1 1992-03-20  1327.5  7.625  7.125  1305.0      7.250   262800.0  USAK\n",
       "2 1992-03-23  1305.0  7.625  7.250  1305.0      7.250    43800.0  USAK\n",
       "3 1992-03-24  1350.0  7.625  7.250  1350.0      7.500    73600.0  USAK\n",
       "4 1992-03-25  1372.5  7.625  7.250  1372.5      7.625    28000.0  USAK"
      ]
     },
     "execution_count": 1371,
     "metadata": {},
     "output_type": "execute_result"
    }
   ],
   "source": [
    "df.index = range(len(df))\n",
    "df['Open'] = [df['Open'][i] * ptf_dict[df['Stock'][i]] for i in range(len(df))]\n",
    "df['Close'] = [df['Close'][i] * ptf_dict[df['Stock'][i]] for i in range(len(df))]\n",
    "df.head()"
   ]
  },
  {
   "cell_type": "code",
   "execution_count": 1372,
   "metadata": {},
   "outputs": [],
   "source": [
    "AXLE_df = pd.read_csv('AXLE.csv', index_col = None)"
   ]
  },
  {
   "cell_type": "code",
   "execution_count": 1373,
   "metadata": {},
   "outputs": [
    {
     "name": "stderr",
     "output_type": "stream",
     "text": [
      "/anaconda/lib/python3.6/site-packages/ipykernel_launcher.py:3: FutureWarning: convert_objects is deprecated.  Use the data-type specific converters pd.to_datetime, pd.to_timedelta and pd.to_numeric.\n",
      "  This is separate from the ipykernel package so we can avoid doing imports until\n"
     ]
    }
   ],
   "source": [
    "AXLE_df['Stock'] = 'AXLE'\n",
    "AXLE_df['Date'] = pd.to_datetime(AXLE_df['Date'])\n",
    "AXLE_df = AXLE_df.convert_objects(convert_numeric=True)"
   ]
  },
  {
   "cell_type": "code",
   "execution_count": 1374,
   "metadata": {},
   "outputs": [],
   "source": [
    "AXLE_df['Last Price'] = ptf_dict['AXLE'] * AXLE_df['Last Price']\n",
    "return_list = [np.log(AXLE_df['Last Price'][i]) - np.log(AXLE_df['Last Price'][i + 1]) for i in range(len(AXLE_df) - 1)]\n",
    "AXLE_df = AXLE_df.drop(AXLE_df.index[-1])\n",
    "AXLE_df['Returns'] = return_list "
   ]
  },
  {
   "cell_type": "code",
   "execution_count": 1375,
   "metadata": {},
   "outputs": [],
   "source": [
    "df['Returns'] = np.log(df['Close']) - np.log(df['Open'])"
   ]
  },
  {
   "cell_type": "code",
   "execution_count": 1376,
   "metadata": {
    "collapsed": true
   },
   "outputs": [],
   "source": [
    "df = pd.concat([df, AXLE_df])"
   ]
  },
  {
   "cell_type": "code",
   "execution_count": 1377,
   "metadata": {
    "collapsed": true
   },
   "outputs": [],
   "source": [
    "start_date = datetime.datetime(2012, 10, 19)"
   ]
  },
  {
   "cell_type": "code",
   "execution_count": 1378,
   "metadata": {},
   "outputs": [],
   "source": [
    "df = df[df['Date'] >= start_date]"
   ]
  },
  {
   "cell_type": "code",
   "execution_count": 1379,
   "metadata": {
    "collapsed": true
   },
   "outputs": [],
   "source": [
    "three_factor_df = three_factor_df[three_factor_df.index >= datetime.datetime(2012, 10, 19)]"
   ]
  },
  {
   "cell_type": "code",
   "execution_count": 1380,
   "metadata": {
    "collapsed": true
   },
   "outputs": [],
   "source": [
    "five_factor_df = five_factor_df[five_factor_df.index >= datetime.datetime(2012, 10, 19)]"
   ]
  },
  {
   "cell_type": "code",
   "execution_count": 1381,
   "metadata": {},
   "outputs": [],
   "source": [
    "grouped_by_stock = df.groupby('Stock')"
   ]
  },
  {
   "cell_type": "code",
   "execution_count": 1382,
   "metadata": {},
   "outputs": [],
   "source": [
    "grouped_by_date = df.groupby('Date')"
   ]
  },
  {
   "cell_type": "code",
   "execution_count": 1383,
   "metadata": {},
   "outputs": [
    {
     "data": {
      "text/html": [
       "<div>\n",
       "<style>\n",
       "    .dataframe thead tr:only-child th {\n",
       "        text-align: right;\n",
       "    }\n",
       "\n",
       "    .dataframe thead th {\n",
       "        text-align: left;\n",
       "    }\n",
       "\n",
       "    .dataframe tbody tr th {\n",
       "        vertical-align: top;\n",
       "    }\n",
       "</style>\n",
       "<table border=\"1\" class=\"dataframe\">\n",
       "  <thead>\n",
       "    <tr style=\"text-align: right;\">\n",
       "      <th></th>\n",
       "      <th>Adj Close</th>\n",
       "      <th>Close</th>\n",
       "      <th>High</th>\n",
       "      <th>Last Price</th>\n",
       "      <th>Low</th>\n",
       "      <th>Open</th>\n",
       "      <th>Returns</th>\n",
       "      <th>SMAVG (15)</th>\n",
       "      <th>Volume</th>\n",
       "    </tr>\n",
       "    <tr>\n",
       "      <th>Date</th>\n",
       "      <th></th>\n",
       "      <th></th>\n",
       "      <th></th>\n",
       "      <th></th>\n",
       "      <th></th>\n",
       "      <th></th>\n",
       "      <th></th>\n",
       "      <th></th>\n",
       "      <th></th>\n",
       "    </tr>\n",
       "  </thead>\n",
       "  <tbody>\n",
       "    <tr>\n",
       "      <th>2012-10-19</th>\n",
       "      <td>26.674713</td>\n",
       "      <td>14931.25</td>\n",
       "      <td>32.10</td>\n",
       "      <td>NaN</td>\n",
       "      <td>30.18</td>\n",
       "      <td>15167.15</td>\n",
       "      <td>-0.050744</td>\n",
       "      <td>NaN</td>\n",
       "      <td>1373082.0</td>\n",
       "    </tr>\n",
       "    <tr>\n",
       "      <th>2012-10-22</th>\n",
       "      <td>26.554713</td>\n",
       "      <td>14442.40</td>\n",
       "      <td>30.71</td>\n",
       "      <td>NaN</td>\n",
       "      <td>30.16</td>\n",
       "      <td>14835.85</td>\n",
       "      <td>-0.052136</td>\n",
       "      <td>NaN</td>\n",
       "      <td>316500.0</td>\n",
       "    </tr>\n",
       "    <tr>\n",
       "      <th>2012-10-23</th>\n",
       "      <td>26.574713</td>\n",
       "      <td>14286.30</td>\n",
       "      <td>30.49</td>\n",
       "      <td>NaN</td>\n",
       "      <td>30.12</td>\n",
       "      <td>14322.25</td>\n",
       "      <td>0.035713</td>\n",
       "      <td>NaN</td>\n",
       "      <td>192200.0</td>\n",
       "    </tr>\n",
       "    <tr>\n",
       "      <th>2012-10-24</th>\n",
       "      <td>27.710764</td>\n",
       "      <td>13846.70</td>\n",
       "      <td>31.97</td>\n",
       "      <td>NaN</td>\n",
       "      <td>31.59</td>\n",
       "      <td>14510.35</td>\n",
       "      <td>-0.061278</td>\n",
       "      <td>NaN</td>\n",
       "      <td>270100.0</td>\n",
       "    </tr>\n",
       "    <tr>\n",
       "      <th>2012-10-25</th>\n",
       "      <td>27.610764</td>\n",
       "      <td>13912.65</td>\n",
       "      <td>31.79</td>\n",
       "      <td>NaN</td>\n",
       "      <td>31.59</td>\n",
       "      <td>13862.30</td>\n",
       "      <td>-0.008985</td>\n",
       "      <td>NaN</td>\n",
       "      <td>181500.0</td>\n",
       "    </tr>\n",
       "  </tbody>\n",
       "</table>\n",
       "</div>"
      ],
      "text/plain": [
       "            Adj Close     Close   High  Last Price    Low      Open   Returns  \\\n",
       "Date                                                                            \n",
       "2012-10-19  26.674713  14931.25  32.10         NaN  30.18  15167.15 -0.050744   \n",
       "2012-10-22  26.554713  14442.40  30.71         NaN  30.16  14835.85 -0.052136   \n",
       "2012-10-23  26.574713  14286.30  30.49         NaN  30.12  14322.25  0.035713   \n",
       "2012-10-24  27.710764  13846.70  31.97         NaN  31.59  14510.35 -0.061278   \n",
       "2012-10-25  27.610764  13912.65  31.79         NaN  31.59  13862.30 -0.008985   \n",
       "\n",
       "            SMAVG (15)     Volume  \n",
       "Date                               \n",
       "2012-10-19         NaN  1373082.0  \n",
       "2012-10-22         NaN   316500.0  \n",
       "2012-10-23         NaN   192200.0  \n",
       "2012-10-24         NaN   270100.0  \n",
       "2012-10-25         NaN   181500.0  "
      ]
     },
     "execution_count": 1383,
     "metadata": {},
     "output_type": "execute_result"
    }
   ],
   "source": [
    "portfolio_values = grouped_by_date.sum()\n",
    "portfolio_values.head()"
   ]
  },
  {
   "cell_type": "code",
   "execution_count": 1384,
   "metadata": {
    "scrolled": false
   },
   "outputs": [
    {
     "data": {
      "image/png": "[encoded data removed]",
      "text/plain": [
       "<matplotlib.figure.Figure at 0x11c995f98>"
      ]
     },
     "metadata": {},
     "output_type": "display_data"
    }
   ],
   "source": [
    "fig, ax = plt.subplots(figsize=default_dims)\n",
    "portfolio_values['Open'].plot();\n",
    "ax.set_xlabel('Time');\n",
    "ax.set_ylabel('Portfolio');\n",
    "ax.set_title('Value of Current Portfolio Since 2013');"
   ]
  },
  {
   "cell_type": "code",
   "execution_count": 1385,
   "metadata": {
    "scrolled": false
   },
   "outputs": [
    {
     "data": {
      "image/png": "[encoded data removed]",
      "text/plain": [
       "<matplotlib.figure.Figure at 0x117a2f080>"
      ]
     },
     "metadata": {},
     "output_type": "display_data"
    }
   ],
   "source": [
    "msk = [True if i % 100 ==0 else False for i in range(len(three_factor_df))]\n",
    "fig, ax = plt.subplots(figsize=default_dims)\n",
    "for factor in five_factors:\n",
    "    five_factor_df[factor][msk].plot(legend = True);\n",
    "ax.set_xlabel('Time');\n",
    "ax.set_ylabel('Value');\n",
    "ax.set_title('Returns in Each Factor Over Time');"
   ]
  },
  {
   "cell_type": "code",
   "execution_count": 1386,
   "metadata": {},
   "outputs": [
    {
     "name": "stdout",
     "output_type": "stream",
     "text": [
      "Mkt-RF Mean: 0.05606913183279745, Mkt-RF Stdev: 0.7872587049583424\n",
      "SMB Mean: 0.0031189710610932428, SMB Stdev: 0.48855148651674307\n",
      "HML Mean: 0.00043408360128617546, HML Stdev: 0.4668905536240676\n",
      "RMW Mean: -7.234726688102836e-05, RMW Stdev: 0.30505427998461854\n",
      "CMA Mean: -0.006197749196141472, CMA Stdev: 0.2938278737903466\n"
     ]
    },
    {
     "data": {
      "image/png": "[encoded data removed]",
      "text/plain": [
       "<matplotlib.figure.Figure at 0x11ad3ad68>"
      ]
     },
     "metadata": {},
     "output_type": "display_data"
    },
    {
     "data": {
      "image/png": "[encoded data removed]",
      "text/plain": [
       "<matplotlib.figure.Figure at 0x12045e710>"
      ]
     },
     "metadata": {},
     "output_type": "display_data"
    },
    {
     "data": {
      "image/png": "[encoded data removed]",
      "text/plain": [
       "<matplotlib.figure.Figure at 0x11fc50588>"
      ]
     },
     "metadata": {},
     "output_type": "display_data"
    },
    {
     "data": {
      "image/png": "[encoded data removed]",
      "text/plain": [
       "<matplotlib.figure.Figure at 0x11ad69a90>"
      ]
     },
     "metadata": {},
     "output_type": "display_data"
    },
    {
     "data": {
      "image/png": "[encoded data removed]",
      "text/plain": [
       "<matplotlib.figure.Figure at 0x11fbcada0>"
      ]
     },
     "metadata": {},
     "output_type": "display_data"
    }
   ],
   "source": [
    "for factor in five_factors:\n",
    "    fig, ax = pyplot.subplots()\n",
    "    plt.hist(five_factor_df[factor], bins = 50)\n",
    "    print('{} Mean: {}, {} Stdev: {}'.format(factor, np.mean(five_factor_df[factor]), factor, np.std(five_factor_df[factor])))\n",
    "    ax.set_xlabel(factor);\n",
    "    ax.set_ylabel('Returns since 2013');"
   ]
  },
  {
   "cell_type": "markdown",
   "metadata": {},
   "source": [
    "**In-sample evaluation**"
   ]
  },
  {
   "cell_type": "code",
   "execution_count": 1311,
   "metadata": {},
   "outputs": [],
   "source": [
    "df_three = pd.concat([portfolio_values, three_factor_df], axis=1, join='inner')"
   ]
  },
  {
   "cell_type": "code",
   "execution_count": 1312,
   "metadata": {},
   "outputs": [],
   "source": [
    "df_five = pd.concat([portfolio_values, five_factor_df], axis=1, join='inner')"
   ]
  },
  {
   "cell_type": "code",
   "execution_count": 1313,
   "metadata": {},
   "outputs": [],
   "source": [
    "x_three = sm.add_constant(df_three[three_factors])"
   ]
  },
  {
   "cell_type": "code",
   "execution_count": 1314,
   "metadata": {},
   "outputs": [],
   "source": [
    "x_five = sm.add_constant(df_five[five_factors])"
   ]
  },
  {
   "cell_type": "code",
   "execution_count": 1315,
   "metadata": {},
   "outputs": [],
   "source": [
    "y = df_three['Returns']"
   ]
  },
  {
   "cell_type": "code",
   "execution_count": 1316,
   "metadata": {},
   "outputs": [
    {
     "data": {
      "text/html": [
       "<table class=\"simpletable\">\n",
       "<caption>OLS Regression Results</caption>\n",
       "<tr>\n",
       "  <th>Dep. Variable:</th>         <td>Returns</td>     <th>  R-squared:         </th> <td>   0.055</td>\n",
       "</tr>\n",
       "<tr>\n",
       "  <th>Model:</th>                   <td>OLS</td>       <th>  Adj. R-squared:    </th> <td>   0.053</td>\n",
       "</tr>\n",
       "<tr>\n",
       "  <th>Method:</th>             <td>Least Squares</td>  <th>  F-statistic:       </th> <td>   24.10</td>\n",
       "</tr>\n",
       "<tr>\n",
       "  <th>Date:</th>             <td>Thu, 16 Nov 2017</td> <th>  Prob (F-statistic):</th> <td>3.70e-15</td>\n",
       "</tr>\n",
       "<tr>\n",
       "  <th>Time:</th>                 <td>15:49:31</td>     <th>  Log-Likelihood:    </th> <td>  1011.8</td>\n",
       "</tr>\n",
       "<tr>\n",
       "  <th>No. Observations:</th>      <td>  1244</td>      <th>  AIC:               </th> <td>  -2016.</td>\n",
       "</tr>\n",
       "<tr>\n",
       "  <th>Df Residuals:</th>          <td>  1240</td>      <th>  BIC:               </th> <td>  -1995.</td>\n",
       "</tr>\n",
       "<tr>\n",
       "  <th>Df Model:</th>              <td>     3</td>      <th>                     </th>     <td> </td>   \n",
       "</tr>\n",
       "<tr>\n",
       "  <th>Covariance Type:</th>      <td>nonrobust</td>    <th>                     </th>     <td> </td>   \n",
       "</tr>\n",
       "</table>\n",
       "<table class=\"simpletable\">\n",
       "<tr>\n",
       "     <td></td>       <th>coef</th>     <th>std err</th>      <th>t</th>      <th>P>|t|</th>  <th>[0.025</th>    <th>0.975]</th>  \n",
       "</tr>\n",
       "<tr>\n",
       "  <th>const</th>  <td>   -0.0015</td> <td>    0.003</td> <td>   -0.498</td> <td> 0.619</td> <td>   -0.008</td> <td>    0.004</td>\n",
       "</tr>\n",
       "<tr>\n",
       "  <th>Mkt-RF</th> <td>    0.0235</td> <td>    0.004</td> <td>    5.910</td> <td> 0.000</td> <td>    0.016</td> <td>    0.031</td>\n",
       "</tr>\n",
       "<tr>\n",
       "  <th>SMB</th>    <td>    0.0295</td> <td>    0.006</td> <td>    4.581</td> <td> 0.000</td> <td>    0.017</td> <td>    0.042</td>\n",
       "</tr>\n",
       "<tr>\n",
       "  <th>HML</th>    <td>    0.0021</td> <td>    0.007</td> <td>    0.323</td> <td> 0.747</td> <td>   -0.011</td> <td>    0.015</td>\n",
       "</tr>\n",
       "</table>\n",
       "<table class=\"simpletable\">\n",
       "<tr>\n",
       "  <th>Omnibus:</th>       <td>630.208</td> <th>  Durbin-Watson:     </th> <td>   2.022</td> \n",
       "</tr>\n",
       "<tr>\n",
       "  <th>Prob(Omnibus):</th> <td> 0.000</td>  <th>  Jarque-Bera (JB):  </th> <td>21747.027</td>\n",
       "</tr>\n",
       "<tr>\n",
       "  <th>Skew:</th>          <td> 1.702</td>  <th>  Prob(JB):          </th> <td>    0.00</td> \n",
       "</tr>\n",
       "<tr>\n",
       "  <th>Kurtosis:</th>      <td>23.198</td>  <th>  Cond. No.          </th> <td>    2.33</td> \n",
       "</tr>\n",
       "</table>"
      ],
      "text/plain": [
       "<class 'statsmodels.iolib.summary.Summary'>\n",
       "\"\"\"\n",
       "                            OLS Regression Results                            \n",
       "==============================================================================\n",
       "Dep. Variable:                Returns   R-squared:                       0.055\n",
       "Model:                            OLS   Adj. R-squared:                  0.053\n",
       "Method:                 Least Squares   F-statistic:                     24.10\n",
       "Date:                Thu, 16 Nov 2017   Prob (F-statistic):           3.70e-15\n",
       "Time:                        15:49:31   Log-Likelihood:                 1011.8\n",
       "No. Observations:                1244   AIC:                            -2016.\n",
       "Df Residuals:                    1240   BIC:                            -1995.\n",
       "Df Model:                           3                                         \n",
       "Covariance Type:            nonrobust                                         \n",
       "==============================================================================\n",
       "                 coef    std err          t      P>|t|      [0.025      0.975]\n",
       "------------------------------------------------------------------------------\n",
       "const         -0.0015      0.003     -0.498      0.619      -0.008       0.004\n",
       "Mkt-RF         0.0235      0.004      5.910      0.000       0.016       0.031\n",
       "SMB            0.0295      0.006      4.581      0.000       0.017       0.042\n",
       "HML            0.0021      0.007      0.323      0.747      -0.011       0.015\n",
       "==============================================================================\n",
       "Omnibus:                      630.208   Durbin-Watson:                   2.022\n",
       "Prob(Omnibus):                  0.000   Jarque-Bera (JB):            21747.027\n",
       "Skew:                           1.702   Prob(JB):                         0.00\n",
       "Kurtosis:                      23.198   Cond. No.                         2.33\n",
       "==============================================================================\n",
       "\n",
       "Warnings:\n",
       "[1] Standard Errors assume that the covariance matrix of the errors is correctly specified.\n",
       "\"\"\""
      ]
     },
     "execution_count": 1316,
     "metadata": {},
     "output_type": "execute_result"
    }
   ],
   "source": [
    "three_factor_OLS = sm.OLS(y, x_three.values)\n",
    "three_factor_results = three_factor_OLS.fit()\n",
    "three_factor_results.summary(xname = ['const'] + three_factors)"
   ]
  },
  {
   "cell_type": "code",
   "execution_count": 1317,
   "metadata": {
    "scrolled": false
   },
   "outputs": [
    {
     "data": {
      "text/html": [
       "<table class=\"simpletable\">\n",
       "<caption>OLS Regression Results</caption>\n",
       "<tr>\n",
       "  <th>Dep. Variable:</th>         <td>Returns</td>     <th>  R-squared:         </th> <td>   0.065</td>\n",
       "</tr>\n",
       "<tr>\n",
       "  <th>Model:</th>                   <td>OLS</td>       <th>  Adj. R-squared:    </th> <td>   0.061</td>\n",
       "</tr>\n",
       "<tr>\n",
       "  <th>Method:</th>             <td>Least Squares</td>  <th>  F-statistic:       </th> <td>   17.13</td>\n",
       "</tr>\n",
       "<tr>\n",
       "  <th>Date:</th>             <td>Thu, 16 Nov 2017</td> <th>  Prob (F-statistic):</th> <td>2.07e-16</td>\n",
       "</tr>\n",
       "<tr>\n",
       "  <th>Time:</th>                 <td>15:49:31</td>     <th>  Log-Likelihood:    </th> <td>  1018.2</td>\n",
       "</tr>\n",
       "<tr>\n",
       "  <th>No. Observations:</th>      <td>  1244</td>      <th>  AIC:               </th> <td>  -2024.</td>\n",
       "</tr>\n",
       "<tr>\n",
       "  <th>Df Residuals:</th>          <td>  1238</td>      <th>  BIC:               </th> <td>  -1994.</td>\n",
       "</tr>\n",
       "<tr>\n",
       "  <th>Df Model:</th>              <td>     5</td>      <th>                     </th>     <td> </td>   \n",
       "</tr>\n",
       "<tr>\n",
       "  <th>Covariance Type:</th>      <td>nonrobust</td>    <th>                     </th>     <td> </td>   \n",
       "</tr>\n",
       "</table>\n",
       "<table class=\"simpletable\">\n",
       "<tr>\n",
       "     <td></td>       <th>coef</th>     <th>std err</th>      <th>t</th>      <th>P>|t|</th>  <th>[0.025</th>    <th>0.975]</th>  \n",
       "</tr>\n",
       "<tr>\n",
       "  <th>const</th>  <td>   -0.0015</td> <td>    0.003</td> <td>   -0.485</td> <td> 0.628</td> <td>   -0.007</td> <td>    0.004</td>\n",
       "</tr>\n",
       "<tr>\n",
       "  <th>Mkt-RF</th> <td>    0.0275</td> <td>    0.004</td> <td>    6.537</td> <td> 0.000</td> <td>    0.019</td> <td>    0.036</td>\n",
       "</tr>\n",
       "<tr>\n",
       "  <th>SMB</th>    <td>    0.0326</td> <td>    0.007</td> <td>    4.853</td> <td> 0.000</td> <td>    0.019</td> <td>    0.046</td>\n",
       "</tr>\n",
       "<tr>\n",
       "  <th>HML</th>    <td>   -0.0173</td> <td>    0.008</td> <td>   -2.047</td> <td> 0.041</td> <td>   -0.034</td> <td>   -0.001</td>\n",
       "</tr>\n",
       "<tr>\n",
       "  <th>RMW</th>    <td>    0.0107</td> <td>    0.011</td> <td>    0.971</td> <td> 0.332</td> <td>   -0.011</td> <td>    0.032</td>\n",
       "</tr>\n",
       "<tr>\n",
       "  <th>CMA</th>    <td>    0.0423</td> <td>    0.014</td> <td>    3.095</td> <td> 0.002</td> <td>    0.015</td> <td>    0.069</td>\n",
       "</tr>\n",
       "</table>\n",
       "<table class=\"simpletable\">\n",
       "<tr>\n",
       "  <th>Omnibus:</th>       <td>644.306</td> <th>  Durbin-Watson:     </th> <td>   2.021</td> \n",
       "</tr>\n",
       "<tr>\n",
       "  <th>Prob(Omnibus):</th> <td> 0.000</td>  <th>  Jarque-Bera (JB):  </th> <td>22861.537</td>\n",
       "</tr>\n",
       "<tr>\n",
       "  <th>Skew:</th>          <td> 1.751</td>  <th>  Prob(JB):          </th> <td>    0.00</td> \n",
       "</tr>\n",
       "<tr>\n",
       "  <th>Kurtosis:</th>      <td>23.707</td>  <th>  Cond. No.          </th> <td>    4.99</td> \n",
       "</tr>\n",
       "</table>"
      ],
      "text/plain": [
       "<class 'statsmodels.iolib.summary.Summary'>\n",
       "\"\"\"\n",
       "                            OLS Regression Results                            \n",
       "==============================================================================\n",
       "Dep. Variable:                Returns   R-squared:                       0.065\n",
       "Model:                            OLS   Adj. R-squared:                  0.061\n",
       "Method:                 Least Squares   F-statistic:                     17.13\n",
       "Date:                Thu, 16 Nov 2017   Prob (F-statistic):           2.07e-16\n",
       "Time:                        15:49:31   Log-Likelihood:                 1018.2\n",
       "No. Observations:                1244   AIC:                            -2024.\n",
       "Df Residuals:                    1238   BIC:                            -1994.\n",
       "Df Model:                           5                                         \n",
       "Covariance Type:            nonrobust                                         \n",
       "==============================================================================\n",
       "                 coef    std err          t      P>|t|      [0.025      0.975]\n",
       "------------------------------------------------------------------------------\n",
       "const         -0.0015      0.003     -0.485      0.628      -0.007       0.004\n",
       "Mkt-RF         0.0275      0.004      6.537      0.000       0.019       0.036\n",
       "SMB            0.0326      0.007      4.853      0.000       0.019       0.046\n",
       "HML           -0.0173      0.008     -2.047      0.041      -0.034      -0.001\n",
       "RMW            0.0107      0.011      0.971      0.332      -0.011       0.032\n",
       "CMA            0.0423      0.014      3.095      0.002       0.015       0.069\n",
       "==============================================================================\n",
       "Omnibus:                      644.306   Durbin-Watson:                   2.021\n",
       "Prob(Omnibus):                  0.000   Jarque-Bera (JB):            22861.537\n",
       "Skew:                           1.751   Prob(JB):                         0.00\n",
       "Kurtosis:                      23.707   Cond. No.                         4.99\n",
       "==============================================================================\n",
       "\n",
       "Warnings:\n",
       "[1] Standard Errors assume that the covariance matrix of the errors is correctly specified.\n",
       "\"\"\""
      ]
     },
     "execution_count": 1317,
     "metadata": {},
     "output_type": "execute_result"
    }
   ],
   "source": [
    "five_factor_OLS = sm.OLS(y, x_five.values)\n",
    "five_factor_results = five_factor_OLS.fit()\n",
    "five_factor_results.summary(xname = ['const'] + five_factors)"
   ]
  },
  {
   "cell_type": "code",
   "execution_count": 1318,
   "metadata": {},
   "outputs": [],
   "source": [
    "capm_df = pd.read_csv('SPY.csv',index_col = 'Date')"
   ]
  },
  {
   "cell_type": "code",
   "execution_count": 1319,
   "metadata": {},
   "outputs": [],
   "source": [
    "capm_df.index = pd.to_datetime(capm_df.index)"
   ]
  },
  {
   "cell_type": "code",
   "execution_count": 1320,
   "metadata": {},
   "outputs": [],
   "source": [
    "df_train_capm = portfolio_values\n",
    "df_train_capm['Market'] = np.log(capm_df['Close']) - np.log(capm_df['Open'])"
   ]
  },
  {
   "cell_type": "code",
   "execution_count": 1321,
   "metadata": {},
   "outputs": [],
   "source": [
    "x_capm = sm.add_constant(df_train_capm['Market'])\n",
    "y_capm = df_train_capm['Returns']"
   ]
  },
  {
   "cell_type": "code",
   "execution_count": 1322,
   "metadata": {},
   "outputs": [
    {
     "data": {
      "text/html": [
       "<table class=\"simpletable\">\n",
       "<caption>OLS Regression Results</caption>\n",
       "<tr>\n",
       "  <th>Dep. Variable:</th>         <td>Returns</td>     <th>  R-squared:         </th> <td>   0.053</td>\n",
       "</tr>\n",
       "<tr>\n",
       "  <th>Model:</th>                   <td>OLS</td>       <th>  Adj. R-squared:    </th> <td>   0.053</td>\n",
       "</tr>\n",
       "<tr>\n",
       "  <th>Method:</th>             <td>Least Squares</td>  <th>  F-statistic:       </th> <td>   71.92</td>\n",
       "</tr>\n",
       "<tr>\n",
       "  <th>Date:</th>             <td>Thu, 16 Nov 2017</td> <th>  Prob (F-statistic):</th> <td>6.12e-17</td>\n",
       "</tr>\n",
       "<tr>\n",
       "  <th>Time:</th>                 <td>15:49:31</td>     <th>  Log-Likelihood:    </th> <td>  1049.2</td>\n",
       "</tr>\n",
       "<tr>\n",
       "  <th>No. Observations:</th>      <td>  1277</td>      <th>  AIC:               </th> <td>  -2094.</td>\n",
       "</tr>\n",
       "<tr>\n",
       "  <th>Df Residuals:</th>          <td>  1275</td>      <th>  BIC:               </th> <td>  -2084.</td>\n",
       "</tr>\n",
       "<tr>\n",
       "  <th>Df Model:</th>              <td>     1</td>      <th>                     </th>     <td> </td>   \n",
       "</tr>\n",
       "<tr>\n",
       "  <th>Covariance Type:</th>      <td>nonrobust</td>    <th>                     </th>     <td> </td>   \n",
       "</tr>\n",
       "</table>\n",
       "<table class=\"simpletable\">\n",
       "<tr>\n",
       "     <td></td>       <th>coef</th>     <th>std err</th>      <th>t</th>      <th>P>|t|</th>  <th>[0.025</th>    <th>0.975]</th>  \n",
       "</tr>\n",
       "<tr>\n",
       "  <th>const</th>  <td>   -0.0006</td> <td>    0.003</td> <td>   -0.206</td> <td> 0.837</td> <td>   -0.006</td> <td>    0.005</td>\n",
       "</tr>\n",
       "<tr>\n",
       "  <th>Market</th> <td>    4.1713</td> <td>    0.492</td> <td>    8.481</td> <td> 0.000</td> <td>    3.206</td> <td>    5.136</td>\n",
       "</tr>\n",
       "</table>\n",
       "<table class=\"simpletable\">\n",
       "<tr>\n",
       "  <th>Omnibus:</th>       <td>601.310</td> <th>  Durbin-Watson:     </th> <td>   2.030</td> \n",
       "</tr>\n",
       "<tr>\n",
       "  <th>Prob(Omnibus):</th> <td> 0.000</td>  <th>  Jarque-Bera (JB):  </th> <td>19008.483</td>\n",
       "</tr>\n",
       "<tr>\n",
       "  <th>Skew:</th>          <td> 1.553</td>  <th>  Prob(JB):          </th> <td>    0.00</td> \n",
       "</tr>\n",
       "<tr>\n",
       "  <th>Kurtosis:</th>      <td>21.644</td>  <th>  Cond. No.          </th> <td>    165.</td> \n",
       "</tr>\n",
       "</table>"
      ],
      "text/plain": [
       "<class 'statsmodels.iolib.summary.Summary'>\n",
       "\"\"\"\n",
       "                            OLS Regression Results                            \n",
       "==============================================================================\n",
       "Dep. Variable:                Returns   R-squared:                       0.053\n",
       "Model:                            OLS   Adj. R-squared:                  0.053\n",
       "Method:                 Least Squares   F-statistic:                     71.92\n",
       "Date:                Thu, 16 Nov 2017   Prob (F-statistic):           6.12e-17\n",
       "Time:                        15:49:31   Log-Likelihood:                 1049.2\n",
       "No. Observations:                1277   AIC:                            -2094.\n",
       "Df Residuals:                    1275   BIC:                            -2084.\n",
       "Df Model:                           1                                         \n",
       "Covariance Type:            nonrobust                                         \n",
       "==============================================================================\n",
       "                 coef    std err          t      P>|t|      [0.025      0.975]\n",
       "------------------------------------------------------------------------------\n",
       "const         -0.0006      0.003     -0.206      0.837      -0.006       0.005\n",
       "Market         4.1713      0.492      8.481      0.000       3.206       5.136\n",
       "==============================================================================\n",
       "Omnibus:                      601.310   Durbin-Watson:                   2.030\n",
       "Prob(Omnibus):                  0.000   Jarque-Bera (JB):            19008.483\n",
       "Skew:                           1.553   Prob(JB):                         0.00\n",
       "Kurtosis:                      21.644   Cond. No.                         165.\n",
       "==============================================================================\n",
       "\n",
       "Warnings:\n",
       "[1] Standard Errors assume that the covariance matrix of the errors is correctly specified.\n",
       "\"\"\""
      ]
     },
     "execution_count": 1322,
     "metadata": {},
     "output_type": "execute_result"
    }
   ],
   "source": [
    "capm_OLS = sm.OLS(y_capm, x_capm)\n",
    "capm_results = capm_OLS.fit()\n",
    "capm_results.summary()"
   ]
  },
  {
   "cell_type": "markdown",
   "metadata": {},
   "source": [
    "**Out-of-sample evaluation**"
   ]
  },
  {
   "cell_type": "code",
   "execution_count": 1323,
   "metadata": {
    "collapsed": true
   },
   "outputs": [],
   "source": [
    "def split(x,y):\n",
    "    np.random.seed(9001)\n",
    "    msk = np.random.rand(len(x)) < .75\n",
    "    return x[msk], x[~msk], y[msk], y[~msk]"
   ]
  },
  {
   "cell_type": "code",
   "execution_count": 1324,
   "metadata": {
    "collapsed": true
   },
   "outputs": [],
   "source": [
    "x_train_three, x_test_three, y_train, y_test = split(x_three, y)"
   ]
  },
  {
   "cell_type": "code",
   "execution_count": 1325,
   "metadata": {},
   "outputs": [
    {
     "name": "stdout",
     "output_type": "stream",
     "text": [
      "Three factor test r2 of 0.037517106956969415\n"
     ]
    }
   ],
   "source": [
    "three_factor_OLS = sm.OLS(y_train, x_train_three.values)\n",
    "results_sm = three_factor_OLS.fit()\n",
    "print('Three factor test r2 of {}'.format(r2_score(y_test, results_sm.predict(x_test_three.values))))"
   ]
  },
  {
   "cell_type": "code",
   "execution_count": 1326,
   "metadata": {
    "collapsed": true
   },
   "outputs": [],
   "source": [
    "x_train_five, x_test_five, y_train, y_test = split(x_five, y)"
   ]
  },
  {
   "cell_type": "code",
   "execution_count": 1327,
   "metadata": {},
   "outputs": [
    {
     "name": "stdout",
     "output_type": "stream",
     "text": [
      "Five factor test r2 of 0.03861363794348216\n"
     ]
    }
   ],
   "source": [
    "five_factor_OLS = sm.OLS(y_train, x_train_five.values)\n",
    "results_sm = five_factor_OLS.fit()\n",
    "print('Five factor test r2 of {}'.format(r2_score(y_test, results_sm.predict(x_test_five.values))))"
   ]
  },
  {
   "cell_type": "code",
   "execution_count": 1328,
   "metadata": {},
   "outputs": [],
   "source": [
    "x_train_capm, x_test_capm, y_train_capm, y_test_capm = split(x_capm, y_capm)"
   ]
  },
  {
   "cell_type": "code",
   "execution_count": 1329,
   "metadata": {},
   "outputs": [
    {
     "name": "stdout",
     "output_type": "stream",
     "text": [
      "CAPM test r2 of 0.00987989942112033\n"
     ]
    }
   ],
   "source": [
    "capm_OLS = sm.OLS(y_train_capm, x_train_capm.values)\n",
    "results_sm = capm_OLS.fit()\n",
    "print('CAPM test r2 of {}'.format(r2_score(y_test_capm, results_sm.predict(x_test_capm.values))))"
   ]
  },
  {
   "cell_type": "markdown",
   "metadata": {},
   "source": [
    "**EDA for Value Factor**"
   ]
  },
  {
   "cell_type": "code",
   "execution_count": 1330,
   "metadata": {},
   "outputs": [],
   "source": [
    "value_df = pd.read_csv('RZV.csv', index_col = 'Date')"
   ]
  },
  {
   "cell_type": "code",
   "execution_count": 1331,
   "metadata": {
    "collapsed": true
   },
   "outputs": [],
   "source": [
    "value_df.index = pd.to_datetime(value_df.index)"
   ]
  },
  {
   "cell_type": "code",
   "execution_count": 1332,
   "metadata": {},
   "outputs": [],
   "source": [
    "df_value = portfolio_values\n",
    "df_value['Value'] = np.log(value_df['Close']) - np.log(value_df['Open'])\n",
    "df_value = df_value.dropna()"
   ]
  },
  {
   "cell_type": "code",
   "execution_count": 1333,
   "metadata": {},
   "outputs": [],
   "source": [
    "x_value = sm.add_constant(df_value['Value'])\n",
    "y_value = df_value['Returns']"
   ]
  },
  {
   "cell_type": "code",
   "execution_count": 1334,
   "metadata": {},
   "outputs": [
    {
     "data": {
      "text/html": [
       "<table class=\"simpletable\">\n",
       "<caption>OLS Regression Results</caption>\n",
       "<tr>\n",
       "  <th>Dep. Variable:</th>         <td>Returns</td>     <th>  R-squared:         </th> <td>   0.000</td> \n",
       "</tr>\n",
       "<tr>\n",
       "  <th>Model:</th>                   <td>OLS</td>       <th>  Adj. R-squared:    </th> <td>  -0.006</td> \n",
       "</tr>\n",
       "<tr>\n",
       "  <th>Method:</th>             <td>Least Squares</td>  <th>  F-statistic:       </th> <td>0.0001196</td>\n",
       "</tr>\n",
       "<tr>\n",
       "  <th>Date:</th>             <td>Thu, 16 Nov 2017</td> <th>  Prob (F-statistic):</th>  <td> 0.991</td>  \n",
       "</tr>\n",
       "<tr>\n",
       "  <th>Time:</th>                 <td>15:49:34</td>     <th>  Log-Likelihood:    </th> <td>  38.759</td> \n",
       "</tr>\n",
       "<tr>\n",
       "  <th>No. Observations:</th>      <td>   173</td>      <th>  AIC:               </th> <td>  -73.52</td> \n",
       "</tr>\n",
       "<tr>\n",
       "  <th>Df Residuals:</th>          <td>   171</td>      <th>  BIC:               </th> <td>  -67.21</td> \n",
       "</tr>\n",
       "<tr>\n",
       "  <th>Df Model:</th>              <td>     1</td>      <th>                     </th>     <td> </td>    \n",
       "</tr>\n",
       "<tr>\n",
       "  <th>Covariance Type:</th>      <td>nonrobust</td>    <th>                     </th>     <td> </td>    \n",
       "</tr>\n",
       "</table>\n",
       "<table class=\"simpletable\">\n",
       "<tr>\n",
       "    <td></td>       <th>coef</th>     <th>std err</th>      <th>t</th>      <th>P>|t|</th>  <th>[0.025</th>    <th>0.975]</th>  \n",
       "</tr>\n",
       "<tr>\n",
       "  <th>const</th> <td>    0.0113</td> <td>    0.015</td> <td>    0.762</td> <td> 0.447</td> <td>   -0.018</td> <td>    0.040</td>\n",
       "</tr>\n",
       "<tr>\n",
       "  <th>Value</th> <td>    0.0174</td> <td>    1.590</td> <td>    0.011</td> <td> 0.991</td> <td>   -3.121</td> <td>    3.156</td>\n",
       "</tr>\n",
       "</table>\n",
       "<table class=\"simpletable\">\n",
       "<tr>\n",
       "  <th>Omnibus:</th>       <td>95.794</td> <th>  Durbin-Watson:     </th> <td>   2.198</td> \n",
       "</tr>\n",
       "<tr>\n",
       "  <th>Prob(Omnibus):</th> <td> 0.000</td> <th>  Jarque-Bera (JB):  </th> <td> 862.706</td> \n",
       "</tr>\n",
       "<tr>\n",
       "  <th>Skew:</th>          <td> 1.833</td> <th>  Prob(JB):          </th> <td>4.63e-188</td>\n",
       "</tr>\n",
       "<tr>\n",
       "  <th>Kurtosis:</th>      <td>13.307</td> <th>  Cond. No.          </th> <td>    108.</td> \n",
       "</tr>\n",
       "</table>"
      ],
      "text/plain": [
       "<class 'statsmodels.iolib.summary.Summary'>\n",
       "\"\"\"\n",
       "                            OLS Regression Results                            \n",
       "==============================================================================\n",
       "Dep. Variable:                Returns   R-squared:                       0.000\n",
       "Model:                            OLS   Adj. R-squared:                 -0.006\n",
       "Method:                 Least Squares   F-statistic:                 0.0001196\n",
       "Date:                Thu, 16 Nov 2017   Prob (F-statistic):              0.991\n",
       "Time:                        15:49:34   Log-Likelihood:                 38.759\n",
       "No. Observations:                 173   AIC:                            -73.52\n",
       "Df Residuals:                     171   BIC:                            -67.21\n",
       "Df Model:                           1                                         \n",
       "Covariance Type:            nonrobust                                         \n",
       "==============================================================================\n",
       "                 coef    std err          t      P>|t|      [0.025      0.975]\n",
       "------------------------------------------------------------------------------\n",
       "const          0.0113      0.015      0.762      0.447      -0.018       0.040\n",
       "Value          0.0174      1.590      0.011      0.991      -3.121       3.156\n",
       "==============================================================================\n",
       "Omnibus:                       95.794   Durbin-Watson:                   2.198\n",
       "Prob(Omnibus):                  0.000   Jarque-Bera (JB):              862.706\n",
       "Skew:                           1.833   Prob(JB):                    4.63e-188\n",
       "Kurtosis:                      13.307   Cond. No.                         108.\n",
       "==============================================================================\n",
       "\n",
       "Warnings:\n",
       "[1] Standard Errors assume that the covariance matrix of the errors is correctly specified.\n",
       "\"\"\""
      ]
     },
     "execution_count": 1334,
     "metadata": {},
     "output_type": "execute_result"
    }
   ],
   "source": [
    "value_OLS = sm.OLS(y_value, x_value)\n",
    "value_results = value_OLS.fit()\n",
    "value_results.summary()"
   ]
  },
  {
   "cell_type": "code",
   "execution_count": 1335,
   "metadata": {
    "scrolled": false
   },
   "outputs": [
    {
     "name": "stdout",
     "output_type": "stream",
     "text": [
      "Value factor test r2 of -0.02156766348128336\n"
     ]
    }
   ],
   "source": [
    "x_train_value, x_test_value, y_train_value, y_test_value = split(x_value, y_value)\n",
    "value_OLS = sm.OLS(y_train_value.values, x_train_value.values)\n",
    "results_sm = value_OLS.fit()\n",
    "print('Value factor test r2 of {}'.format(r2_score(y_test_value, results_sm.predict(x_test_value.values))))"
   ]
  },
  {
   "cell_type": "code",
   "execution_count": 1336,
   "metadata": {},
   "outputs": [],
   "source": [
    "x_value = df_five['SMB']\n",
    "y_value = df_five['Returns']"
   ]
  },
  {
   "cell_type": "code",
   "execution_count": 1337,
   "metadata": {},
   "outputs": [
    {
     "name": "stdout",
     "output_type": "stream",
     "text": [
      "Value factor test r2 of 0.04018357532819217\n"
     ]
    }
   ],
   "source": [
    "x_train_value, x_test_value, y_train_value, y_test_value = split(x_value, y_value)\n",
    "value_OLS = sm.OLS(y_train_value.values, x_train_value.values)\n",
    "results_sm = value_OLS.fit()\n",
    "print('Value factor test r2 of {}'.format(r2_score(y_test_value, results_sm.predict(x_test_value.values))))"
   ]
  },
  {
   "cell_type": "code",
   "execution_count": 1338,
   "metadata": {},
   "outputs": [
    {
     "data": {
      "text/html": [
       "<div>\n",
       "<style>\n",
       "    .dataframe thead tr:only-child th {\n",
       "        text-align: right;\n",
       "    }\n",
       "\n",
       "    .dataframe thead th {\n",
       "        text-align: left;\n",
       "    }\n",
       "\n",
       "    .dataframe tbody tr th {\n",
       "        vertical-align: top;\n",
       "    }\n",
       "</style>\n",
       "<table border=\"1\" class=\"dataframe\">\n",
       "  <thead>\n",
       "    <tr style=\"text-align: right;\">\n",
       "      <th></th>\n",
       "      <th>Adj Close</th>\n",
       "      <th>Close</th>\n",
       "      <th>High</th>\n",
       "      <th>Last Price</th>\n",
       "      <th>Low</th>\n",
       "      <th>Open</th>\n",
       "      <th>Returns</th>\n",
       "      <th>SMAVG (15)</th>\n",
       "      <th>Volume</th>\n",
       "    </tr>\n",
       "    <tr>\n",
       "      <th>Stock</th>\n",
       "      <th></th>\n",
       "      <th></th>\n",
       "      <th></th>\n",
       "      <th></th>\n",
       "      <th></th>\n",
       "      <th></th>\n",
       "      <th></th>\n",
       "      <th></th>\n",
       "      <th></th>\n",
       "    </tr>\n",
       "  </thead>\n",
       "  <tbody>\n",
       "    <tr>\n",
       "      <th>AXLE</th>\n",
       "      <td>NaN</td>\n",
       "      <td>NaN</td>\n",
       "      <td>NaN</td>\n",
       "      <td>116982.6</td>\n",
       "      <td>NaN</td>\n",
       "      <td>NaN</td>\n",
       "      <td>-0.064197</td>\n",
       "      <td>1265301.0</td>\n",
       "      <td>1299915.0</td>\n",
       "    </tr>\n",
       "    <tr>\n",
       "      <th>DXLG</th>\n",
       "      <td>5971.330000</td>\n",
       "      <td>5.971330e+06</td>\n",
       "      <td>6094.660000</td>\n",
       "      <td>NaN</td>\n",
       "      <td>5844.010000</td>\n",
       "      <td>5.975170e+06</td>\n",
       "      <td>-1.074313</td>\n",
       "      <td>NaN</td>\n",
       "      <td>207148100.0</td>\n",
       "    </tr>\n",
       "    <tr>\n",
       "      <th>LEE</th>\n",
       "      <td>3396.350000</td>\n",
       "      <td>1.443449e+06</td>\n",
       "      <td>3484.690000</td>\n",
       "      <td>NaN</td>\n",
       "      <td>3307.860000</td>\n",
       "      <td>1.444231e+06</td>\n",
       "      <td>-0.879988</td>\n",
       "      <td>NaN</td>\n",
       "      <td>328566100.0</td>\n",
       "    </tr>\n",
       "    <tr>\n",
       "      <th>NUSMF</th>\n",
       "      <td>361.000000</td>\n",
       "      <td>2.888000e+06</td>\n",
       "      <td>373.870000</td>\n",
       "      <td>NaN</td>\n",
       "      <td>347.280000</td>\n",
       "      <td>2.885840e+06</td>\n",
       "      <td>0.814529</td>\n",
       "      <td>NaN</td>\n",
       "      <td>127931200.0</td>\n",
       "    </tr>\n",
       "    <tr>\n",
       "      <th>RHDGF</th>\n",
       "      <td>16510.290043</td>\n",
       "      <td>2.054872e+06</td>\n",
       "      <td>18756.985110</td>\n",
       "      <td>NaN</td>\n",
       "      <td>18595.037589</td>\n",
       "      <td>2.053733e+06</td>\n",
       "      <td>0.517415</td>\n",
       "      <td>NaN</td>\n",
       "      <td>5975789.0</td>\n",
       "    </tr>\n",
       "    <tr>\n",
       "      <th>USAK</th>\n",
       "      <td>17906.519996</td>\n",
       "      <td>3.223174e+06</td>\n",
       "      <td>18358.069998</td>\n",
       "      <td>NaN</td>\n",
       "      <td>17472.149995</td>\n",
       "      <td>3.221932e+06</td>\n",
       "      <td>1.089502</td>\n",
       "      <td>NaN</td>\n",
       "      <td>81805100.0</td>\n",
       "    </tr>\n",
       "  </tbody>\n",
       "</table>\n",
       "</div>"
      ],
      "text/plain": [
       "          Adj Close         Close          High  Last Price           Low  \\\n",
       "Stock                                                                       \n",
       "AXLE            NaN           NaN           NaN    116982.6           NaN   \n",
       "DXLG    5971.330000  5.971330e+06   6094.660000         NaN   5844.010000   \n",
       "LEE     3396.350000  1.443449e+06   3484.690000         NaN   3307.860000   \n",
       "NUSMF    361.000000  2.888000e+06    373.870000         NaN    347.280000   \n",
       "RHDGF  16510.290043  2.054872e+06  18756.985110         NaN  18595.037589   \n",
       "USAK   17906.519996  3.223174e+06  18358.069998         NaN  17472.149995   \n",
       "\n",
       "               Open   Returns  SMAVG (15)       Volume  \n",
       "Stock                                                   \n",
       "AXLE            NaN -0.064197   1265301.0    1299915.0  \n",
       "DXLG   5.975170e+06 -1.074313         NaN  207148100.0  \n",
       "LEE    1.444231e+06 -0.879988         NaN  328566100.0  \n",
       "NUSMF  2.885840e+06  0.814529         NaN  127931200.0  \n",
       "RHDGF  2.053733e+06  0.517415         NaN    5975789.0  \n",
       "USAK   3.221932e+06  1.089502         NaN   81805100.0  "
      ]
     },
     "execution_count": 1338,
     "metadata": {},
     "output_type": "execute_result"
    }
   ],
   "source": [
    "grouped_by_stock.sum()"
   ]
  },
  {
   "cell_type": "code",
   "execution_count": 1339,
   "metadata": {
    "scrolled": false
   },
   "outputs": [
    {
     "name": "stdout",
     "output_type": "stream",
     "text": [
      "                                     USAK                                     \n",
      "==============================================================================\n",
      "Dep. Variable:                Returns   R-squared:                       0.093\n",
      "Model:                            OLS   Adj. R-squared:                  0.088\n",
      "Method:                 Least Squares   F-statistic:                     18.88\n",
      "Date:                Thu, 16 Nov 2017   Prob (F-statistic):           6.63e-18\n",
      "Time:                        15:49:36   Log-Likelihood:                 1888.7\n",
      "No. Observations:                 926   AIC:                            -3765.\n",
      "Df Residuals:                     920   BIC:                            -3736.\n",
      "Df Model:                           5                                         \n",
      "Covariance Type:            nonrobust                                         \n",
      "==============================================================================\n",
      "                 coef    std err          t      P>|t|      [0.025      0.975]\n",
      "------------------------------------------------------------------------------\n",
      "const        8.11e-05      0.001      0.078      0.938      -0.002       0.002\n",
      "Mkt-RF         0.0090      0.001      6.222      0.000       0.006       0.012\n",
      "SMB            0.0135      0.002      5.932      0.000       0.009       0.018\n",
      "HML           -0.0010      0.003     -0.338      0.735      -0.007       0.005\n",
      "RMW            0.0059      0.004      1.555      0.120      -0.002       0.013\n",
      "CMA            0.0073      0.005      1.566      0.118      -0.002       0.017\n",
      "==============================================================================\n",
      "Omnibus:                      119.516   Durbin-Watson:                   1.861\n",
      "Prob(Omnibus):                  0.000   Jarque-Bera (JB):             1036.383\n",
      "Skew:                           0.220   Prob(JB):                    8.96e-226\n",
      "Kurtosis:                       8.164   Cond. No.                         4.98\n",
      "==============================================================================\n",
      "\n",
      "Warnings:\n",
      "[1] Standard Errors assume that the covariance matrix of the errors is correctly specified.\n",
      "                                    RHDGF                                     \n",
      "==============================================================================\n",
      "Dep. Variable:                Returns   R-squared:                       0.010\n",
      "Model:                            OLS   Adj. R-squared:                  0.003\n",
      "Method:                 Least Squares   F-statistic:                     1.369\n",
      "Date:                Thu, 16 Nov 2017   Prob (F-statistic):              0.234\n",
      "Time:                        15:49:36   Log-Likelihood:                 1977.6\n",
      "No. Observations:                 705   AIC:                            -3943.\n",
      "Df Residuals:                     699   BIC:                            -3916.\n",
      "Df Model:                           5                                         \n",
      "Covariance Type:            nonrobust                                         \n",
      "==============================================================================\n",
      "                 coef    std err          t      P>|t|      [0.025      0.975]\n",
      "------------------------------------------------------------------------------\n",
      "const          0.0002      0.001      0.418      0.676      -0.001       0.001\n",
      "Mkt-RF         0.0011      0.001      1.383      0.167      -0.000       0.003\n",
      "SMB            0.0009      0.001      0.699      0.485      -0.002       0.003\n",
      "HML            0.0020      0.002      1.307      0.192      -0.001       0.005\n",
      "RMW            0.0037      0.002      1.779      0.076      -0.000       0.008\n",
      "CMA           -0.0033      0.002     -1.345      0.179      -0.008       0.002\n",
      "==============================================================================\n",
      "Omnibus:                      490.792   Durbin-Watson:                   1.849\n",
      "Prob(Omnibus):                  0.000   Jarque-Bera (JB):            29014.619\n",
      "Skew:                           2.442   Prob(JB):                         0.00\n",
      "Kurtosis:                      34.046   Cond. No.                         4.88\n",
      "==============================================================================\n",
      "\n",
      "Warnings:\n",
      "[1] Standard Errors assume that the covariance matrix of the errors is correctly specified.\n",
      "                                     DXLG                                     \n",
      "==============================================================================\n",
      "Dep. Variable:                Returns   R-squared:                       0.125\n",
      "Model:                            OLS   Adj. R-squared:                  0.121\n",
      "Method:                 Least Squares   F-statistic:                     26.36\n",
      "Date:                Thu, 16 Nov 2017   Prob (F-statistic):           6.10e-25\n",
      "Time:                        15:49:36   Log-Likelihood:                 2072.8\n",
      "No. Observations:                 926   AIC:                            -4134.\n",
      "Df Residuals:                     920   BIC:                            -4105.\n",
      "Df Model:                           5                                         \n",
      "Covariance Type:            nonrobust                                         \n",
      "==============================================================================\n",
      "                 coef    std err          t      P>|t|      [0.025      0.975]\n",
      "------------------------------------------------------------------------------\n",
      "const         -0.0017      0.001     -1.947      0.052      -0.003    1.36e-05\n",
      "Mkt-RF         0.0058      0.001      4.889      0.000       0.003       0.008\n",
      "SMB            0.0170      0.002      9.147      0.000       0.013       0.021\n",
      "HML           -0.0037      0.002     -1.540      0.124      -0.008       0.001\n",
      "RMW            0.0077      0.003      2.467      0.014       0.002       0.014\n",
      "CMA            0.0099      0.004      2.592      0.010       0.002       0.017\n",
      "==============================================================================\n",
      "Omnibus:                      144.401   Durbin-Watson:                   2.084\n",
      "Prob(Omnibus):                  0.000   Jarque-Bera (JB):             1464.046\n",
      "Skew:                          -0.342   Prob(JB):                         0.00\n",
      "Kurtosis:                       9.122   Cond. No.                         4.98\n",
      "==============================================================================\n",
      "\n",
      "Warnings:\n",
      "[1] Standard Errors assume that the covariance matrix of the errors is correctly specified.\n",
      "                                    NUSMF                                     \n",
      "==============================================================================\n",
      "Dep. Variable:                Returns   R-squared:                       0.013\n",
      "Model:                            OLS   Adj. R-squared:                  0.008\n",
      "Method:                 Least Squares   F-statistic:                     2.458\n",
      "Date:                Thu, 16 Nov 2017   Prob (F-statistic):             0.0318\n",
      "Time:                        15:49:36   Log-Likelihood:                 1165.1\n",
      "No. Observations:                 926   AIC:                            -2318.\n",
      "Df Residuals:                     920   BIC:                            -2289.\n",
      "Df Model:                           5                                         \n",
      "Covariance Type:            nonrobust                                         \n",
      "==============================================================================\n",
      "                 coef    std err          t      P>|t|      [0.025      0.975]\n",
      "------------------------------------------------------------------------------\n",
      "const          0.0016      0.002      0.712      0.477      -0.003       0.006\n",
      "Mkt-RF         0.0082      0.003      2.576      0.010       0.002       0.014\n",
      "SMB           -0.0101      0.005     -2.043      0.041      -0.020      -0.000\n",
      "HML           -0.0107      0.006     -1.682      0.093      -0.023       0.002\n",
      "RMW            0.0063      0.008      0.755      0.451      -0.010       0.023\n",
      "CMA            0.0121      0.010      1.179      0.239      -0.008       0.032\n",
      "==============================================================================\n",
      "Omnibus:                      959.178   Durbin-Watson:                   2.036\n",
      "Prob(Omnibus):                  0.000   Jarque-Bera (JB):           187513.439\n",
      "Skew:                           4.362   Prob(JB):                         0.00\n",
      "Kurtosis:                      72.165   Cond. No.                         4.98\n",
      "==============================================================================\n",
      "\n",
      "Warnings:\n",
      "[1] Standard Errors assume that the covariance matrix of the errors is correctly specified.\n",
      "                                     LEE                                      \n",
      "==============================================================================\n",
      "Dep. Variable:                Returns   R-squared:                       0.029\n",
      "Model:                            OLS   Adj. R-squared:                  0.024\n",
      "Method:                 Least Squares   F-statistic:                     5.577\n",
      "Date:                Thu, 16 Nov 2017   Prob (F-statistic):           4.52e-05\n",
      "Time:                        15:49:37   Log-Likelihood:                 1833.4\n",
      "No. Observations:                 926   AIC:                            -3655.\n",
      "Df Residuals:                     920   BIC:                            -3626.\n",
      "Df Model:                           5                                         \n",
      "Covariance Type:            nonrobust                                         \n",
      "==============================================================================\n",
      "                 coef    std err          t      P>|t|      [0.025      0.975]\n",
      "------------------------------------------------------------------------------\n",
      "const         -0.0012      0.001     -1.070      0.285      -0.003       0.001\n",
      "Mkt-RF         0.0057      0.002      3.690      0.000       0.003       0.009\n",
      "SMB            0.0067      0.002      2.796      0.005       0.002       0.011\n",
      "HML            0.0011      0.003      0.370      0.711      -0.005       0.007\n",
      "RMW            0.0037      0.004      0.905      0.366      -0.004       0.012\n",
      "CMA            0.0007      0.005      0.131      0.896      -0.009       0.010\n",
      "==============================================================================\n",
      "Omnibus:                       77.299   Durbin-Watson:                   1.982\n",
      "Prob(Omnibus):                  0.000   Jarque-Bera (JB):              366.193\n",
      "Skew:                           0.191   Prob(JB):                     3.04e-80\n",
      "Kurtosis:                       6.057   Cond. No.                         4.98\n",
      "==============================================================================\n",
      "\n",
      "Warnings:\n",
      "[1] Standard Errors assume that the covariance matrix of the errors is correctly specified.\n"
     ]
    },
    {
     "name": "stdout",
     "output_type": "stream",
     "text": [
      "                                     AXLE                                     \n",
      "==============================================================================\n",
      "Dep. Variable:                Returns   R-squared:                       0.047\n",
      "Model:                            OLS   Adj. R-squared:                  0.008\n",
      "Method:                 Least Squares   F-statistic:                     1.198\n",
      "Date:                Thu, 16 Nov 2017   Prob (F-statistic):              0.314\n",
      "Time:                        15:49:37   Log-Likelihood:                 77.030\n",
      "No. Observations:                 127   AIC:                            -142.1\n",
      "Df Residuals:                     121   BIC:                            -125.0\n",
      "Df Model:                           5                                         \n",
      "Covariance Type:            nonrobust                                         \n",
      "==============================================================================\n",
      "                 coef    std err          t      P>|t|      [0.025      0.975]\n",
      "------------------------------------------------------------------------------\n",
      "const         -0.0023      0.012     -0.185      0.854      -0.027       0.022\n",
      "Mkt-RF         0.0192      0.018      1.087      0.279      -0.016       0.054\n",
      "SMB            0.0327      0.030      1.090      0.278      -0.027       0.092\n",
      "HML           -0.0613      0.042     -1.471      0.144      -0.144       0.021\n",
      "RMW           -0.0371      0.055     -0.672      0.503      -0.146       0.072\n",
      "CMA            0.1315      0.070      1.888      0.061      -0.006       0.269\n",
      "==============================================================================\n",
      "Omnibus:                        8.859   Durbin-Watson:                   2.121\n",
      "Prob(Omnibus):                  0.012   Jarque-Bera (JB):               14.866\n",
      "Skew:                           0.267   Prob(JB):                     0.000591\n",
      "Kurtosis:                       4.588   Cond. No.                         6.76\n",
      "==============================================================================\n",
      "\n",
      "Warnings:\n",
      "[1] Standard Errors assume that the covariance matrix of the errors is correctly specified.\n"
     ]
    }
   ],
   "source": [
    "for stock in stocks_held:\n",
    "    stock_group = grouped_by_stock.get_group(stock).groupby('Date').sum()\n",
    "    temp_df = pd.concat([stock_group, five_factor_df], axis=1, join='inner')\n",
    "    temp_df = temp_df[five_factors + ['Returns']].dropna()\n",
    "    x = sm.add_constant(temp_df[five_factors])\n",
    "    y = temp_df['Returns']\n",
    "    x_train, x_test, y_train, y_test = split(x, y)\n",
    "    OLS = sm.OLS(y_train, x_train)\n",
    "    results = OLS.fit()\n",
    "    print(results.summary(title=stock))"
   ]
  },
  {
   "cell_type": "code",
   "execution_count": null,
   "metadata": {
    "collapsed": true
   },
   "outputs": [],
   "source": []
  }
 ],
 "metadata": {
  "kernelspec": {
   "display_name": "Python 3",
   "language": "python",
   "name": "python3"
  },
  "language_info": {
   "codemirror_mode": {
    "name": "ipython",
    "version": 3
   },
   "file_extension": ".py",
   "mimetype": "text/x-python",
   "name": "python",
   "nbconvert_exporter": "python",
   "pygments_lexer": "ipython3",
   "version": "3.6.1"
  }
 },
 "nbformat": 4,
 "nbformat_minor": 2
}
